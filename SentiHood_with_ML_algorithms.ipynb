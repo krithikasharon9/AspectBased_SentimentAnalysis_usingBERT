{
  "nbformat": 4,
  "nbformat_minor": 0,
  "metadata": {
    "colab": {
      "name": "Copy of SentiHood with ML algorithms",
      "provenance": [],
      "toc_visible": true
    },
    "kernelspec": {
      "name": "python3",
      "display_name": "Python 3"
    },
    "language_info": {
      "name": "python"
    }
  },
  "cells": [
    {
      "cell_type": "markdown",
      "metadata": {
        "id": "1NaY_MoB60c2"
      },
      "source": [
        "# Machine Learning Algorithms with SentiHood data\n",
        " 1. Sentiment Analysis using only Text\n",
        "\n",
        " 2. Sentiment Analysis using Aspect and Text together\n",
        "\n",
        " 3. Sentiment Analysis using Text with one-hot encoding\n",
        "\n",
        "  \n"
      ]
    },
    {
      "cell_type": "markdown",
      "metadata": {
        "id": "ifTkNzyivbpn"
      },
      "source": [
        "## Importing Libraries"
      ]
    },
    {
      "cell_type": "code",
      "metadata": {
        "id": "spnqWl53afYi"
      },
      "source": [
        "import json\n",
        "from tqdm import tqdm\n",
        "import pandas as pd"
      ],
      "execution_count": 1,
      "outputs": []
    },
    {
      "cell_type": "code",
      "metadata": {
        "colab": {
          "base_uri": "https://localhost:8080/"
        },
        "id": "OKVm3dP0n73-",
        "outputId": "a2cdc51d-7a25-4b4a-ea65-b67bb7690ebd"
      },
      "source": [
        "from sklearn.naive_bayes import MultinomialNB\n",
        "from sklearn.model_selection import train_test_split\n",
        "from sklearn.feature_extraction.text import TfidfVectorizer\n",
        "import nltk\n",
        "from nltk.tokenize import word_tokenize  \n",
        "from sklearn.linear_model import LogisticRegression\n",
        "from sklearn import svm\n",
        "from collections import Counter\n",
        "from sklearn.preprocessing import LabelEncoder\n",
        "nltk.download('stopwords')\n",
        "nltk.download('punkt')\n",
        "from sklearn.metrics import  confusion_matrix\n",
        "from sklearn.metrics import accuracy_score\n",
        "from sklearn.metrics import roc_auc_score\n",
        "from nltk.stem import PorterStemmer\n",
        "from gensim.models import word2vec\n",
        "from sklearn.preprocessing import OneHotEncoder"
      ],
      "execution_count": 2,
      "outputs": [
        {
          "output_type": "stream",
          "text": [
            "[nltk_data] Downloading package stopwords to /root/nltk_data...\n",
            "[nltk_data]   Unzipping corpora/stopwords.zip.\n",
            "[nltk_data] Downloading package punkt to /root/nltk_data...\n",
            "[nltk_data]   Unzipping tokenizers/punkt.zip.\n"
          ],
          "name": "stdout"
        }
      ]
    },
    {
      "cell_type": "code",
      "metadata": {
        "colab": {
          "base_uri": "https://localhost:8080/"
        },
        "id": "J7DyePeIadVY",
        "outputId": "9e9838ba-7990-4be2-a5c4-fd654818f3b5"
      },
      "source": [
        "from google.colab import drive\n",
        "drive.mount('/content/drive',force_remount=True)\n"
      ],
      "execution_count": 3,
      "outputs": [
        {
          "output_type": "stream",
          "text": [
            "Mounted at /content/drive\n"
          ],
          "name": "stdout"
        }
      ]
    },
    {
      "cell_type": "markdown",
      "metadata": {
        "id": "LIGjxhTtvisH"
      },
      "source": [
        "## Processing Train dataSet"
      ]
    },
    {
      "cell_type": "code",
      "metadata": {
        "id": "dEOuEnoKc3DO"
      },
      "source": [
        "with open('/content/drive/My Drive/SentiHood/SentiHood Dataset/sentihood-train.json', 'r') as fp:\n",
        "    training_set = json.load(fp)"
      ],
      "execution_count": 4,
      "outputs": []
    },
    {
      "cell_type": "code",
      "metadata": {
        "id": "jzAAEWaCc5m5"
      },
      "source": [
        "locations = ['LOCATION1']\n",
        "aspects = ['dining', 'general', 'green-nature', 'live', 'multicultural', 'nightlife', 'price', 'quiet', 'safety', 'shopping', 'touristy', 'transit-location']\n",
        "\n",
        "for location in locations:\n",
        "\n",
        "  df = pd.DataFrame({'id': [], 'text': [],'aspect':[], 'sentiment': []})\n",
        "\n",
        "  ii = 0\n",
        "  for each_example in training_set:\n",
        "      id = str(int(each_example['id']))\n",
        "      text = each_example['text'].strip()\n",
        "      \n",
        "      # If `location` is present in the text, only then iterate over the  \n",
        "      # list of opinions to find suitable `location-aspect` datapoints.\n",
        "\n",
        "      if location in text:\n",
        "          aspect_found = False\n",
        "          \n",
        "          for opinion in each_example['opinions']:\n",
        "              # Checking if the current example contains a sentiment\n",
        "              # related to `location-aspect`\n",
        "              \n",
        "              if opinion['target_entity'] == location:\n",
        "                  df.loc[ii] = [id, text,opinion['aspect'], opinion['sentiment']]\n",
        "                  aspect_found = True\n",
        "                  ii += 1\n",
        "                  break\n",
        "          \n",
        "          # If no sentiment is found for `location-asppect` in current \n",
        "          # example, then add a datapoint with None.\n",
        "          \n",
        "          if not aspect_found:\n",
        "              df.loc[ii] = [id, text,opinion['aspect'], 'None']\n",
        "              ii += 1\n",
        "        "
      ],
      "execution_count": 5,
      "outputs": []
    },
    {
      "cell_type": "code",
      "metadata": {
        "colab": {
          "base_uri": "https://localhost:8080/",
          "height": 201
        },
        "id": "OH4MTWchewj5",
        "outputId": "2bf830b7-1509-4a9d-fea6-34ab0bb665df"
      },
      "source": [
        "df.head(5)"
      ],
      "execution_count": 6,
      "outputs": [
        {
          "output_type": "execute_result",
          "data": {
            "text/html": [
              "<div>\n",
              "<style scoped>\n",
              "    .dataframe tbody tr th:only-of-type {\n",
              "        vertical-align: middle;\n",
              "    }\n",
              "\n",
              "    .dataframe tbody tr th {\n",
              "        vertical-align: top;\n",
              "    }\n",
              "\n",
              "    .dataframe thead th {\n",
              "        text-align: right;\n",
              "    }\n",
              "</style>\n",
              "<table border=\"1\" class=\"dataframe\">\n",
              "  <thead>\n",
              "    <tr style=\"text-align: right;\">\n",
              "      <th></th>\n",
              "      <th>id</th>\n",
              "      <th>text</th>\n",
              "      <th>aspect</th>\n",
              "      <th>sentiment</th>\n",
              "    </tr>\n",
              "  </thead>\n",
              "  <tbody>\n",
              "    <tr>\n",
              "      <th>0</th>\n",
              "      <td>1430</td>\n",
              "      <td>LOCATION1 is transforming and the prices will ...</td>\n",
              "      <td>price</td>\n",
              "      <td>Negative</td>\n",
              "    </tr>\n",
              "    <tr>\n",
              "      <th>1</th>\n",
              "      <td>2013</td>\n",
              "      <td>Along LOCATION1 there are lots of Electronics ...</td>\n",
              "      <td>shopping</td>\n",
              "      <td>Positive</td>\n",
              "    </tr>\n",
              "    <tr>\n",
              "      <th>2</th>\n",
              "      <td>1244</td>\n",
              "      <td>And LOCATION1 is ten mins direct on the tube t...</td>\n",
              "      <td>transit-location</td>\n",
              "      <td>Positive</td>\n",
              "    </tr>\n",
              "    <tr>\n",
              "      <th>3</th>\n",
              "      <td>209</td>\n",
              "      <td>Another option is LOCATION1 which is very cent...</td>\n",
              "      <td>nightlife</td>\n",
              "      <td>Positive</td>\n",
              "    </tr>\n",
              "    <tr>\n",
              "      <th>4</th>\n",
              "      <td>2824</td>\n",
              "      <td>Best bet is around LOCATION2 and LOCATION1 are...</td>\n",
              "      <td>general</td>\n",
              "      <td>Positive</td>\n",
              "    </tr>\n",
              "  </tbody>\n",
              "</table>\n",
              "</div>"
            ],
            "text/plain": [
              "     id  ... sentiment\n",
              "0  1430  ...  Negative\n",
              "1  2013  ...  Positive\n",
              "2  1244  ...  Positive\n",
              "3   209  ...  Positive\n",
              "4  2824  ...  Positive\n",
              "\n",
              "[5 rows x 4 columns]"
            ]
          },
          "metadata": {
            "tags": []
          },
          "execution_count": 6
        }
      ]
    },
    {
      "cell_type": "code",
      "metadata": {
        "colab": {
          "base_uri": "https://localhost:8080/"
        },
        "id": "lmF3S8iU1Zjm",
        "outputId": "c77978fb-b12f-487c-eb6e-fd591a166ef7"
      },
      "source": [
        "pd.set_option('display.max_rows', None)\n",
        "pd.set_option('display.max_columns', None)\n",
        "pd.set_option('display.width', None)\n",
        "pd.set_option('display.max_colwidth', -1)"
      ],
      "execution_count": 7,
      "outputs": [
        {
          "output_type": "stream",
          "text": [
            "/usr/local/lib/python3.7/dist-packages/ipykernel_launcher.py:4: FutureWarning: Passing a negative integer is deprecated in version 1.0 and will not be supported in future version. Instead, use None to not limit the column width.\n",
            "  after removing the cwd from sys.path.\n"
          ],
          "name": "stderr"
        }
      ]
    },
    {
      "cell_type": "code",
      "metadata": {
        "colab": {
          "base_uri": "https://localhost:8080/",
          "height": 649
        },
        "id": "fciZBBqx1p1P",
        "outputId": "28cc9961-8252-4e10-a6d9-caa00c5d5b4a"
      },
      "source": [
        "df.head(20)"
      ],
      "execution_count": 8,
      "outputs": [
        {
          "output_type": "execute_result",
          "data": {
            "text/html": [
              "<div>\n",
              "<style scoped>\n",
              "    .dataframe tbody tr th:only-of-type {\n",
              "        vertical-align: middle;\n",
              "    }\n",
              "\n",
              "    .dataframe tbody tr th {\n",
              "        vertical-align: top;\n",
              "    }\n",
              "\n",
              "    .dataframe thead th {\n",
              "        text-align: right;\n",
              "    }\n",
              "</style>\n",
              "<table border=\"1\" class=\"dataframe\">\n",
              "  <thead>\n",
              "    <tr style=\"text-align: right;\">\n",
              "      <th></th>\n",
              "      <th>id</th>\n",
              "      <th>text</th>\n",
              "      <th>aspect</th>\n",
              "      <th>sentiment</th>\n",
              "    </tr>\n",
              "  </thead>\n",
              "  <tbody>\n",
              "    <tr>\n",
              "      <th>0</th>\n",
              "      <td>1430</td>\n",
              "      <td>LOCATION1 is transforming and the prices will go up and up</td>\n",
              "      <td>price</td>\n",
              "      <td>Negative</td>\n",
              "    </tr>\n",
              "    <tr>\n",
              "      <th>1</th>\n",
              "      <td>2013</td>\n",
              "      <td>Along LOCATION1 there are lots of Electronics shops (independent ones)</td>\n",
              "      <td>shopping</td>\n",
              "      <td>Positive</td>\n",
              "    </tr>\n",
              "    <tr>\n",
              "      <th>2</th>\n",
              "      <td>1244</td>\n",
              "      <td>And LOCATION1 is ten mins direct on the tube to LOCATION2:</td>\n",
              "      <td>transit-location</td>\n",
              "      <td>Positive</td>\n",
              "    </tr>\n",
              "    <tr>\n",
              "      <th>3</th>\n",
              "      <td>209</td>\n",
              "      <td>Another option is LOCATION1 which is very central and has tons of clubs/bars within walking distance of each other</td>\n",
              "      <td>nightlife</td>\n",
              "      <td>Positive</td>\n",
              "    </tr>\n",
              "    <tr>\n",
              "      <th>4</th>\n",
              "      <td>2824</td>\n",
              "      <td>Best bet is around LOCATION2 and LOCATION1 area in the northwest corner really nice</td>\n",
              "      <td>general</td>\n",
              "      <td>Positive</td>\n",
              "    </tr>\n",
              "    <tr>\n",
              "      <th>5</th>\n",
              "      <td>1835</td>\n",
              "      <td>Central London based taxis mostly refuse fares to suburban areas like LOCATION1</td>\n",
              "      <td>transit-location</td>\n",
              "      <td>Negative</td>\n",
              "    </tr>\n",
              "    <tr>\n",
              "      <th>6</th>\n",
              "      <td>1429</td>\n",
              "      <td>Don't go looking at places like LOCATION1  now that IS a rough area you really wouldn't want to live in</td>\n",
              "      <td>general</td>\n",
              "      <td>Negative</td>\n",
              "    </tr>\n",
              "    <tr>\n",
              "      <th>7</th>\n",
              "      <td>1404</td>\n",
              "      <td>Down here in South London the accent [local] tends to be a bit more Kent, while the accent [local] in LOCATION1 tends to be a bit more Essex and Hertfordshire</td>\n",
              "      <td>general</td>\n",
              "      <td>None</td>\n",
              "    </tr>\n",
              "    <tr>\n",
              "      <th>8</th>\n",
              "      <td>190</td>\n",
              "      <td>Everyone in LOCATION1 is now black or Bangladeshi</td>\n",
              "      <td>multicultural</td>\n",
              "      <td>Positive</td>\n",
              "    </tr>\n",
              "    <tr>\n",
              "      <th>9</th>\n",
              "      <td>1281</td>\n",
              "      <td>For gods sake don't move to LOCATION1 its horrible</td>\n",
              "      <td>general</td>\n",
              "      <td>Negative</td>\n",
              "    </tr>\n",
              "    <tr>\n",
              "      <th>10</th>\n",
              "      <td>2476</td>\n",
              "      <td>I also live in LOCATION1</td>\n",
              "      <td>general</td>\n",
              "      <td>None</td>\n",
              "    </tr>\n",
              "    <tr>\n",
              "      <th>11</th>\n",
              "      <td>957</td>\n",
              "      <td>I don't live in London but I know the gay part of London would be LOCATION1</td>\n",
              "      <td>general</td>\n",
              "      <td>None</td>\n",
              "    </tr>\n",
              "    <tr>\n",
              "      <th>12</th>\n",
              "      <td>1744</td>\n",
              "      <td>I dont like LOCATION1 at all</td>\n",
              "      <td>general</td>\n",
              "      <td>Negative</td>\n",
              "    </tr>\n",
              "    <tr>\n",
              "      <th>13</th>\n",
              "      <td>1735</td>\n",
              "      <td>I have friends living in LOCATION1 and love it</td>\n",
              "      <td>live</td>\n",
              "      <td>Positive</td>\n",
              "    </tr>\n",
              "    <tr>\n",
              "      <th>14</th>\n",
              "      <td>575</td>\n",
              "      <td>I have heard that LOCATION1 is the place to live in London</td>\n",
              "      <td>live</td>\n",
              "      <td>Positive</td>\n",
              "    </tr>\n",
              "    <tr>\n",
              "      <th>15</th>\n",
              "      <td>1191</td>\n",
              "      <td>I liv in LOCATION1 in LOCATION2 which is a place where a lot of violence happens wiv gangs e</td>\n",
              "      <td>safety</td>\n",
              "      <td>Negative</td>\n",
              "    </tr>\n",
              "    <tr>\n",
              "      <th>16</th>\n",
              "      <td>1696</td>\n",
              "      <td>I live in LOCATION1 and I cant say I recommend it</td>\n",
              "      <td>general</td>\n",
              "      <td>Positive</td>\n",
              "    </tr>\n",
              "    <tr>\n",
              "      <th>17</th>\n",
              "      <td>1210</td>\n",
              "      <td>I live in LOCATION1, been here 11 years with no problems</td>\n",
              "      <td>safety</td>\n",
              "      <td>Positive</td>\n",
              "    </tr>\n",
              "    <tr>\n",
              "      <th>18</th>\n",
              "      <td>508</td>\n",
              "      <td>I live in LOCATION1, there's great access to transport, some great pubs, beautiful houses in some areas, good schools</td>\n",
              "      <td>nightlife</td>\n",
              "      <td>Positive</td>\n",
              "    </tr>\n",
              "    <tr>\n",
              "      <th>19</th>\n",
              "      <td>949</td>\n",
              "      <td>I lived in LOCATION1  for ten years it was rough , it was sooo close to the centre of town but so cheap</td>\n",
              "      <td>safety</td>\n",
              "      <td>Negative</td>\n",
              "    </tr>\n",
              "  </tbody>\n",
              "</table>\n",
              "</div>"
            ],
            "text/plain": [
              "      id  \\\n",
              "0   1430   \n",
              "1   2013   \n",
              "2   1244   \n",
              "3   209    \n",
              "4   2824   \n",
              "5   1835   \n",
              "6   1429   \n",
              "7   1404   \n",
              "8   190    \n",
              "9   1281   \n",
              "10  2476   \n",
              "11  957    \n",
              "12  1744   \n",
              "13  1735   \n",
              "14  575    \n",
              "15  1191   \n",
              "16  1696   \n",
              "17  1210   \n",
              "18  508    \n",
              "19  949    \n",
              "\n",
              "                                                                                                                                                              text  \\\n",
              "0   LOCATION1 is transforming and the prices will go up and up                                                                                                       \n",
              "1   Along LOCATION1 there are lots of Electronics shops (independent ones)                                                                                           \n",
              "2   And LOCATION1 is ten mins direct on the tube to LOCATION2:                                                                                                       \n",
              "3   Another option is LOCATION1 which is very central and has tons of clubs/bars within walking distance of each other                                               \n",
              "4   Best bet is around LOCATION2 and LOCATION1 area in the northwest corner really nice                                                                              \n",
              "5   Central London based taxis mostly refuse fares to suburban areas like LOCATION1                                                                                  \n",
              "6   Don't go looking at places like LOCATION1  now that IS a rough area you really wouldn't want to live in                                                          \n",
              "7   Down here in South London the accent [local] tends to be a bit more Kent, while the accent [local] in LOCATION1 tends to be a bit more Essex and Hertfordshire   \n",
              "8   Everyone in LOCATION1 is now black or Bangladeshi                                                                                                                \n",
              "9   For gods sake don't move to LOCATION1 its horrible                                                                                                               \n",
              "10  I also live in LOCATION1                                                                                                                                         \n",
              "11  I don't live in London but I know the gay part of London would be LOCATION1                                                                                      \n",
              "12  I dont like LOCATION1 at all                                                                                                                                     \n",
              "13  I have friends living in LOCATION1 and love it                                                                                                                   \n",
              "14  I have heard that LOCATION1 is the place to live in London                                                                                                       \n",
              "15  I liv in LOCATION1 in LOCATION2 which is a place where a lot of violence happens wiv gangs e                                                                     \n",
              "16  I live in LOCATION1 and I cant say I recommend it                                                                                                                \n",
              "17  I live in LOCATION1, been here 11 years with no problems                                                                                                         \n",
              "18  I live in LOCATION1, there's great access to transport, some great pubs, beautiful houses in some areas, good schools                                            \n",
              "19  I lived in LOCATION1  for ten years it was rough , it was sooo close to the centre of town but so cheap                                                          \n",
              "\n",
              "              aspect sentiment  \n",
              "0   price             Negative  \n",
              "1   shopping          Positive  \n",
              "2   transit-location  Positive  \n",
              "3   nightlife         Positive  \n",
              "4   general           Positive  \n",
              "5   transit-location  Negative  \n",
              "6   general           Negative  \n",
              "7   general           None      \n",
              "8   multicultural     Positive  \n",
              "9   general           Negative  \n",
              "10  general           None      \n",
              "11  general           None      \n",
              "12  general           Negative  \n",
              "13  live              Positive  \n",
              "14  live              Positive  \n",
              "15  safety            Negative  \n",
              "16  general           Positive  \n",
              "17  safety            Positive  \n",
              "18  nightlife         Positive  \n",
              "19  safety            Negative  "
            ]
          },
          "metadata": {
            "tags": []
          },
          "execution_count": 8
        }
      ]
    },
    {
      "cell_type": "code",
      "metadata": {
        "colab": {
          "base_uri": "https://localhost:8080/"
        },
        "id": "0JN0wIhPe-MQ",
        "outputId": "c73c1aba-8f68-49ce-dfe4-69b7776222d0"
      },
      "source": [
        "print(Counter(df['sentiment']))\n",
        "print(Counter(df['aspect']))"
      ],
      "execution_count": 9,
      "outputs": [
        {
          "output_type": "stream",
          "text": [
            "Counter({'Positive': 1486, 'None': 956, 'Negative': 535})\n",
            "Counter({'general': 1226, 'price': 359, 'transit-location': 351, 'safety': 272, 'live': 209, 'shopping': 124, 'nightlife': 115, 'multicultural': 102, 'green-nature': 75, 'touristy': 54, 'dining': 49, 'quiet': 41})\n"
          ],
          "name": "stdout"
        }
      ]
    },
    {
      "cell_type": "markdown",
      "metadata": {
        "id": "jAj2xlTtv4tA"
      },
      "source": [
        "## Processing Validation data-set"
      ]
    },
    {
      "cell_type": "code",
      "metadata": {
        "id": "Ru2yqKucfp_d"
      },
      "source": [
        "with open('/content/drive/My Drive/SentiHood/SentiHood Dataset/sentihood-dev.json', 'r') as fp:\n",
        "    validation_set = json.load(fp)"
      ],
      "execution_count": 10,
      "outputs": []
    },
    {
      "cell_type": "code",
      "metadata": {
        "id": "znj-QSF0nOm8"
      },
      "source": [
        "locations = ['LOCATION1']\n",
        "aspects = ['dining', 'general', 'green-nature', 'live', 'multicultural', 'nightlife', 'price', 'quiet', 'safety', 'shopping', 'touristy', 'transit-location']\n",
        "\n",
        "for location in locations:\n",
        "\n",
        "  df_valid = pd.DataFrame({'id': [], 'text': [],'aspect':[], 'sentiment': []})\n",
        "\n",
        "  ii = 0\n",
        "  for each_example in validation_set:\n",
        "      id = str(int(each_example['id']))\n",
        "      text = each_example['text'].strip()\n",
        "      \n",
        "      # If `location` is present in the text, only then iterate over the  \n",
        "      # list of opinions to find suitable `location-aspect` datapoints.\n",
        "\n",
        "      if location in text:\n",
        "          aspect_found = False\n",
        "          \n",
        "          for opinion in each_example['opinions']:\n",
        "              # Checking if the current example contains a sentiment\n",
        "              # related to `location-aspect`\n",
        "              \n",
        "              if opinion['target_entity'] == location:\n",
        "                  df_valid.loc[ii] = [id, text,opinion['aspect'], opinion['sentiment']]\n",
        "                  aspect_found = True\n",
        "                  ii += 1\n",
        "                  break\n",
        "          \n",
        "          # If no sentiment is found for `location-asppect` in current \n",
        "          # example, then add a datapoint with None.\n",
        "          \n",
        "          if not aspect_found:\n",
        "              df_valid.loc[ii] = [id, text,opinion['aspect'], 'None']\n",
        "              ii += 1\n",
        "        \n",
        "\n",
        "        # df.to_csv('/content/drive/My Drive/SentiHood/Bert-single/TrainingData/' + str(location) + str(aspect) + '.csv', index=False)\n",
        "        # print(f\"{location}{aspect} DONE!\\tLength = {ii}\")"
      ],
      "execution_count": 11,
      "outputs": []
    },
    {
      "cell_type": "code",
      "metadata": {
        "colab": {
          "base_uri": "https://localhost:8080/",
          "height": 201
        },
        "id": "G5d-pL52nwt8",
        "outputId": "5809f7a5-4e94-4bd0-c954-6536cc5b5942"
      },
      "source": [
        "df_valid.head()"
      ],
      "execution_count": 12,
      "outputs": [
        {
          "output_type": "execute_result",
          "data": {
            "text/html": [
              "<div>\n",
              "<style scoped>\n",
              "    .dataframe tbody tr th:only-of-type {\n",
              "        vertical-align: middle;\n",
              "    }\n",
              "\n",
              "    .dataframe tbody tr th {\n",
              "        vertical-align: top;\n",
              "    }\n",
              "\n",
              "    .dataframe thead th {\n",
              "        text-align: right;\n",
              "    }\n",
              "</style>\n",
              "<table border=\"1\" class=\"dataframe\">\n",
              "  <thead>\n",
              "    <tr style=\"text-align: right;\">\n",
              "      <th></th>\n",
              "      <th>id</th>\n",
              "      <th>text</th>\n",
              "      <th>aspect</th>\n",
              "      <th>sentiment</th>\n",
              "    </tr>\n",
              "  </thead>\n",
              "  <tbody>\n",
              "    <tr>\n",
              "      <th>0</th>\n",
              "      <td>302</td>\n",
              "      <td>LOCATION1 is just a normal area that happens to have an alternative market</td>\n",
              "      <td>shopping</td>\n",
              "      <td>Positive</td>\n",
              "    </tr>\n",
              "    <tr>\n",
              "      <th>1</th>\n",
              "      <td>460</td>\n",
              "      <td>\" My mate then went on to ask: \"Well, isn't LOCATION2 considered PART of LOCATION1</td>\n",
              "      <td>shopping</td>\n",
              "      <td>None</td>\n",
              "    </tr>\n",
              "    <tr>\n",
              "      <th>2</th>\n",
              "      <td>582</td>\n",
              "      <td>\"I'm from LOCATION1 so I'm hard\"</td>\n",
              "      <td>shopping</td>\n",
              "      <td>None</td>\n",
              "    </tr>\n",
              "    <tr>\n",
              "      <th>3</th>\n",
              "      <td>465</td>\n",
              "      <td>'Bo-bos' - bourgeois bohemians - are particularly prevalent in these parts (these are the British equivalent of American Trustafarians - young boys and girls who have a rich mummy and daddy but who pretend to be poor) Its in the suburbs of London in LOCATION1</td>\n",
              "      <td>shopping</td>\n",
              "      <td>None</td>\n",
              "    </tr>\n",
              "    <tr>\n",
              "      <th>4</th>\n",
              "      <td>270</td>\n",
              "      <td>( I was born n maternity hospital in Clapton ) Lived in LOCATION2 and LOCATION1 , Not now though thanks</td>\n",
              "      <td>shopping</td>\n",
              "      <td>None</td>\n",
              "    </tr>\n",
              "  </tbody>\n",
              "</table>\n",
              "</div>"
            ],
            "text/plain": [
              "    id  \\\n",
              "0  302   \n",
              "1  460   \n",
              "2  582   \n",
              "3  465   \n",
              "4  270   \n",
              "\n",
              "                                                                                                                                                                                                                                                                  text  \\\n",
              "0  LOCATION1 is just a normal area that happens to have an alternative market                                                                                                                                                                                            \n",
              "1  \" My mate then went on to ask: \"Well, isn't LOCATION2 considered PART of LOCATION1                                                                                                                                                                                    \n",
              "2  \"I'm from LOCATION1 so I'm hard\"                                                                                                                                                                                                                                      \n",
              "3  'Bo-bos' - bourgeois bohemians - are particularly prevalent in these parts (these are the British equivalent of American Trustafarians - young boys and girls who have a rich mummy and daddy but who pretend to be poor) Its in the suburbs of London in LOCATION1   \n",
              "4  ( I was born n maternity hospital in Clapton ) Lived in LOCATION2 and LOCATION1 , Not now though thanks                                                                                                                                                               \n",
              "\n",
              "     aspect sentiment  \n",
              "0  shopping  Positive  \n",
              "1  shopping  None      \n",
              "2  shopping  None      \n",
              "3  shopping  None      \n",
              "4  shopping  None      "
            ]
          },
          "metadata": {
            "tags": []
          },
          "execution_count": 12
        }
      ]
    },
    {
      "cell_type": "code",
      "metadata": {
        "id": "QtBXJ2t4oREV",
        "colab": {
          "base_uri": "https://localhost:8080/"
        },
        "outputId": "7d69075c-3f55-4a6d-ca1e-d8e0988e0542"
      },
      "source": [
        "df_valid.shape"
      ],
      "execution_count": 13,
      "outputs": [
        {
          "output_type": "execute_result",
          "data": {
            "text/plain": [
              "(747, 4)"
            ]
          },
          "metadata": {
            "tags": []
          },
          "execution_count": 13
        }
      ]
    },
    {
      "cell_type": "code",
      "metadata": {
        "colab": {
          "base_uri": "https://localhost:8080/"
        },
        "id": "MjJrIwLNn0uo",
        "outputId": "fbe3eeac-fc1f-48d1-9ea1-1ea51b4ab88d"
      },
      "source": [
        "print(Counter(df_valid['sentiment']))\n",
        "print(Counter(df_valid['aspect']))"
      ],
      "execution_count": 14,
      "outputs": [
        {
          "output_type": "stream",
          "text": [
            "Counter({'Positive': 374, 'None': 242, 'Negative': 131})\n",
            "Counter({'general': 293, 'transit-location': 98, 'price': 84, 'safety': 83, 'live': 58, 'shopping': 37, 'nightlife': 21, 'multicultural': 21, 'dining': 15, 'green-nature': 14, 'quiet': 13, 'touristy': 10})\n"
          ],
          "name": "stdout"
        }
      ]
    },
    {
      "cell_type": "markdown",
      "metadata": {
        "id": "PveH85sKxqBD"
      },
      "source": [
        "## Processing Test data-set "
      ]
    },
    {
      "cell_type": "code",
      "metadata": {
        "id": "kLbYpukNwEPX"
      },
      "source": [
        "with open('/content/drive/My Drive/SentiHood/SentiHood Dataset/sentihood-test.json', 'r') as fp:\n",
        "    testing_set = json.load(fp)  "
      ],
      "execution_count": 15,
      "outputs": []
    },
    {
      "cell_type": "code",
      "metadata": {
        "id": "WL2Ev85Dxv9S"
      },
      "source": [
        "locations = ['LOCATION1']\n",
        "aspects = ['dining', 'general', 'green-nature', 'live', 'multicultural', 'nightlife', 'price', 'quiet', 'safety', 'shopping', 'touristy', 'transit-location']\n",
        "\n",
        "for location in locations:\n",
        "\n",
        "  df_test = pd.DataFrame({'id': [], 'text': [],'aspect':[], 'sentiment': []})\n",
        "\n",
        "  ii = 0\n",
        "  for each_example in testing_set:\n",
        "      id = str(int(each_example['id']))\n",
        "      text = each_example['text'].strip()\n",
        "      \n",
        "      # If `location` is present in the text, only then iterate over the  \n",
        "      # list of opinions to find suitable `location-aspect` datapoints.\n",
        "\n",
        "      if location in text:\n",
        "          aspect_found = False\n",
        "          \n",
        "          for opinion in each_example['opinions']:\n",
        "              # Checking if the current example contains a sentiment\n",
        "              # related to `location-aspect`\n",
        "              \n",
        "              if opinion['target_entity'] == location:\n",
        "                  df_test.loc[ii] = [id, text,opinion['aspect'], opinion['sentiment']]\n",
        "                  aspect_found = True\n",
        "                  ii += 1\n",
        "                  break\n",
        "          \n",
        "          # If no sentiment is found for `location-asppect` in current \n",
        "          # example, then add a datapoint with None.\n",
        "          \n",
        "          if not aspect_found:\n",
        "              df_test.loc[ii] = [id, text,opinion['aspect'], 'None']\n",
        "              ii += 1"
      ],
      "execution_count": 16,
      "outputs": []
    },
    {
      "cell_type": "code",
      "metadata": {
        "colab": {
          "base_uri": "https://localhost:8080/"
        },
        "id": "OX_aUQUIycmo",
        "outputId": "67ac05ef-7a79-4191-fce3-d50a1adb516c"
      },
      "source": [
        "print(Counter(df_test['sentiment']))\n",
        "print(Counter(df_test['aspect']))"
      ],
      "execution_count": 17,
      "outputs": [
        {
          "output_type": "stream",
          "text": [
            "Counter({'Positive': 719, 'None': 491, 'Negative': 281})\n",
            "Counter({'general': 628, 'safety': 179, 'transit-location': 177, 'price': 146, 'live': 100, 'nightlife': 55, 'multicultural': 50, 'shopping': 49, 'green-nature': 39, 'touristy': 29, 'dining': 22, 'quiet': 17})\n"
          ],
          "name": "stdout"
        }
      ]
    },
    {
      "cell_type": "markdown",
      "metadata": {
        "id": "MjSZBkmNwEv8"
      },
      "source": [
        "## Data Cleaning"
      ]
    },
    {
      "cell_type": "code",
      "metadata": {
        "id": "Ugk4olKVyhAu"
      },
      "source": [
        "# Combining training, validation and testing data into final_data\n",
        "data=[df,df_valid,df_test]\n",
        "Final_data=pd.concat(data)    "
      ],
      "execution_count": 18,
      "outputs": []
    },
    {
      "cell_type": "code",
      "metadata": {
        "colab": {
          "base_uri": "https://localhost:8080/"
        },
        "id": "tQ-pFVbIzFQn",
        "outputId": "baf321d2-1ade-46d3-8456-7bbb1bc5700e"
      },
      "source": [
        "Final_data.shape"
      ],
      "execution_count": 19,
      "outputs": [
        {
          "output_type": "execute_result",
          "data": {
            "text/plain": [
              "(5215, 4)"
            ]
          },
          "metadata": {
            "tags": []
          },
          "execution_count": 19
        }
      ]
    },
    {
      "cell_type": "code",
      "metadata": {
        "colab": {
          "base_uri": "https://localhost:8080/",
          "height": 16
        },
        "id": "F1pfOsGYa5uz",
        "outputId": "ec448e3c-6ebc-4df8-b2d3-b0cb6bf6d2d3"
      },
      "source": [
        "from google.colab import files\n",
        "df.to_csv('Final_data.csv') \n",
        "files.download('Final_data.csv')"
      ],
      "execution_count": 20,
      "outputs": [
        {
          "output_type": "display_data",
          "data": {
            "application/javascript": [
              "\n",
              "    async function download(id, filename, size) {\n",
              "      if (!google.colab.kernel.accessAllowed) {\n",
              "        return;\n",
              "      }\n",
              "      const div = document.createElement('div');\n",
              "      const label = document.createElement('label');\n",
              "      label.textContent = `Downloading \"${filename}\": `;\n",
              "      div.appendChild(label);\n",
              "      const progress = document.createElement('progress');\n",
              "      progress.max = size;\n",
              "      div.appendChild(progress);\n",
              "      document.body.appendChild(div);\n",
              "\n",
              "      const buffers = [];\n",
              "      let downloaded = 0;\n",
              "\n",
              "      const channel = await google.colab.kernel.comms.open(id);\n",
              "      // Send a message to notify the kernel that we're ready.\n",
              "      channel.send({})\n",
              "\n",
              "      for await (const message of channel.messages) {\n",
              "        // Send a message to notify the kernel that we're ready.\n",
              "        channel.send({})\n",
              "        if (message.buffers) {\n",
              "          for (const buffer of message.buffers) {\n",
              "            buffers.push(buffer);\n",
              "            downloaded += buffer.byteLength;\n",
              "            progress.value = downloaded;\n",
              "          }\n",
              "        }\n",
              "      }\n",
              "      const blob = new Blob(buffers, {type: 'application/binary'});\n",
              "      const a = document.createElement('a');\n",
              "      a.href = window.URL.createObjectURL(blob);\n",
              "      a.download = filename;\n",
              "      div.appendChild(a);\n",
              "      a.click();\n",
              "      div.remove();\n",
              "    }\n",
              "  "
            ],
            "text/plain": [
              "<IPython.core.display.Javascript object>"
            ]
          },
          "metadata": {
            "tags": []
          }
        },
        {
          "output_type": "display_data",
          "data": {
            "application/javascript": [
              "download(\"download_142065e0-ef3c-412a-90ba-814551b06209\", \"Final_data.csv\", 334650)"
            ],
            "text/plain": [
              "<IPython.core.display.Javascript object>"
            ]
          },
          "metadata": {
            "tags": []
          }
        }
      ]
    },
    {
      "cell_type": "code",
      "metadata": {
        "id": "WOkUF-4BsUD9"
      },
      "source": [
        "# Changing aspect to labels\n",
        "label_encoder=LabelEncoder()\n",
        "integer_category = label_encoder.fit_transform(Final_data.aspect)\n",
        "Final_data['label_aspect']=pd.DataFrame(integer_category)\n",
        "\n",
        "# Changing sentiment to numerical label\n",
        "Final_data['sentiment']=Final_data['sentiment'].map({'None':0,'Negative':1,'Positive':2})"
      ],
      "execution_count": 21,
      "outputs": []
    },
    {
      "cell_type": "code",
      "metadata": {
        "colab": {
          "base_uri": "https://localhost:8080/",
          "height": 201
        },
        "id": "0z0G8-Myzn_i",
        "outputId": "4271614f-0193-46b8-8dba-640cd6dba49f"
      },
      "source": [
        "Final_data.head()"
      ],
      "execution_count": 22,
      "outputs": [
        {
          "output_type": "execute_result",
          "data": {
            "text/html": [
              "<div>\n",
              "<style scoped>\n",
              "    .dataframe tbody tr th:only-of-type {\n",
              "        vertical-align: middle;\n",
              "    }\n",
              "\n",
              "    .dataframe tbody tr th {\n",
              "        vertical-align: top;\n",
              "    }\n",
              "\n",
              "    .dataframe thead th {\n",
              "        text-align: right;\n",
              "    }\n",
              "</style>\n",
              "<table border=\"1\" class=\"dataframe\">\n",
              "  <thead>\n",
              "    <tr style=\"text-align: right;\">\n",
              "      <th></th>\n",
              "      <th>id</th>\n",
              "      <th>text</th>\n",
              "      <th>aspect</th>\n",
              "      <th>sentiment</th>\n",
              "      <th>label_aspect</th>\n",
              "    </tr>\n",
              "  </thead>\n",
              "  <tbody>\n",
              "    <tr>\n",
              "      <th>0</th>\n",
              "      <td>1430</td>\n",
              "      <td>LOCATION1 is transforming and the prices will go up and up</td>\n",
              "      <td>price</td>\n",
              "      <td>1</td>\n",
              "      <td>6</td>\n",
              "    </tr>\n",
              "    <tr>\n",
              "      <th>1</th>\n",
              "      <td>2013</td>\n",
              "      <td>Along LOCATION1 there are lots of Electronics shops (independent ones)</td>\n",
              "      <td>shopping</td>\n",
              "      <td>2</td>\n",
              "      <td>9</td>\n",
              "    </tr>\n",
              "    <tr>\n",
              "      <th>2</th>\n",
              "      <td>1244</td>\n",
              "      <td>And LOCATION1 is ten mins direct on the tube to LOCATION2:</td>\n",
              "      <td>transit-location</td>\n",
              "      <td>2</td>\n",
              "      <td>11</td>\n",
              "    </tr>\n",
              "    <tr>\n",
              "      <th>3</th>\n",
              "      <td>209</td>\n",
              "      <td>Another option is LOCATION1 which is very central and has tons of clubs/bars within walking distance of each other</td>\n",
              "      <td>nightlife</td>\n",
              "      <td>2</td>\n",
              "      <td>5</td>\n",
              "    </tr>\n",
              "    <tr>\n",
              "      <th>4</th>\n",
              "      <td>2824</td>\n",
              "      <td>Best bet is around LOCATION2 and LOCATION1 area in the northwest corner really nice</td>\n",
              "      <td>general</td>\n",
              "      <td>2</td>\n",
              "      <td>1</td>\n",
              "    </tr>\n",
              "  </tbody>\n",
              "</table>\n",
              "</div>"
            ],
            "text/plain": [
              "     id  \\\n",
              "0  1430   \n",
              "1  2013   \n",
              "2  1244   \n",
              "3  209    \n",
              "4  2824   \n",
              "\n",
              "                                                                                                                 text  \\\n",
              "0  LOCATION1 is transforming and the prices will go up and up                                                           \n",
              "1  Along LOCATION1 there are lots of Electronics shops (independent ones)                                               \n",
              "2  And LOCATION1 is ten mins direct on the tube to LOCATION2:                                                           \n",
              "3  Another option is LOCATION1 which is very central and has tons of clubs/bars within walking distance of each other   \n",
              "4  Best bet is around LOCATION2 and LOCATION1 area in the northwest corner really nice                                  \n",
              "\n",
              "             aspect  sentiment  label_aspect  \n",
              "0  price             1          6             \n",
              "1  shopping          2          9             \n",
              "2  transit-location  2          11            \n",
              "3  nightlife         2          5             \n",
              "4  general           2          1             "
            ]
          },
          "metadata": {
            "tags": []
          },
          "execution_count": 22
        }
      ]
    },
    {
      "cell_type": "code",
      "metadata": {
        "id": "jm4BkPOlq9xt"
      },
      "source": [
        "# Combining aspect and sentence in train data\n",
        "Final_data['combined text']=Final_data['text']+str(\" \")+Final_data['aspect']"
      ],
      "execution_count": 23,
      "outputs": []
    },
    {
      "cell_type": "code",
      "metadata": {
        "id": "n6JmPJK9OyM2"
      },
      "source": [
        ""
      ],
      "execution_count": null,
      "outputs": []
    },
    {
      "cell_type": "markdown",
      "metadata": {
        "id": "BrLwDjrYxH8b"
      },
      "source": [
        "## Model building"
      ]
    },
    {
      "cell_type": "code",
      "metadata": {
        "id": "kNW-cI_rxRhT"
      },
      "source": [
        "# Splitting the final_data into train and test\n",
        "X,y= train_test_split(Final_data, test_size=0.25, random_state=70)"
      ],
      "execution_count": 24,
      "outputs": []
    },
    {
      "cell_type": "code",
      "metadata": {
        "colab": {
          "base_uri": "https://localhost:8080/",
          "height": 201
        },
        "id": "A1_VfeC61zDa",
        "outputId": "2b075344-49d0-45f5-9864-2f01239d1817"
      },
      "source": [
        "X.head()"
      ],
      "execution_count": 25,
      "outputs": [
        {
          "output_type": "execute_result",
          "data": {
            "text/html": [
              "<div>\n",
              "<style scoped>\n",
              "    .dataframe tbody tr th:only-of-type {\n",
              "        vertical-align: middle;\n",
              "    }\n",
              "\n",
              "    .dataframe tbody tr th {\n",
              "        vertical-align: top;\n",
              "    }\n",
              "\n",
              "    .dataframe thead th {\n",
              "        text-align: right;\n",
              "    }\n",
              "</style>\n",
              "<table border=\"1\" class=\"dataframe\">\n",
              "  <thead>\n",
              "    <tr style=\"text-align: right;\">\n",
              "      <th></th>\n",
              "      <th>id</th>\n",
              "      <th>text</th>\n",
              "      <th>aspect</th>\n",
              "      <th>sentiment</th>\n",
              "      <th>label_aspect</th>\n",
              "      <th>combined text</th>\n",
              "    </tr>\n",
              "  </thead>\n",
              "  <tbody>\n",
              "    <tr>\n",
              "      <th>1551</th>\n",
              "      <td>2418</td>\n",
              "      <td>LOCATION1 has much character - However , crime there is quite high</td>\n",
              "      <td>general</td>\n",
              "      <td>2</td>\n",
              "      <td>1</td>\n",
              "      <td>LOCATION1 has much character - However , crime there is quite high general</td>\n",
              "    </tr>\n",
              "    <tr>\n",
              "      <th>1435</th>\n",
              "      <td>454</td>\n",
              "      <td>i live in LOCATION2 and have been to LOCATION1 before</td>\n",
              "      <td>general</td>\n",
              "      <td>0</td>\n",
              "      <td>1</td>\n",
              "      <td>i live in LOCATION2 and have been to LOCATION1 before general</td>\n",
              "    </tr>\n",
              "    <tr>\n",
              "      <th>339</th>\n",
              "      <td>740</td>\n",
              "      <td>LOCATION1 is a bit of a dump, LOCATION2 is slightly nicer</td>\n",
              "      <td>general</td>\n",
              "      <td>1</td>\n",
              "      <td>11</td>\n",
              "      <td>LOCATION1 is a bit of a dump, LOCATION2 is slightly nicer general</td>\n",
              "    </tr>\n",
              "    <tr>\n",
              "      <th>734</th>\n",
              "      <td>1044</td>\n",
              "      <td>For example; I live in LOCATION1 but I always say LOCATION2</td>\n",
              "      <td>multicultural</td>\n",
              "      <td>0</td>\n",
              "      <td>4</td>\n",
              "      <td>For example; I live in LOCATION1 but I always say LOCATION2 multicultural</td>\n",
              "    </tr>\n",
              "    <tr>\n",
              "      <th>898</th>\n",
              "      <td>560</td>\n",
              "      <td>I didn't even know there was a north LOCATION1 depends which bit</td>\n",
              "      <td>general</td>\n",
              "      <td>0</td>\n",
              "      <td>1</td>\n",
              "      <td>I didn't even know there was a north LOCATION1 depends which bit general</td>\n",
              "    </tr>\n",
              "  </tbody>\n",
              "</table>\n",
              "</div>"
            ],
            "text/plain": [
              "        id  \\\n",
              "1551  2418   \n",
              "1435  454    \n",
              "339   740    \n",
              "734   1044   \n",
              "898   560    \n",
              "\n",
              "                                                                    text  \\\n",
              "1551  LOCATION1 has much character - However , crime there is quite high   \n",
              "1435  i live in LOCATION2 and have been to LOCATION1 before                \n",
              "339   LOCATION1 is a bit of a dump, LOCATION2 is slightly nicer            \n",
              "734   For example; I live in LOCATION1 but I always say LOCATION2          \n",
              "898   I didn't even know there was a north LOCATION1 depends which bit     \n",
              "\n",
              "             aspect  sentiment  label_aspect  \\\n",
              "1551  general        2          1              \n",
              "1435  general        0          1              \n",
              "339   general        1          11             \n",
              "734   multicultural  0          4              \n",
              "898   general        0          1              \n",
              "\n",
              "                                                                   combined text  \n",
              "1551  LOCATION1 has much character - However , crime there is quite high general  \n",
              "1435  i live in LOCATION2 and have been to LOCATION1 before general               \n",
              "339   LOCATION1 is a bit of a dump, LOCATION2 is slightly nicer general           \n",
              "734   For example; I live in LOCATION1 but I always say LOCATION2 multicultural   \n",
              "898   I didn't even know there was a north LOCATION1 depends which bit general    "
            ]
          },
          "metadata": {
            "tags": []
          },
          "execution_count": 25
        }
      ]
    },
    {
      "cell_type": "code",
      "metadata": {
        "colab": {
          "base_uri": "https://localhost:8080/"
        },
        "id": "OqDMaGue18HY",
        "outputId": "381840f8-faaf-4a32-a9a8-e2e8f7b20d4f"
      },
      "source": [
        "y.shape"
      ],
      "execution_count": 26,
      "outputs": [
        {
          "output_type": "execute_result",
          "data": {
            "text/plain": [
              "(1304, 6)"
            ]
          },
          "metadata": {
            "tags": []
          },
          "execution_count": 26
        }
      ]
    },
    {
      "cell_type": "code",
      "metadata": {
        "colab": {
          "base_uri": "https://localhost:8080/",
          "height": 201
        },
        "id": "e_6eF1s2N2xF",
        "outputId": "76c9bf32-5b02-451e-abe6-8bf74d0670f0"
      },
      "source": [
        "X.head()"
      ],
      "execution_count": 27,
      "outputs": [
        {
          "output_type": "execute_result",
          "data": {
            "text/html": [
              "<div>\n",
              "<style scoped>\n",
              "    .dataframe tbody tr th:only-of-type {\n",
              "        vertical-align: middle;\n",
              "    }\n",
              "\n",
              "    .dataframe tbody tr th {\n",
              "        vertical-align: top;\n",
              "    }\n",
              "\n",
              "    .dataframe thead th {\n",
              "        text-align: right;\n",
              "    }\n",
              "</style>\n",
              "<table border=\"1\" class=\"dataframe\">\n",
              "  <thead>\n",
              "    <tr style=\"text-align: right;\">\n",
              "      <th></th>\n",
              "      <th>id</th>\n",
              "      <th>text</th>\n",
              "      <th>aspect</th>\n",
              "      <th>sentiment</th>\n",
              "      <th>label_aspect</th>\n",
              "      <th>combined text</th>\n",
              "    </tr>\n",
              "  </thead>\n",
              "  <tbody>\n",
              "    <tr>\n",
              "      <th>1551</th>\n",
              "      <td>2418</td>\n",
              "      <td>LOCATION1 has much character - However , crime there is quite high</td>\n",
              "      <td>general</td>\n",
              "      <td>2</td>\n",
              "      <td>1</td>\n",
              "      <td>LOCATION1 has much character - However , crime there is quite high general</td>\n",
              "    </tr>\n",
              "    <tr>\n",
              "      <th>1435</th>\n",
              "      <td>454</td>\n",
              "      <td>i live in LOCATION2 and have been to LOCATION1 before</td>\n",
              "      <td>general</td>\n",
              "      <td>0</td>\n",
              "      <td>1</td>\n",
              "      <td>i live in LOCATION2 and have been to LOCATION1 before general</td>\n",
              "    </tr>\n",
              "    <tr>\n",
              "      <th>339</th>\n",
              "      <td>740</td>\n",
              "      <td>LOCATION1 is a bit of a dump, LOCATION2 is slightly nicer</td>\n",
              "      <td>general</td>\n",
              "      <td>1</td>\n",
              "      <td>11</td>\n",
              "      <td>LOCATION1 is a bit of a dump, LOCATION2 is slightly nicer general</td>\n",
              "    </tr>\n",
              "    <tr>\n",
              "      <th>734</th>\n",
              "      <td>1044</td>\n",
              "      <td>For example; I live in LOCATION1 but I always say LOCATION2</td>\n",
              "      <td>multicultural</td>\n",
              "      <td>0</td>\n",
              "      <td>4</td>\n",
              "      <td>For example; I live in LOCATION1 but I always say LOCATION2 multicultural</td>\n",
              "    </tr>\n",
              "    <tr>\n",
              "      <th>898</th>\n",
              "      <td>560</td>\n",
              "      <td>I didn't even know there was a north LOCATION1 depends which bit</td>\n",
              "      <td>general</td>\n",
              "      <td>0</td>\n",
              "      <td>1</td>\n",
              "      <td>I didn't even know there was a north LOCATION1 depends which bit general</td>\n",
              "    </tr>\n",
              "  </tbody>\n",
              "</table>\n",
              "</div>"
            ],
            "text/plain": [
              "        id  \\\n",
              "1551  2418   \n",
              "1435  454    \n",
              "339   740    \n",
              "734   1044   \n",
              "898   560    \n",
              "\n",
              "                                                                    text  \\\n",
              "1551  LOCATION1 has much character - However , crime there is quite high   \n",
              "1435  i live in LOCATION2 and have been to LOCATION1 before                \n",
              "339   LOCATION1 is a bit of a dump, LOCATION2 is slightly nicer            \n",
              "734   For example; I live in LOCATION1 but I always say LOCATION2          \n",
              "898   I didn't even know there was a north LOCATION1 depends which bit     \n",
              "\n",
              "             aspect  sentiment  label_aspect  \\\n",
              "1551  general        2          1              \n",
              "1435  general        0          1              \n",
              "339   general        1          11             \n",
              "734   multicultural  0          4              \n",
              "898   general        0          1              \n",
              "\n",
              "                                                                   combined text  \n",
              "1551  LOCATION1 has much character - However , crime there is quite high general  \n",
              "1435  i live in LOCATION2 and have been to LOCATION1 before general               \n",
              "339   LOCATION1 is a bit of a dump, LOCATION2 is slightly nicer general           \n",
              "734   For example; I live in LOCATION1 but I always say LOCATION2 multicultural   \n",
              "898   I didn't even know there was a north LOCATION1 depends which bit general    "
            ]
          },
          "metadata": {
            "tags": []
          },
          "execution_count": 27
        }
      ]
    },
    {
      "cell_type": "markdown",
      "metadata": {
        "id": "7rnMMyUVxNKD"
      },
      "source": [
        "### Machine Learning models using only TEXT"
      ]
    },
    {
      "cell_type": "markdown",
      "metadata": {
        "id": "q-gIDG_USVCA"
      },
      "source": [
        "#### i. Naive Bayes \n"
      ]
    },
    {
      "cell_type": "code",
      "metadata": {
        "id": "yo5uFgy7INGH"
      },
      "source": [
        "# applying tf-idf\n",
        "tfidf = TfidfVectorizer()\n",
        "X_tfidf = tfidf.fit_transform(X['text'])\n",
        "y_tfidf=tfidf.transform(y['text'])"
      ],
      "execution_count": 28,
      "outputs": []
    },
    {
      "cell_type": "code",
      "metadata": {
        "id": "iq64bUbavLZG"
      },
      "source": [
        "# applying Naive Bayes Model \n",
        "MNB = MultinomialNB()\n",
        "MNB_sen=MNB.fit(X_tfidf,X['sentiment'])\n"
      ],
      "execution_count": 29,
      "outputs": []
    },
    {
      "cell_type": "code",
      "metadata": {
        "colab": {
          "base_uri": "https://localhost:8080/"
        },
        "id": "V5UBj6rSIy5i",
        "outputId": "4608c1c2-5c16-48ee-cec0-1dfa4affd9ea"
      },
      "source": [
        "# def MNB_sentiment():\n",
        "predicted_train = MNB_sen.predict(X_tfidf)\n",
        "print(\"The accuracy score of train data {0}\".format(accuracy_score(predicted_train, X['sentiment'])))\n",
        "predicted_test= MNB_sen.predict(y_tfidf)\n",
        "print(\"The accuracy score of test data {0}\".format(accuracy_score(predicted_test, y['sentiment'])))\n",
        "print(\"------------test data-------\")\n",
        "print(confusion_matrix(predicted_test,y['sentiment']))\n"
      ],
      "execution_count": 30,
      "outputs": [
        {
          "output_type": "stream",
          "text": [
            "The accuracy score of train data 0.702889286627461\n",
            "The accuracy score of test data 0.6211656441717791\n",
            "------------test data-------\n",
            "[[159   8   9]\n",
            " [  0  13   0]\n",
            " [279 198 638]]\n"
          ],
          "name": "stdout"
        }
      ]
    },
    {
      "cell_type": "code",
      "metadata": {
        "colab": {
          "base_uri": "https://localhost:8080/"
        },
        "id": "r_Pg2i9XJ7lG",
        "outputId": "1d68f464-c6cc-4725-c4cf-aafbf548e136"
      },
      "source": [
        "print(Counter(predicted_test))\n",
        "print(Counter(y['sentiment']))"
      ],
      "execution_count": 31,
      "outputs": [
        {
          "output_type": "stream",
          "text": [
            "Counter({2: 1115, 0: 176, 1: 13})\n",
            "Counter({2: 647, 0: 438, 1: 219})\n"
          ],
          "name": "stdout"
        }
      ]
    },
    {
      "cell_type": "code",
      "metadata": {
        "colab": {
          "base_uri": "https://localhost:8080/"
        },
        "id": "vYuid3WiJ9Hb",
        "outputId": "c19c9547-3696-47f5-de64-b27c1a06c4e0"
      },
      "source": [
        "#printing output results for train and test data\n",
        "MNB_asp=MNB.fit(X_tfidf,X['label_aspect'])\n",
        "predicted_train_asp = MNB_asp.predict(X_tfidf)\n",
        "print(\"The accuracy score of train data {0}\".format(accuracy_score(predicted_train_asp, X['label_aspect'])))\n",
        "predicted_test_asp= MNB_asp.predict(y_tfidf)\n",
        "print(\"The accuracy score of test data {0}\".format(accuracy_score(predicted_test_asp, y['label_aspect'])))\n",
        "print(\"------------test data-------\")\n",
        "print(confusion_matrix(predicted_test_asp,y['label_aspect']))"
      ],
      "execution_count": 32,
      "outputs": [
        {
          "output_type": "stream",
          "text": [
            "The accuracy score of train data 0.41012528765021733\n",
            "The accuracy score of test data 0.4087423312883436\n",
            "------------test data-------\n",
            "[[  0   0   0   0   0   0   0   0   0   0   0   0]\n",
            " [ 12 533  27 104  45  39 166  21 131  46  22 157]\n",
            " [  0   0   0   0   0   0   0   0   0   0   0   0]\n",
            " [  0   0   0   0   0   0   0   0   0   0   0   0]\n",
            " [  0   0   0   0   0   0   0   0   0   0   0   0]\n",
            " [  0   0   0   0   0   0   0   0   0   0   0   0]\n",
            " [  0   0   0   0   0   0   0   0   0   0   0   0]\n",
            " [  0   0   0   0   0   0   0   0   0   0   0   0]\n",
            " [  0   0   0   0   0   0   0   0   0   0   0   0]\n",
            " [  0   0   0   0   0   0   0   0   0   0   0   0]\n",
            " [  0   0   0   0   0   0   0   0   0   0   0   0]\n",
            " [  0   1   0   0   0   0   0   0   0   0   0   0]]\n"
          ],
          "name": "stdout"
        }
      ]
    },
    {
      "cell_type": "code",
      "metadata": {
        "colab": {
          "base_uri": "https://localhost:8080/"
        },
        "id": "Jy5i003PMRre",
        "outputId": "776184d2-9399-4ed9-e899-a4bda81f3b18"
      },
      "source": [
        "print(Counter(predicted_test_asp))\n",
        "print(Counter(y['label_aspect']))"
      ],
      "execution_count": 33,
      "outputs": [
        {
          "output_type": "stream",
          "text": [
            "Counter({1: 1303, 11: 1})\n",
            "Counter({1: 534, 6: 166, 11: 157, 8: 131, 3: 104, 9: 46, 4: 45, 5: 39, 2: 27, 10: 22, 7: 21, 0: 12})\n"
          ],
          "name": "stdout"
        }
      ]
    },
    {
      "cell_type": "markdown",
      "metadata": {
        "id": "2VI9ULh9t_9C"
      },
      "source": [
        "#### ii. Logistic Regression \n"
      ]
    },
    {
      "cell_type": "code",
      "metadata": {
        "id": "k39RtUnquKC5"
      },
      "source": [
        "# applying tf-idf\n",
        "tfidf = TfidfVectorizer()\n",
        "X_tfidf = tfidf.fit_transform(X['text'])\n",
        "y_tfidf=tfidf.transform(y['text'])"
      ],
      "execution_count": 34,
      "outputs": []
    },
    {
      "cell_type": "code",
      "metadata": {
        "colab": {
          "base_uri": "https://localhost:8080/"
        },
        "id": "YVWo8VZuuKXo",
        "outputId": "93094591-afef-4ae3-b7e0-25aa1aca8b5a"
      },
      "source": [
        "# Applying Logistic Regression\n",
        "logreg = LogisticRegression()\n",
        "logreg.fit(X_tfidf,X['sentiment'])"
      ],
      "execution_count": 35,
      "outputs": [
        {
          "output_type": "execute_result",
          "data": {
            "text/plain": [
              "LogisticRegression(C=1.0, class_weight=None, dual=False, fit_intercept=True,\n",
              "                   intercept_scaling=1, l1_ratio=None, max_iter=100,\n",
              "                   multi_class='auto', n_jobs=None, penalty='l2',\n",
              "                   random_state=None, solver='lbfgs', tol=0.0001, verbose=0,\n",
              "                   warm_start=False)"
            ]
          },
          "metadata": {
            "tags": []
          },
          "execution_count": 35
        }
      ]
    },
    {
      "cell_type": "code",
      "metadata": {
        "colab": {
          "base_uri": "https://localhost:8080/"
        },
        "id": "08HOi6MYuKaq",
        "outputId": "f1204b79-8e4b-4e44-e563-cf30e730fe66"
      },
      "source": [
        "#printing output results for train and test data\n",
        "predicted_train = logreg.predict(X_tfidf)\n",
        "print(\"The accuracy score of train data {0}\".format(accuracy_score(predicted_train, X['sentiment'])))\n",
        "predicted_test= logreg.predict(y_tfidf)\n",
        "print(\"The accuracy score of test data {0}\".format(accuracy_score(predicted_test, y['sentiment'])))\n",
        "print(\"------------test data-------\")\n",
        "print(confusion_matrix(predicted_test,y['sentiment']))"
      ],
      "execution_count": 36,
      "outputs": [
        {
          "output_type": "stream",
          "text": [
            "The accuracy score of train data 0.8491434415750447\n",
            "The accuracy score of test data 0.7323619631901841\n",
            "------------test data-------\n",
            "[[317  36  61]\n",
            " [ 14  91  39]\n",
            " [107  92 547]]\n"
          ],
          "name": "stdout"
        }
      ]
    },
    {
      "cell_type": "code",
      "metadata": {
        "colab": {
          "base_uri": "https://localhost:8080/"
        },
        "id": "OIgVoxXMuKd_",
        "outputId": "ec635744-d365-4042-c1df-6cd23bb8242f"
      },
      "source": [
        "print(Counter(predicted_test))\n",
        "print(Counter(y['sentiment']))"
      ],
      "execution_count": 37,
      "outputs": [
        {
          "output_type": "stream",
          "text": [
            "Counter({2: 746, 0: 414, 1: 144})\n",
            "Counter({2: 647, 0: 438, 1: 219})\n"
          ],
          "name": "stdout"
        }
      ]
    },
    {
      "cell_type": "markdown",
      "metadata": {
        "id": "Kolz4RpDuqEP"
      },
      "source": [
        "#### iii.SVM  "
      ]
    },
    {
      "cell_type": "code",
      "metadata": {
        "id": "OEBrZdegurqS"
      },
      "source": [
        "# applying tf-idf\n",
        "tfidf = TfidfVectorizer()\n",
        "X_tfidf = tfidf.fit_transform(X['text'])\n",
        "y_tfidf=tfidf.transform(y['text'])"
      ],
      "execution_count": 38,
      "outputs": []
    },
    {
      "cell_type": "code",
      "metadata": {
        "colab": {
          "base_uri": "https://localhost:8080/"
        },
        "id": "kXOanOLRurvI",
        "outputId": "515b48ef-a975-42e9-c999-f6a5c2033cf3"
      },
      "source": [
        "#applying SVM model\n",
        "classifier_linear = svm.SVC(kernel='linear')\n",
        "classifier_linear.fit(X_tfidf,X['sentiment'])"
      ],
      "execution_count": 39,
      "outputs": [
        {
          "output_type": "execute_result",
          "data": {
            "text/plain": [
              "SVC(C=1.0, break_ties=False, cache_size=200, class_weight=None, coef0=0.0,\n",
              "    decision_function_shape='ovr', degree=3, gamma='scale', kernel='linear',\n",
              "    max_iter=-1, probability=False, random_state=None, shrinking=True,\n",
              "    tol=0.001, verbose=False)"
            ]
          },
          "metadata": {
            "tags": []
          },
          "execution_count": 39
        }
      ]
    },
    {
      "cell_type": "code",
      "metadata": {
        "colab": {
          "base_uri": "https://localhost:8080/"
        },
        "id": "nYwLCkwmur0O",
        "outputId": "5f051c66-1ab3-4436-df8f-1492485efced"
      },
      "source": [
        "# def SVMclassifier_sentiment():\n",
        "predicted_train = classifier_linear.predict(X_tfidf)\n",
        "print(\"The accuracy score of train data {0}\".format(accuracy_score(predicted_train, X['sentiment'])))\n",
        "predicted_test= classifier_linear.predict(y_tfidf)\n",
        "print(\"The accuracy score of test data {0}\".format(accuracy_score(predicted_test, y['sentiment'])))\n",
        "print(\"------------test data-------\")\n",
        "print(confusion_matrix(predicted_test,y['sentiment']))"
      ],
      "execution_count": 40,
      "outputs": [
        {
          "output_type": "stream",
          "text": [
            "The accuracy score of train data 0.8716440807977499\n",
            "The accuracy score of test data 0.7315950920245399\n",
            "------------test data-------\n",
            "[[322  31  66]\n",
            " [ 14  97  46]\n",
            " [102  91 535]]\n"
          ],
          "name": "stdout"
        }
      ]
    },
    {
      "cell_type": "code",
      "metadata": {
        "colab": {
          "base_uri": "https://localhost:8080/"
        },
        "id": "31L9F_tdur8V",
        "outputId": "b7911146-ad7a-49c3-aaf8-982320b94f13"
      },
      "source": [
        "print(Counter(predicted_test))\n",
        "print(Counter(y['sentiment']))"
      ],
      "execution_count": 41,
      "outputs": [
        {
          "output_type": "stream",
          "text": [
            "Counter({2: 728, 0: 419, 1: 157})\n",
            "Counter({2: 647, 0: 438, 1: 219})\n"
          ],
          "name": "stdout"
        }
      ]
    },
    {
      "cell_type": "code",
      "metadata": {
        "id": "wol4mL02usld"
      },
      "source": [
        ""
      ],
      "execution_count": null,
      "outputs": []
    },
    {
      "cell_type": "markdown",
      "metadata": {
        "id": "SKuGzmoCSbJ9"
      },
      "source": [
        "### Machine Learning models using aspect and Text together"
      ]
    },
    {
      "cell_type": "markdown",
      "metadata": {
        "id": "Bw7W48ARv4X1"
      },
      "source": [
        "#### i. Naive Bayes"
      ]
    },
    {
      "cell_type": "code",
      "metadata": {
        "id": "NEmdkbskSDgp"
      },
      "source": [
        "# applying tf-idf\n",
        "tfidf = TfidfVectorizer()\n",
        "X_tfidf = tfidf.fit_transform(X['combined text'])\n",
        "y_tfidf=tfidf.transform(y['combined text'])"
      ],
      "execution_count": null,
      "outputs": []
    },
    {
      "cell_type": "code",
      "metadata": {
        "id": "IzbHRNUeTIse"
      },
      "source": [
        "MNB = MultinomialNB()\n",
        "MNB_sen=MNB.fit(X_tfidf,X['sentiment'])"
      ],
      "execution_count": null,
      "outputs": []
    },
    {
      "cell_type": "code",
      "metadata": {
        "colab": {
          "base_uri": "https://localhost:8080/"
        },
        "id": "5GN5CXd6SwkK",
        "outputId": "4884146f-174d-4696-ac79-dc360ec82425"
      },
      "source": [
        "# def MNB_sentiment():\n",
        "predicted_train = MNB_sen.predict(X_tfidf)\n",
        "print(\"The accuracy score of train data {0}\".format(accuracy_score(predicted_train, X['sentiment'])))\n",
        "predicted_test= MNB_sen.predict(y_tfidf)\n",
        "print(\"The accuracy score of test data {0}\".format(accuracy_score(predicted_test, y['sentiment'])))\n",
        "print(\"------------test data-------\")\n",
        "print(confusion_matrix(predicted_test,y['sentiment']))"
      ],
      "execution_count": null,
      "outputs": [
        {
          "output_type": "stream",
          "text": [
            "The accuracy score of train data 0.6957299923293275\n",
            "The accuracy score of test data 0.61579754601227\n",
            "------------test data-------\n",
            "[[152   9   8]\n",
            " [  0  12   0]\n",
            " [286 198 639]]\n"
          ],
          "name": "stdout"
        }
      ]
    },
    {
      "cell_type": "code",
      "metadata": {
        "colab": {
          "base_uri": "https://localhost:8080/"
        },
        "id": "72r-O5HfTNob",
        "outputId": "a5a6c4f4-0b46-47e5-ae4e-e4cb2b234a35"
      },
      "source": [
        "print(Counter(predicted_test))\n",
        "print(Counter(y['sentiment']))"
      ],
      "execution_count": null,
      "outputs": [
        {
          "output_type": "stream",
          "text": [
            "Counter({2: 1123, 0: 169, 1: 12})\n",
            "Counter({2: 647, 0: 438, 1: 219})\n"
          ],
          "name": "stdout"
        }
      ]
    },
    {
      "cell_type": "code",
      "metadata": {
        "colab": {
          "base_uri": "https://localhost:8080/"
        },
        "id": "i2Dn00M3Teuy",
        "outputId": "ffb91886-be64-4e20-f07f-237169465e34"
      },
      "source": [
        "#printing results for test and train\n",
        "MNB_asp=MNB.fit(X_tfidf,X['label_aspect'])\n",
        "predicted_train_asp = MNB_asp.predict(X_tfidf)\n",
        "print(\"The accuracy score of train data {0}\".format(accuracy_score(predicted_train_asp, X['label_aspect'])))\n",
        "predicted_test_asp= MNB_asp.predict(y_tfidf)\n",
        "print(\"The accuracy score of test data {0}\".format(accuracy_score(predicted_test_asp, y['label_aspect'])))\n",
        "print(\"------------test data-------\")\n",
        "print(confusion_matrix(predicted_test_asp,y['label_aspect']))"
      ],
      "execution_count": null,
      "outputs": [
        {
          "output_type": "stream",
          "text": [
            "The accuracy score of train data 0.42060854001534137\n",
            "The accuracy score of test data 0.41180981595092025\n",
            "------------test data-------\n",
            "[[  0   0   0   0   0   0   0   0   0   0   0   0]\n",
            " [ 12 531  27 103  45  39 165  21 131  46  22 152]\n",
            " [  0   0   0   0   0   0   0   0   0   0   0   0]\n",
            " [  0   0   0   0   0   0   0   0   0   0   0   0]\n",
            " [  0   0   0   0   0   0   0   0   0   0   0   0]\n",
            " [  0   0   0   0   0   0   0   0   0   0   0   0]\n",
            " [  0   0   0   0   0   0   1   0   0   0   0   0]\n",
            " [  0   0   0   0   0   0   0   0   0   0   0   0]\n",
            " [  0   0   0   0   0   0   0   0   0   0   0   0]\n",
            " [  0   0   0   0   0   0   0   0   0   0   0   0]\n",
            " [  0   0   0   0   0   0   0   0   0   0   0   0]\n",
            " [  0   3   0   1   0   0   0   0   0   0   0   5]]\n"
          ],
          "name": "stdout"
        }
      ]
    },
    {
      "cell_type": "code",
      "metadata": {
        "colab": {
          "base_uri": "https://localhost:8080/"
        },
        "id": "pycictmrT4xH",
        "outputId": "79502d2a-8ade-44cb-ef5c-06b17676c48e"
      },
      "source": [
        "print(Counter(predicted_test_asp))\n",
        "print(Counter(y['label_aspect']))"
      ],
      "execution_count": null,
      "outputs": [
        {
          "output_type": "stream",
          "text": [
            "Counter({1: 1294, 11: 9, 6: 1})\n",
            "Counter({1: 534, 6: 166, 11: 157, 8: 131, 3: 104, 9: 46, 4: 45, 5: 39, 2: 27, 10: 22, 7: 21, 0: 12})\n"
          ],
          "name": "stdout"
        }
      ]
    },
    {
      "cell_type": "markdown",
      "metadata": {
        "id": "pXPDN9NeaOJY"
      },
      "source": [
        "#### ii.Logistic Regression"
      ]
    },
    {
      "cell_type": "code",
      "metadata": {
        "colab": {
          "base_uri": "https://localhost:8080/"
        },
        "id": "qmKhTaXZaYjv",
        "outputId": "c846de2d-ce7d-4782-9794-2ed9c61e46c2"
      },
      "source": [
        "#logistic regression model\n",
        "logreg = LogisticRegression()\n",
        "logreg.fit(X_tfidf,X['sentiment'])"
      ],
      "execution_count": null,
      "outputs": [
        {
          "output_type": "execute_result",
          "data": {
            "text/plain": [
              "LogisticRegression(C=1.0, class_weight=None, dual=False, fit_intercept=True,\n",
              "                   intercept_scaling=1, l1_ratio=None, max_iter=100,\n",
              "                   multi_class='auto', n_jobs=None, penalty='l2',\n",
              "                   random_state=None, solver='lbfgs', tol=0.0001, verbose=0,\n",
              "                   warm_start=False)"
            ]
          },
          "metadata": {
            "tags": []
          },
          "execution_count": 40
        }
      ]
    },
    {
      "cell_type": "code",
      "metadata": {
        "colab": {
          "base_uri": "https://localhost:8080/"
        },
        "id": "xfAQlUazanpw",
        "outputId": "8874be3e-e9c4-4b68-813a-ff221daec6ca"
      },
      "source": [
        "# def log_sentiment():\n",
        "predicted_train = logreg.predict(X_tfidf)\n",
        "print(\"The accuracy score of train data {0}\".format(accuracy_score(predicted_train, X['sentiment'])))\n",
        "predicted_test= logreg.predict(y_tfidf)\n",
        "print(\"The accuracy score of test data {0}\".format(accuracy_score(predicted_test, y['sentiment'])))\n",
        "print(\"------------test data-------\")\n",
        "print(confusion_matrix(predicted_test,y['sentiment']))"
      ],
      "execution_count": null,
      "outputs": [
        {
          "output_type": "stream",
          "text": [
            "The accuracy score of train data 0.8563027358731782\n",
            "The accuracy score of test data 0.75\n",
            "------------test data-------\n",
            "[[309  41  59]\n",
            " [ 19 109  28]\n",
            " [110  69 560]]\n"
          ],
          "name": "stdout"
        }
      ]
    },
    {
      "cell_type": "code",
      "metadata": {
        "colab": {
          "base_uri": "https://localhost:8080/"
        },
        "id": "HrGE5JkAa67w",
        "outputId": "412f581f-b9de-4d39-b8c8-674887a08359"
      },
      "source": [
        "print(Counter(predicted_test))\n",
        "print(Counter(y['sentiment']))"
      ],
      "execution_count": null,
      "outputs": [
        {
          "output_type": "stream",
          "text": [
            "Counter({2: 739, 0: 409, 1: 156})\n",
            "Counter({2: 647, 0: 438, 1: 219})\n"
          ],
          "name": "stdout"
        }
      ]
    },
    {
      "cell_type": "code",
      "metadata": {
        "colab": {
          "base_uri": "https://localhost:8080/"
        },
        "id": "6FrIdpWca_Bo",
        "outputId": "96ad2fe9-4ffd-4346-dc13-2426db6e1410"
      },
      "source": [
        "#printing results of train and test\n",
        "MNB_asp=logreg.fit(X_tfidf,X['label_aspect'])\n",
        "predicted_train_asp = MNB_asp.predict(X_tfidf)\n",
        "print(\"The accuracy score of train data {0}\".format(accuracy_score(predicted_train_asp, X['label_aspect'])))\n",
        "predicted_test_asp= MNB_asp.predict(y_tfidf)\n",
        "print(\"The accuracy score of test data {0}\".format(accuracy_score(predicted_test_asp, y['label_aspect'])))\n",
        "print(\"------------test data-------\")\n",
        "print(confusion_matrix(predicted_test_asp,y['label_aspect']))"
      ],
      "execution_count": null,
      "outputs": [
        {
          "output_type": "stream",
          "text": [
            "The accuracy score of train data 0.6977755049859371\n",
            "The accuracy score of test data 0.5866564417177914\n",
            "------------test data-------\n",
            "[[  3   1   0   0   0   0   0   0   0   0   0   0]\n",
            " [  4 449  14  53  21  18  66  13  52  21  16  64]\n",
            " [  0   2   9   3   0   0   0   0   1   0   0   1]\n",
            " [  0  11   0  35   1   1   3   1   2   1   0   2]\n",
            " [  0   0   0   1  16   1   0   0   2   1   0   0]\n",
            " [  0   4   0   1   0  13   1   0   3   1   0   1]\n",
            " [  0  21   2   3   2   3  84   1   6   1   0   5]\n",
            " [  0   1   0   0   0   0   0   1   1   0   0   0]\n",
            " [  1  16   1   1   3   1   6   2  58   0   0   6]\n",
            " [  1   1   1   0   0   2   1   1   2  18   1   3]\n",
            " [  0   0   0   2   0   0   0   0   0   0   4   0]\n",
            " [  3  28   0   5   2   0   5   2   4   3   1  75]]\n"
          ],
          "name": "stdout"
        },
        {
          "output_type": "stream",
          "text": [
            "/usr/local/lib/python3.7/dist-packages/sklearn/linear_model/_logistic.py:940: ConvergenceWarning: lbfgs failed to converge (status=1):\n",
            "STOP: TOTAL NO. of ITERATIONS REACHED LIMIT.\n",
            "\n",
            "Increase the number of iterations (max_iter) or scale the data as shown in:\n",
            "    https://scikit-learn.org/stable/modules/preprocessing.html\n",
            "Please also refer to the documentation for alternative solver options:\n",
            "    https://scikit-learn.org/stable/modules/linear_model.html#logistic-regression\n",
            "  extra_warning_msg=_LOGISTIC_SOLVER_CONVERGENCE_MSG)\n"
          ],
          "name": "stderr"
        }
      ]
    },
    {
      "cell_type": "code",
      "metadata": {
        "colab": {
          "base_uri": "https://localhost:8080/"
        },
        "id": "ph0goIBnbMOl",
        "outputId": "f6b44078-6617-4df4-8f6a-39afa24b4bc5"
      },
      "source": [
        "print(Counter(predicted_test_asp))\n",
        "print(Counter(y['label_aspect']))"
      ],
      "execution_count": null,
      "outputs": [
        {
          "output_type": "stream",
          "text": [
            "Counter({1: 791, 11: 128, 6: 128, 8: 95, 3: 57, 9: 31, 5: 24, 4: 21, 2: 16, 10: 6, 0: 4, 7: 3})\n",
            "Counter({1: 534, 6: 166, 11: 157, 8: 131, 3: 104, 9: 46, 4: 45, 5: 39, 2: 27, 10: 22, 7: 21, 0: 12})\n"
          ],
          "name": "stdout"
        }
      ]
    },
    {
      "cell_type": "markdown",
      "metadata": {
        "id": "nAWM6FsrbQqP"
      },
      "source": [
        "#### iii. SVM"
      ]
    },
    {
      "cell_type": "code",
      "metadata": {
        "colab": {
          "base_uri": "https://localhost:8080/"
        },
        "id": "l45uPyfqbSsU",
        "outputId": "27429e34-1742-466c-db8e-c270f78aa513"
      },
      "source": [
        "# SVM model\n",
        "classifier_linear = svm.SVC(kernel='linear')\n",
        "classifier_linear.fit(X_tfidf,X['sentiment'])"
      ],
      "execution_count": null,
      "outputs": [
        {
          "output_type": "execute_result",
          "data": {
            "text/plain": [
              "SVC(C=1.0, break_ties=False, cache_size=200, class_weight=None, coef0=0.0,\n",
              "    decision_function_shape='ovr', degree=3, gamma='scale', kernel='linear',\n",
              "    max_iter=-1, probability=False, random_state=None, shrinking=True,\n",
              "    tol=0.001, verbose=False)"
            ]
          },
          "metadata": {
            "tags": []
          },
          "execution_count": 45
        }
      ]
    },
    {
      "cell_type": "code",
      "metadata": {
        "colab": {
          "base_uri": "https://localhost:8080/"
        },
        "id": "q8ma0Ju1bXPB",
        "outputId": "1d34a1a1-d247-4531-cbb5-7672e5c442a5"
      },
      "source": [
        "# def MNB_sentiment():\n",
        "predicted_train = classifier_linear.predict(X_tfidf)\n",
        "print(\"The accuracy score of train data {0}\".format(accuracy_score(predicted_train, X['sentiment'])))\n",
        "predicted_test= classifier_linear.predict(y_tfidf)\n",
        "print(\"The accuracy score of test data {0}\".format(accuracy_score(predicted_test, y['sentiment'])))\n",
        "print(\"------------test data-------\")\n",
        "print(confusion_matrix(predicted_test,y['sentiment']))"
      ],
      "execution_count": null,
      "outputs": [
        {
          "output_type": "stream",
          "text": [
            "The accuracy score of train data 0.8849399130657121\n",
            "The accuracy score of test data 0.7553680981595092\n",
            "------------test data-------\n",
            "[[314  35  57]\n",
            " [ 16 112  31]\n",
            " [108  72 559]]\n"
          ],
          "name": "stdout"
        }
      ]
    },
    {
      "cell_type": "code",
      "metadata": {
        "colab": {
          "base_uri": "https://localhost:8080/"
        },
        "id": "rAvGyRwBbklz",
        "outputId": "6b10e06b-e055-4eda-a79c-eeac5cd35c08"
      },
      "source": [
        "print(Counter(predicted_test))\n",
        "print(Counter(y['sentiment']))"
      ],
      "execution_count": null,
      "outputs": [
        {
          "output_type": "stream",
          "text": [
            "Counter({2: 739, 0: 406, 1: 159})\n",
            "Counter({2: 647, 0: 438, 1: 219})\n"
          ],
          "name": "stdout"
        }
      ]
    },
    {
      "cell_type": "code",
      "metadata": {
        "colab": {
          "base_uri": "https://localhost:8080/"
        },
        "id": "coMrE6J5bm36",
        "outputId": "fe838e21-b368-4932-fb03-86a278fb23bb"
      },
      "source": [
        "# printing results for train and test \n",
        "MNB_asp=classifier_linear.fit(X_tfidf,X['label_aspect'])\n",
        "predicted_train_asp = MNB_asp.predict(X_tfidf)\n",
        "print(\"The accuracy score of train data {0}\".format(accuracy_score(predicted_train_asp, X['label_aspect'])))\n",
        "predicted_test_asp= MNB_asp.predict(y_tfidf)\n",
        "print(\"The accuracy score of test data {0}\".format(accuracy_score(predicted_test_asp, y['label_aspect'])))\n",
        "print(\"------------test data-------\")\n",
        "print(confusion_matrix(predicted_test_asp,y['label_aspect']))"
      ],
      "execution_count": null,
      "outputs": [
        {
          "output_type": "stream",
          "text": [
            "The accuracy score of train data 0.7266683712605472\n",
            "The accuracy score of test data 0.6219325153374233\n",
            "------------test data-------\n",
            "[[  5   1   0   0   1   0   1   0   0   0   0   2]\n",
            " [  3 422   4  47  10  12  50   7  39  15   6  47]\n",
            " [  0   3  18   3   0   0   0   0   1   0   0   2]\n",
            " [  0  11   0  36   1   1   4   0   2   1   0   3]\n",
            " [  0   3   0   1  26   1   1   0   2   1   1   1]\n",
            " [  0   7   0   2   0  20   3   0   3   0   0   2]\n",
            " [  0  22   2   4   1   2  87   1   6   1   0   5]\n",
            " [  0   5   0   0   2   0   3   7   2   1   0   0]\n",
            " [  1  23   1   3   2   1   8   2  70   1   0   6]\n",
            " [  0   3   1   1   0   2   3   1   2  23   1   4]\n",
            " [  2   2   0   2   0   0   0   0   0   0  13   1]\n",
            " [  1  32   1   5   2   0   6   3   4   3   1  84]]\n"
          ],
          "name": "stdout"
        }
      ]
    },
    {
      "cell_type": "code",
      "metadata": {
        "colab": {
          "base_uri": "https://localhost:8080/"
        },
        "id": "XyZlkVfMbziG",
        "outputId": "d78aca58-a714-4d94-d85f-b4c32a668af7"
      },
      "source": [
        "print(Counter(predicted_test_asp))\n",
        "print(Counter(y['label_aspect']))"
      ],
      "execution_count": null,
      "outputs": [
        {
          "output_type": "stream",
          "text": [
            "Counter({1: 662, 11: 142, 6: 131, 8: 118, 3: 59, 9: 41, 4: 37, 5: 37, 2: 27, 10: 20, 7: 20, 0: 10})\n",
            "Counter({1: 534, 6: 166, 11: 157, 8: 131, 3: 104, 9: 46, 4: 45, 5: 39, 2: 27, 10: 22, 7: 21, 0: 12})\n"
          ],
          "name": "stdout"
        }
      ]
    },
    {
      "cell_type": "markdown",
      "metadata": {
        "id": "TicuggraJPEH"
      },
      "source": [
        "### One-hot encoding"
      ]
    },
    {
      "cell_type": "code",
      "metadata": {
        "id": "jO8GbeafQG8G"
      },
      "source": [
        "from scipy.sparse import coo_matrix, hstack\n",
        "from scipy import stats\n",
        "from scipy.stats import mannwhitneyu"
      ],
      "execution_count": null,
      "outputs": []
    },
    {
      "cell_type": "code",
      "metadata": {
        "id": "Le2a6mr_JVd_"
      },
      "source": [
        "# define one hot encoding\n",
        "X_encoder = pd.get_dummies(X['aspect'])\n",
        "Y_encoder=pd.get_dummies(y['aspect'])\n",
        "# # transform data\n",
        "# onehot = encoder.fit_transform(X['aspect'])"
      ],
      "execution_count": null,
      "outputs": []
    },
    {
      "cell_type": "code",
      "metadata": {
        "colab": {
          "base_uri": "https://localhost:8080/"
        },
        "id": "s2WF1f84LlaQ",
        "outputId": "e9d610ca-f8f3-4526-e1ca-b1dabe514885"
      },
      "source": [
        "X_encoder.shape"
      ],
      "execution_count": null,
      "outputs": [
        {
          "output_type": "execute_result",
          "data": {
            "text/plain": [
              "(3911, 12)"
            ]
          },
          "metadata": {
            "tags": []
          },
          "execution_count": 52
        }
      ]
    },
    {
      "cell_type": "code",
      "metadata": {
        "colab": {
          "base_uri": "https://localhost:8080/"
        },
        "id": "uSyZGwJdPOrs",
        "outputId": "fb51dc76-0879-460c-d65a-9c5937ce2654"
      },
      "source": [
        "Y_encoder.shape"
      ],
      "execution_count": null,
      "outputs": [
        {
          "output_type": "execute_result",
          "data": {
            "text/plain": [
              "(1304, 12)"
            ]
          },
          "metadata": {
            "tags": []
          },
          "execution_count": 53
        }
      ]
    },
    {
      "cell_type": "code",
      "metadata": {
        "id": "bcehlBOMMG7_"
      },
      "source": [
        "tfidf = TfidfVectorizer()\n",
        "X_tfidf = tfidf.fit_transform(X['text'])\n",
        "y_tfidf=tfidf.transform(y['text'])"
      ],
      "execution_count": null,
      "outputs": []
    },
    {
      "cell_type": "code",
      "metadata": {
        "id": "Imvf1PJONKf3"
      },
      "source": [
        "# tfidf = TfidfVectorizer()\n",
        "# X_onehot_tfidf = tfidf.fit_transform(X_encoder)\n",
        "# Y_onehot_tfidf=tfidf.fit_transform(Y_encoder)"
      ],
      "execution_count": null,
      "outputs": []
    },
    {
      "cell_type": "code",
      "metadata": {
        "id": "T7dMH7oKU7dI"
      },
      "source": [
        "# enc = OneHotEncoder(handle_unknown='ignore')\n",
        "# Xone_encoder = enc.get_dummies(X['aspect'])\n",
        "# Yone_encoder=pd.get_dummies(y['aspect'])"
      ],
      "execution_count": null,
      "outputs": []
    },
    {
      "cell_type": "code",
      "metadata": {
        "id": "qCvsCsx_Mryr"
      },
      "source": [
        "trainX_tfidf = hstack([X_tfidf, X_encoder])\n",
        "testX_tfidf = hstack([y_tfidf, Y_encoder])"
      ],
      "execution_count": null,
      "outputs": []
    },
    {
      "cell_type": "markdown",
      "metadata": {
        "id": "rGveT84qnt5f"
      },
      "source": [
        "#### i. Naive bayes"
      ]
    },
    {
      "cell_type": "code",
      "metadata": {
        "id": "a9gOUgernwKF"
      },
      "source": [
        "#Naive Bayes model\n",
        "MNB = MultinomialNB()\n",
        "MNB_sen=MNB.fit(trainX_tfidf,X['sentiment'])"
      ],
      "execution_count": null,
      "outputs": []
    },
    {
      "cell_type": "code",
      "metadata": {
        "colab": {
          "base_uri": "https://localhost:8080/"
        },
        "id": "7yfLlKcFn9TD",
        "outputId": "707cb28d-8e08-4880-fcb6-b673019939ee"
      },
      "source": [
        "# def MNB_sentiment():\n",
        "predicted_train = MNB_sen.predict(trainX_tfidf)\n",
        "print(\"The accuracy score of train data {0}\".format(accuracy_score(predicted_train, X['sentiment'])))\n",
        "predicted_test= MNB_sen.predict(testX_tfidf)\n",
        "print(\"The accuracy score of test data {0}\".format(accuracy_score(predicted_test, y['sentiment'])))\n",
        "print(\"------------test data-------\")\n",
        "print(confusion_matrix(predicted_test,y['sentiment']))"
      ],
      "execution_count": null,
      "outputs": [
        {
          "output_type": "stream",
          "text": [
            "The accuracy score of train data 0.7228330350294042\n",
            "The accuracy score of test data 0.6357361963190185\n",
            "------------test data-------\n",
            "[[149  13   8]\n",
            " [  5  49   8]\n",
            " [284 157 631]]\n"
          ],
          "name": "stdout"
        }
      ]
    },
    {
      "cell_type": "code",
      "metadata": {
        "colab": {
          "base_uri": "https://localhost:8080/"
        },
        "id": "XtPZLEvbYIji",
        "outputId": "1eb19bd3-e148-473f-9265-65aa97b00cf4"
      },
      "source": [
        "print(Counter(predicted_test))\n",
        "print(Counter(y['sentiment']))"
      ],
      "execution_count": null,
      "outputs": [
        {
          "output_type": "stream",
          "text": [
            "Counter({2: 1072, 0: 170, 1: 62})\n",
            "Counter({2: 647, 0: 438, 1: 219})\n"
          ],
          "name": "stdout"
        }
      ]
    },
    {
      "cell_type": "code",
      "metadata": {
        "id": "szssCaKloUsY"
      },
      "source": [
        "MNB = MultinomialNB()\n",
        "MNB_sen=MNB.fit(trainX_tfidf,X['label_aspect'])"
      ],
      "execution_count": null,
      "outputs": []
    },
    {
      "cell_type": "code",
      "metadata": {
        "colab": {
          "base_uri": "https://localhost:8080/"
        },
        "id": "Xvk79YwDoYUR",
        "outputId": "331865e6-54ea-48f5-ab79-27e707eb49fc"
      },
      "source": [
        "# def MNB_sentiment():\n",
        "predicted_train = MNB_sen.predict(trainX_tfidf)\n",
        "print(\"The accuracy score of train data {0}\".format(accuracy_score(predicted_train, X['label_aspect'])))\n",
        "predicted_test= MNB_sen.predict(testX_tfidf)\n",
        "print(\"The accuracy score of test data {0}\".format(accuracy_score(predicted_test, y['label_aspect'])))\n",
        "print(\"------------test data-------\")\n",
        "print(confusion_matrix(predicted_test,y['label_aspect']))"
      ],
      "execution_count": null,
      "outputs": [
        {
          "output_type": "stream",
          "text": [
            "The accuracy score of train data 0.5699309639478394\n",
            "The accuracy score of test data 0.4915644171779141\n",
            "------------test data-------\n",
            "[[  0   0   0   0   0   0   0   0   0   0   0   0]\n",
            " [ 12 509  25  87  41  38 108  18 108  42  22 103]\n",
            " [  0   0   0   1   0   0   0   0   0   0   0   0]\n",
            " [  0   1   0  10   0   0   0   0   0   0   0   0]\n",
            " [  0   0   0   1   2   0   0   0   0   1   0   0]\n",
            " [  0   0   0   0   0   1   0   0   0   0   0   0]\n",
            " [  0   8   2   1   0   0  51   1   4   0   0   2]\n",
            " [  0   0   0   0   0   0   0   0   0   0   0   0]\n",
            " [  0   3   0   0   1   0   2   1  17   0   0   2]\n",
            " [  0   1   0   0   0   0   1   0   0   1   0   0]\n",
            " [  0   0   0   0   0   0   0   0   0   0   0   0]\n",
            " [  0  12   0   4   1   0   4   1   2   2   0  50]]\n"
          ],
          "name": "stdout"
        }
      ]
    },
    {
      "cell_type": "code",
      "metadata": {
        "id": "MX41o4Jpoo_5",
        "colab": {
          "base_uri": "https://localhost:8080/"
        },
        "outputId": "c3ba065c-66cc-49aa-8bae-31997f1adb85"
      },
      "source": [
        "print(Counter(predicted_test))\n",
        "print(Counter(y['label_aspect']))"
      ],
      "execution_count": null,
      "outputs": [
        {
          "output_type": "stream",
          "text": [
            "Counter({1: 1113, 11: 76, 6: 69, 8: 26, 3: 11, 4: 4, 9: 3, 5: 1, 2: 1})\n",
            "Counter({1: 534, 6: 166, 11: 157, 8: 131, 3: 104, 9: 46, 4: 45, 5: 39, 2: 27, 10: 22, 7: 21, 0: 12})\n"
          ],
          "name": "stdout"
        }
      ]
    },
    {
      "cell_type": "markdown",
      "metadata": {
        "id": "HPlZZrNoaee-"
      },
      "source": [
        "#### ii. Logistic regression"
      ]
    },
    {
      "cell_type": "code",
      "metadata": {
        "id": "_2ZTLd_DaKmB",
        "colab": {
          "base_uri": "https://localhost:8080/"
        },
        "outputId": "7088eeb4-e5dd-4627-ab83-247505a5d279"
      },
      "source": [
        "# Logistic Regression model\n",
        "logreg = LogisticRegression()\n",
        "logreg.fit(trainX_tfidf,X['sentiment'])"
      ],
      "execution_count": null,
      "outputs": [
        {
          "output_type": "stream",
          "text": [
            "/usr/local/lib/python3.7/dist-packages/sklearn/linear_model/_logistic.py:940: ConvergenceWarning: lbfgs failed to converge (status=1):\n",
            "STOP: TOTAL NO. of ITERATIONS REACHED LIMIT.\n",
            "\n",
            "Increase the number of iterations (max_iter) or scale the data as shown in:\n",
            "    https://scikit-learn.org/stable/modules/preprocessing.html\n",
            "Please also refer to the documentation for alternative solver options:\n",
            "    https://scikit-learn.org/stable/modules/linear_model.html#logistic-regression\n",
            "  extra_warning_msg=_LOGISTIC_SOLVER_CONVERGENCE_MSG)\n"
          ],
          "name": "stderr"
        },
        {
          "output_type": "execute_result",
          "data": {
            "text/plain": [
              "LogisticRegression(C=1.0, class_weight=None, dual=False, fit_intercept=True,\n",
              "                   intercept_scaling=1, l1_ratio=None, max_iter=100,\n",
              "                   multi_class='auto', n_jobs=None, penalty='l2',\n",
              "                   random_state=None, solver='lbfgs', tol=0.0001, verbose=0,\n",
              "                   warm_start=False)"
            ]
          },
          "metadata": {
            "tags": []
          },
          "execution_count": 64
        }
      ]
    },
    {
      "cell_type": "markdown",
      "metadata": {
        "id": "ZQEllL4AWWYp"
      },
      "source": [
        "Sentiment analysis"
      ]
    },
    {
      "cell_type": "code",
      "metadata": {
        "colab": {
          "base_uri": "https://localhost:8080/"
        },
        "id": "Q74eUSNZWLLp",
        "outputId": "0c4f6f20-40d6-4bce-c660-3b952bda71d2"
      },
      "source": [
        "# def MNB_sentiment():\n",
        "predicted_train = logreg.predict(trainX_tfidf)\n",
        "print(\"The accuracy score of train data {0}\".format(accuracy_score(predicted_train, X['sentiment'])))\n",
        "predicted_test= logreg.predict(testX_tfidf)\n",
        "print(\"The accuracy score of test data {0}\".format(accuracy_score(predicted_test, y['sentiment'])))\n",
        "print(\"------------test data-------\")\n",
        "print(confusion_matrix(predicted_test,y['sentiment']))"
      ],
      "execution_count": null,
      "outputs": [
        {
          "output_type": "stream",
          "text": [
            "The accuracy score of train data 0.8634620301713117\n",
            "The accuracy score of test data 0.7507668711656442\n",
            "------------test data-------\n",
            "[[308  38  58]\n",
            " [ 20 116  34]\n",
            " [110  65 555]]\n"
          ],
          "name": "stdout"
        }
      ]
    },
    {
      "cell_type": "markdown",
      "metadata": {
        "id": "S0BiDsOPWZBB"
      },
      "source": [
        "Aspect Analysis"
      ]
    },
    {
      "cell_type": "code",
      "metadata": {
        "colab": {
          "base_uri": "https://localhost:8080/"
        },
        "id": "b1YFv_ozWSdn",
        "outputId": "511b282d-ec22-490e-df56-d7f138ee57d5"
      },
      "source": [
        "# Logistic Regression\n",
        "logreg = LogisticRegression()\n",
        "logreg.fit(trainX_tfidf,X['label_aspect'])"
      ],
      "execution_count": null,
      "outputs": [
        {
          "output_type": "stream",
          "text": [
            "/usr/local/lib/python3.7/dist-packages/sklearn/linear_model/_logistic.py:940: ConvergenceWarning: lbfgs failed to converge (status=1):\n",
            "STOP: TOTAL NO. of ITERATIONS REACHED LIMIT.\n",
            "\n",
            "Increase the number of iterations (max_iter) or scale the data as shown in:\n",
            "    https://scikit-learn.org/stable/modules/preprocessing.html\n",
            "Please also refer to the documentation for alternative solver options:\n",
            "    https://scikit-learn.org/stable/modules/linear_model.html#logistic-regression\n",
            "  extra_warning_msg=_LOGISTIC_SOLVER_CONVERGENCE_MSG)\n"
          ],
          "name": "stderr"
        },
        {
          "output_type": "execute_result",
          "data": {
            "text/plain": [
              "LogisticRegression(C=1.0, class_weight=None, dual=False, fit_intercept=True,\n",
              "                   intercept_scaling=1, l1_ratio=None, max_iter=100,\n",
              "                   multi_class='auto', n_jobs=None, penalty='l2',\n",
              "                   random_state=None, solver='lbfgs', tol=0.0001, verbose=0,\n",
              "                   warm_start=False)"
            ]
          },
          "metadata": {
            "tags": []
          },
          "execution_count": 66
        }
      ]
    },
    {
      "cell_type": "code",
      "metadata": {
        "colab": {
          "base_uri": "https://localhost:8080/"
        },
        "id": "uljOSNpwWj9A",
        "outputId": "5152b497-682e-4729-8be3-928579325e8e"
      },
      "source": [
        "# logistic regression on aspect\n",
        "predicted_train = logreg.predict(trainX_tfidf)\n",
        "print(\"The accuracy score of train data {0}\".format(accuracy_score(predicted_train, X['label_aspect'])))\n",
        "predicted_test= logreg.predict(testX_tfidf)\n",
        "print(\"The accuracy score of test data {0}\".format(accuracy_score(predicted_test, y['label_aspect'])))\n",
        "print(\"------------test data-------\")\n",
        "print(confusion_matrix(predicted_test,y['label_aspect']))"
      ],
      "execution_count": null,
      "outputs": [
        {
          "output_type": "stream",
          "text": [
            "The accuracy score of train data 0.6816670928151368\n",
            "The accuracy score of test data 0.6633435582822086\n",
            "------------test data-------\n",
            "[[  7   1   0   0   1   0   1   0   0   0   0   2]\n",
            " [  1 408   4  20   6   5  42   6  27  10   5  33]\n",
            " [  0   2  18   3   0   0   0   0   1   0   0   2]\n",
            " [  0  20   0  64   1   2   4   0   5   1   0   7]\n",
            " [  0   2   0   1  31   1   2   0   3   1   1   2]\n",
            " [  0   7   0   1   0  24   3   0   3   1   0   2]\n",
            " [  0  22   2   3   0   2  96   1   7   1   0   6]\n",
            " [  0   6   0   0   2   1   2   8   2   0   0   1]\n",
            " [  1  27   1   3   2   1   8   2  77   1   0   6]\n",
            " [  0   4   1   1   0   3   2   1   2  28   1   5]\n",
            " [  2   3   0   3   0   0   0   0   0   0  14   1]\n",
            " [  1  32   1   5   2   0   6   3   4   3   1  90]]\n"
          ],
          "name": "stdout"
        }
      ]
    },
    {
      "cell_type": "code",
      "metadata": {
        "colab": {
          "base_uri": "https://localhost:8080/"
        },
        "id": "oe5FeHy5XCCC",
        "outputId": "2ccb2e02-d2bb-4c2f-b57f-ffd9f3c3f2c8"
      },
      "source": [
        "print(Counter(predicted_test))\n",
        "print(Counter(y['label_aspect']))"
      ],
      "execution_count": null,
      "outputs": [
        {
          "output_type": "stream",
          "text": [
            "Counter({1: 567, 11: 148, 6: 140, 8: 129, 3: 104, 9: 48, 4: 44, 5: 41, 2: 26, 10: 23, 7: 22, 0: 12})\n",
            "Counter({1: 534, 6: 166, 11: 157, 8: 131, 3: 104, 9: 46, 4: 45, 5: 39, 2: 27, 10: 22, 7: 21, 0: 12})\n"
          ],
          "name": "stdout"
        }
      ]
    },
    {
      "cell_type": "markdown",
      "metadata": {
        "id": "Iu5hKvRKYlBw"
      },
      "source": [
        "#### iii. SVM"
      ]
    },
    {
      "cell_type": "code",
      "metadata": {
        "colab": {
          "base_uri": "https://localhost:8080/"
        },
        "id": "SrvVlve-XFqR",
        "outputId": "3e1a00b9-579e-45a0-9db7-acfb51ce1e19"
      },
      "source": [
        "#SVM model\n",
        "classifier_linear = svm.SVC(kernel='linear')\n",
        "classifier_linear.fit(trainX_tfidf,X['sentiment'])"
      ],
      "execution_count": null,
      "outputs": [
        {
          "output_type": "execute_result",
          "data": {
            "text/plain": [
              "SVC(C=1.0, break_ties=False, cache_size=200, class_weight=None, coef0=0.0,\n",
              "    decision_function_shape='ovr', degree=3, gamma='scale', kernel='linear',\n",
              "    max_iter=-1, probability=False, random_state=None, shrinking=True,\n",
              "    tol=0.001, verbose=False)"
            ]
          },
          "metadata": {
            "tags": []
          },
          "execution_count": 69
        }
      ]
    },
    {
      "cell_type": "code",
      "metadata": {
        "colab": {
          "base_uri": "https://localhost:8080/"
        },
        "id": "WXfeA-G9Yx3M",
        "outputId": "3428f7f4-b142-495e-8b6e-3a192fe93a60"
      },
      "source": [
        "predicted_train = classifier_linear.predict(trainX_tfidf)\n",
        "print(\"The accuracy score of train data {0}\".format(accuracy_score(predicted_train, X['sentiment'])))\n",
        "predicted_test= classifier_linear.predict(testX_tfidf)\n",
        "print(\"The accuracy score of test data {0}\".format(accuracy_score(predicted_test, y['sentiment'])))\n",
        "print(\"------------test data-------\")\n",
        "print(confusion_matrix(predicted_test,y['sentiment']))"
      ],
      "execution_count": null,
      "outputs": [
        {
          "output_type": "stream",
          "text": [
            "The accuracy score of train data 0.8880081820506265\n",
            "The accuracy score of test data 0.7661042944785276\n",
            "------------test data-------\n",
            "[[324  37  57]\n",
            " [ 17 116  31]\n",
            " [ 97  66 559]]\n"
          ],
          "name": "stdout"
        }
      ]
    },
    {
      "cell_type": "markdown",
      "metadata": {
        "id": "KadcsJITY7rD"
      },
      "source": [
        "Aspect analysis"
      ]
    },
    {
      "cell_type": "code",
      "metadata": {
        "colab": {
          "base_uri": "https://localhost:8080/"
        },
        "id": "w7Z30IRuY5UP",
        "outputId": "8e938de3-53b3-42a6-c2f1-37230cb32594"
      },
      "source": [
        "# SVM model\n",
        "classifier_linear = svm.SVC(kernel='linear')\n",
        "classifier_linear.fit(trainX_tfidf,X['label_aspect'])"
      ],
      "execution_count": null,
      "outputs": [
        {
          "output_type": "execute_result",
          "data": {
            "text/plain": [
              "SVC(C=1.0, break_ties=False, cache_size=200, class_weight=None, coef0=0.0,\n",
              "    decision_function_shape='ovr', degree=3, gamma='scale', kernel='linear',\n",
              "    max_iter=-1, probability=False, random_state=None, shrinking=True,\n",
              "    tol=0.001, verbose=False)"
            ]
          },
          "metadata": {
            "tags": []
          },
          "execution_count": 71
        }
      ]
    },
    {
      "cell_type": "code",
      "metadata": {
        "id": "KGYeAYW4Hrfm"
      },
      "source": [
        ""
      ],
      "execution_count": null,
      "outputs": []
    },
    {
      "cell_type": "code",
      "metadata": {
        "colab": {
          "base_uri": "https://localhost:8080/"
        },
        "id": "9paKmMSaZFjB",
        "outputId": "bb395b2f-ac2c-496a-a4f3-b1794e29f8b9"
      },
      "source": [
        "# printing results of train and test\n",
        "predicted_train = classifier_linear.predict(trainX_tfidf)\n",
        "print(\"The accuracy score of train data {0}\".format(accuracy_score(predicted_train, X['label_aspect'])))\n",
        "predicted_test= classifier_linear.predict(testX_tfidf)\n",
        "print(\"The accuracy score of test data {0}\".format(accuracy_score(predicted_test, y['label_aspect'])))\n",
        "print(\"------------test data-------\")\n",
        "print(confusion_matrix(predicted_test,y['label_aspect']))"
      ],
      "execution_count": null,
      "outputs": [
        {
          "output_type": "stream",
          "text": [
            "The accuracy score of train data 0.6865251853745845\n",
            "The accuracy score of test data 0.6648773006134969\n",
            "------------test data-------\n",
            "[[  7   1   0   0   1   0   1   0   0   0   0   2]\n",
            " [  1 408   4  19   6   5  41   6  26  10   5  32]\n",
            " [  0   2  18   3   0   0   0   0   1   0   0   2]\n",
            " [  0  20   0  64   1   2   4   0   5   1   0   7]\n",
            " [  0   2   0   1  31   1   2   0   3   1   1   2]\n",
            " [  0   7   0   1   0  24   3   0   3   1   0   2]\n",
            " [  0  22   2   3   0   2  96   1   7   1   0   6]\n",
            " [  0   6   0   0   2   1   2   8   2   0   0   1]\n",
            " [  1  27   1   4   2   1   8   2  78   1   0   6]\n",
            " [  0   4   1   1   0   3   2   1   2  28   1   5]\n",
            " [  2   3   0   3   0   0   0   0   0   0  14   1]\n",
            " [  1  32   1   5   2   0   7   3   4   3   1  91]]\n"
          ],
          "name": "stdout"
        }
      ]
    },
    {
      "cell_type": "code",
      "metadata": {
        "colab": {
          "base_uri": "https://localhost:8080/"
        },
        "id": "8F0oR0JyZMV0",
        "outputId": "aeab6d51-e14f-49b7-f105-6be26ed2501c"
      },
      "source": [
        "print(\"Predicted aspect labels\")\n",
        "print(Counter(predicted_test))\n",
        "print(\"Actual aspect labels\")\n",
        "print(Counter(y['label_aspect']))"
      ],
      "execution_count": null,
      "outputs": [
        {
          "output_type": "stream",
          "text": [
            "Predicted aspect labels\n",
            "Counter({1: 563, 11: 150, 6: 140, 8: 131, 3: 104, 9: 48, 4: 44, 5: 41, 2: 26, 10: 23, 7: 22, 0: 12})\n",
            "Actual aspect labels\n",
            "Counter({1: 534, 6: 166, 11: 157, 8: 131, 3: 104, 9: 46, 4: 45, 5: 39, 2: 27, 10: 22, 7: 21, 0: 12})\n"
          ],
          "name": "stdout"
        }
      ]
    },
    {
      "cell_type": "code",
      "metadata": {
        "id": "czJknEjmZQAZ"
      },
      "source": [
        ""
      ],
      "execution_count": null,
      "outputs": []
    }
  ]
}