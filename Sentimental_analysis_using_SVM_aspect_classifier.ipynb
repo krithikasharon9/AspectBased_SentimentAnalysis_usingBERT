{
  "nbformat": 4,
  "nbformat_minor": 0,
  "metadata": {
    "colab": {
      "name": "Sentimental analysis using SVM  aspect classifier.ipynb",
      "provenance": [],
      "toc_visible": true
    },
    "kernelspec": {
      "name": "python3",
      "display_name": "Python 3"
    },
    "language_info": {
      "name": "python"
    },
    "accelerator": "GPU"
  },
  "cells": [
    {
      "cell_type": "markdown",
      "metadata": {
        "id": "9Krf9dtmAL96"
      },
      "source": [
        "# SVM Aspect Analysis"
      ]
    },
    {
      "cell_type": "markdown",
      "metadata": {
        "id": "78i7iVVrAXeR"
      },
      "source": [
        "## Importing Libraries"
      ]
    },
    {
      "cell_type": "code",
      "metadata": {
        "id": "Xv4HNM4oBhgS"
      },
      "source": [
        " import json\n",
        "from tqdm import tqdm\n",
        "import pandas as pd\n",
        "import numpy as np\n",
        "import tensorflow as tf"
      ],
      "execution_count": null,
      "outputs": []
    },
    {
      "cell_type": "code",
      "metadata": {
        "id": "U_tMboXQBpCv"
      },
      "source": [
        "import warnings\n",
        "warnings.filterwarnings(\"ignore\")"
      ],
      "execution_count": null,
      "outputs": []
    },
    {
      "cell_type": "code",
      "metadata": {
        "id": "chQxQBEHBsZw"
      },
      "source": [
        "\n",
        "from sklearn.model_selection import train_test_split\n",
        "from sklearn.feature_extraction.text import TfidfVectorizer\n",
        "import nltk\n",
        "from nltk.tokenize import word_tokenize  \n",
        "\n",
        "from collections import Counter\n",
        "from sklearn.preprocessing import LabelEncoder\n",
        "\n",
        "from sklearn.metrics import  confusion_matrix\n",
        "from sklearn.metrics import accuracy_score\n",
        "from sklearn.metrics import roc_auc_score\n"
      ],
      "execution_count": null,
      "outputs": []
    },
    {
      "cell_type": "code",
      "metadata": {
        "colab": {
          "base_uri": "https://localhost:8080/"
        },
        "id": "BXTG4midCPdM",
        "outputId": "90470c11-b177-49c6-d10d-e0cac78cf091"
      },
      "source": [
        "from sklearn.naive_bayes import MultinomialNB\n",
        "from sklearn.model_selection import train_test_split\n",
        "from sklearn.feature_extraction.text import TfidfVectorizer\n",
        "import nltk\n",
        "from nltk.tokenize import word_tokenize  \n",
        "from sklearn.linear_model import LogisticRegression\n",
        "from sklearn import svm\n",
        "from collections import Counter\n",
        "from sklearn.preprocessing import LabelEncoder\n",
        "nltk.download('stopwords')\n",
        "nltk.download('punkt')\n",
        "from sklearn.metrics import  confusion_matrix\n",
        "from sklearn.metrics import accuracy_score\n",
        "from sklearn.metrics import roc_auc_score\n",
        "from nltk.stem import PorterStemmer\n",
        "from gensim.models import word2vec\n",
        "from sklearn.preprocessing import OneHotEncoder"
      ],
      "execution_count": null,
      "outputs": [
        {
          "output_type": "stream",
          "text": [
            "[nltk_data] Downloading package stopwords to /root/nltk_data...\n",
            "[nltk_data]   Unzipping corpora/stopwords.zip.\n",
            "[nltk_data] Downloading package punkt to /root/nltk_data...\n",
            "[nltk_data]   Unzipping tokenizers/punkt.zip.\n"
          ],
          "name": "stdout"
        }
      ]
    },
    {
      "cell_type": "code",
      "metadata": {
        "colab": {
          "base_uri": "https://localhost:8080/"
        },
        "id": "Vn5WDZroBuOr",
        "outputId": "2d7fc8a4-d2bf-4511-831f-5e58b36da749"
      },
      "source": [
        "from google.colab import drive\n",
        "drive.mount('/content/drive',force_remount=True)"
      ],
      "execution_count": null,
      "outputs": [
        {
          "output_type": "stream",
          "text": [
            "Mounted at /content/drive\n"
          ],
          "name": "stdout"
        }
      ]
    },
    {
      "cell_type": "markdown",
      "metadata": {
        "id": "DNIh0RYJAdwW"
      },
      "source": [
        "## Applying the SVM classifier for all the 12 aspects and 2 locations"
      ]
    },
    {
      "cell_type": "code",
      "metadata": {
        "id": "IeVfuZpuBziL",
        "colab": {
          "base_uri": "https://localhost:8080/"
        },
        "outputId": "2834fcb7-24f3-4a41-c030-0e626ec3f688"
      },
      "source": [
        "classifier_linear = svm.SVC(kernel='linear')\n",
        "tfidf = TfidfVectorizer()\n",
        "\n",
        "locations = ['LOCATION1','LOCATION2']\n",
        "aspects = ['dining', 'general', 'green-nature', 'live', 'multicultural', 'nightlife', 'price', 'quiet', 'safety','shopping', 'touristy', 'transit-location']\n",
        "test_score=pd.DataFrame({'Location_Aspect':[],'Test_Accuracy':[]})\n",
        "for location in locations:\n",
        "    for aspect in aspects:\n",
        "      print(f\"Starting {location} {aspect}...\")\n",
        "      training_set_path = '/content/drive/My Drive/SentiHood/Bert-single/TrainingData/' + str(location) + str(aspect) + '.csv'\n",
        "      validation_set_path = '/content/drive/My Drive/SentiHood/Bert-single/ValidationData/' + str(location) + str(aspect) + '.csv'\n",
        "      testing_set_path = '/content/drive/My Drive/SentiHood/Bert-single/TestingData/' + str(location) + str(aspect) + '.csv'\n",
        "\n",
        "      df_train = pd.read_csv(training_set_path)\n",
        "      df_valid = pd.read_csv(validation_set_path)\n",
        "      df_test=pd.read_csv(testing_set_path)\n",
        "      sentiment_mapping = {\n",
        "          'Positive': 2,\n",
        "          'Negative': 1,\n",
        "          'None': 0\n",
        "      }\n",
        "      df_train['sentiment'] = df_train['sentiment'].map(sentiment_mapping)\n",
        "      df_valid['sentiment'] = df_valid['sentiment'].map(sentiment_mapping)\n",
        "      df_test['sentiment'] = df_test['sentiment'].map(sentiment_mapping)\n",
        "      df_train = df_train.reset_index(drop=True)\n",
        "      df_valid = df_valid.reset_index(drop=True)\n",
        "      df_test = df_test.reset_index(drop=True)\n",
        "\n",
        "      df_final=pd.concat([df_train,df_valid])\n",
        "\n",
        "      Train_tfidf = tfidf.fit_transform(df_final['text'])\n",
        "      Test_tfidf=tfidf.transform(df_test['text'])\n",
        "\n",
        "      #SVM model\n",
        "      classifier_linear.fit(Train_tfidf,df_final['sentiment'])\n",
        "\n",
        "      # def SVM_sentiment():\n",
        "      predicted_train = classifier_linear.predict(Train_tfidf)\n",
        "      print(\"The accuracy score of train data {0}\".format(accuracy_score(predicted_train, df_final['sentiment'])))\n",
        "      predicted_test= classifier_linear.predict(Test_tfidf)\n",
        "      print(\"The accuracy score of test data {0}\".format(accuracy_score(predicted_test, df_test['sentiment'])))\n",
        "\n",
        "      predicted_result=pd.DataFrame({'id':df_test['id'],'predicted_values':predicted_test,'Actual_values':df_test['sentiment']})\n",
        "      \n",
        "      \n",
        "      #predicted_result.to_csv('/content/drive/My Drive/SentiHood/Bert-single/SVM_PredictedResults/' + str(location) + str(aspect) + '.csv', index=False)\n"
      ],
      "execution_count": null,
      "outputs": [
        {
          "output_type": "stream",
          "text": [
            "Starting LOCATION1 dining...\n",
            "The accuracy score of train data 0.9967776584317938\n",
            "The accuracy score of test data 0.9932930918846412\n",
            "Starting LOCATION1 general...\n",
            "The accuracy score of train data 0.8850698174006445\n",
            "The accuracy score of test data 0.784037558685446\n",
            "Starting LOCATION1 green-nature...\n",
            "The accuracy score of train data 0.9871106337271751\n",
            "The accuracy score of test data 0.9805499664654594\n",
            "Starting LOCATION1 live...\n",
            "The accuracy score of train data 0.9771750805585392\n",
            "The accuracy score of test data 0.95439302481556\n",
            "Starting LOCATION1 multicultural...\n",
            "The accuracy score of train data 0.9860365198711063\n",
            "The accuracy score of test data 0.9818913480885312\n",
            "Starting LOCATION1 nightlife...\n",
            "The accuracy score of train data 0.9892588614393125\n",
            "The accuracy score of test data 0.9805499664654594\n",
            "Starting LOCATION1 price...\n",
            "The accuracy score of train data 0.9616004296455424\n",
            "The accuracy score of test data 0.9470154258886653\n",
            "Starting LOCATION1 quiet...\n",
            "The accuracy score of train data 0.9938238453276047\n",
            "The accuracy score of test data 0.98859825620389\n",
            "Starting LOCATION1 safety...\n",
            "The accuracy score of train data 0.9715359828141783\n",
            "The accuracy score of test data 0.959758551307847\n",
            "Starting LOCATION1 shopping...\n",
            "The accuracy score of train data 0.9935553168635876\n",
            "The accuracy score of test data 0.9805499664654594\n",
            "Starting LOCATION1 touristy...\n",
            "The accuracy score of train data 0.994092373791622\n",
            "The accuracy score of test data 0.9859154929577465\n",
            "Starting LOCATION1 transit-location...\n",
            "The accuracy score of train data 0.9575725026852846\n",
            "The accuracy score of test data 0.9181757209926223\n",
            "Starting LOCATION2 dining...\n",
            "The accuracy score of train data 0.9917098445595854\n",
            "The accuracy score of test data 0.9871134020618557\n",
            "Starting LOCATION2 general...\n",
            "The accuracy score of train data 0.9098445595854923\n",
            "The accuracy score of test data 0.7809278350515464\n",
            "Starting LOCATION2 green-nature...\n",
            "The accuracy score of train data 0.9875647668393782\n",
            "The accuracy score of test data 0.9819587628865979\n",
            "Starting LOCATION2 live...\n",
            "The accuracy score of train data 0.9626943005181348\n",
            "The accuracy score of test data 0.9536082474226805\n",
            "Starting LOCATION2 multicultural...\n",
            "The accuracy score of train data 0.9854922279792746\n",
            "The accuracy score of test data 0.9819587628865979\n",
            "Starting LOCATION2 nightlife...\n",
            "The accuracy score of train data 0.9875647668393782\n",
            "The accuracy score of test data 0.9845360824742269\n",
            "Starting LOCATION2 price...\n",
            "The accuracy score of train data 0.9585492227979274\n",
            "The accuracy score of test data 0.884020618556701\n",
            "Starting LOCATION2 quiet...\n",
            "The accuracy score of train data 0.9906735751295337\n",
            "The accuracy score of test data 0.9819587628865979\n",
            "Starting LOCATION2 safety...\n",
            "The accuracy score of train data 0.9658031088082901\n",
            "The accuracy score of test data 0.9329896907216495\n",
            "Starting LOCATION2 shopping...\n",
            "The accuracy score of train data 0.9927461139896373\n",
            "The accuracy score of test data 0.9639175257731959\n",
            "Starting LOCATION2 touristy...\n",
            "The accuracy score of train data 0.9968911917098445\n",
            "The accuracy score of test data 0.9871134020618557\n",
            "Starting LOCATION2 transit-location...\n",
            "The accuracy score of train data 0.9512953367875647\n",
            "The accuracy score of test data 0.9072164948453608\n"
          ],
          "name": "stdout"
        }
      ]
    },
    {
      "cell_type": "code",
      "metadata": {
        "id": "pqdb9E2yZjYG"
      },
      "source": [
        "# Storing predicted values for location 1 in a path\n",
        "df_true_location1 = pd.DataFrame({'id': [], 'location': [] , 'dining': [], 'general': [], 'green-nature': [], 'live': [], 'multicultural': [], 'nightlife': [], 'price': [], 'quiet': [], 'safety': [],'shopping': [], 'touristy': [], 'transit-location': []})\n",
        "aspects = ['dining', 'general', 'green-nature', 'live', 'multicultural', 'nightlife', 'price', 'quiet', 'safety','shopping', 'touristy', 'transit-location']\n",
        "\n",
        "for aspect in aspects:\n",
        "  testing_set_path =  '/content/drive/My Drive/SentiHood/Bert-single/TestingData/LOCATION1' + str(aspect) + '.csv'\n",
        "\n",
        "  df_test = pd.read_csv(testing_set_path)\n",
        "  sentiment_mapping = {\n",
        "     'Positive': 2,\n",
        "          'Negative': 1,\n",
        "          'None': 0\n",
        "  }\n",
        "  df_test['sentiment'] = df_test['sentiment'].map(sentiment_mapping)\n",
        "  df_test = df_test.reset_index(drop=True)\n",
        "\n",
        "  df_true_location1[aspect] = df_test['sentiment']\n",
        "\n",
        "df_true_location1['location'] = 'LOCATION1'\n",
        "df_true_location1['id'] = df_test['id']"
      ],
      "execution_count": null,
      "outputs": []
    },
    {
      "cell_type": "code",
      "metadata": {
        "id": "FhBTyOTwdX_f"
      },
      "source": [
        "# Storing predicted values for location 2 in a path\n",
        "df_true_location2 = pd.DataFrame({'id': [], 'location': [] , 'dining': [], 'general': [], 'green-nature': [], 'live': [], 'multicultural': [], 'nightlife': [], 'price': [], 'quiet': [], 'safety': [],'shopping': [], 'touristy': [], 'transit-location': []})\n",
        "aspects = ['dining', 'general', 'green-nature', 'live', 'multicultural', 'nightlife', 'price', 'quiet', 'safety','shopping', 'touristy', 'transit-location']\n",
        "\n",
        "for aspect in aspects:\n",
        "  testing_set_path = '/content/drive/My Drive/SentiHood/Bert-single/TestingData/LOCATION2' + str(aspect) + '.csv'\n",
        "\n",
        "  df_test = pd.read_csv(testing_set_path)\n",
        "  sentiment_mapping = {\n",
        "      'Positive': 2,\n",
        "          'Negative': 1,\n",
        "          'None': 0\n",
        "  }\n",
        "  df_test['sentiment'] = df_test['sentiment'].map(sentiment_mapping)\n",
        "  df_test = df_test.reset_index(drop=True)\n",
        "\n",
        "  df_true_location2[aspect] = df_test['sentiment']\n",
        "\n",
        "df_true_location2['location'] = 'LOCATION2'\n",
        "df_true_location2['id'] = df_test['id']"
      ],
      "execution_count": null,
      "outputs": []
    },
    {
      "cell_type": "code",
      "metadata": {
        "colab": {
          "base_uri": "https://localhost:8080/",
          "height": 423
        },
        "id": "noeY2E_TdcDC",
        "outputId": "99b13b55-fd4a-4181-9242-f1b19f5f1bfa"
      },
      "source": [
        "# concatinating all the predicted values into a csv\n",
        "df_true = pd.concat([df_true_location1, df_true_location2])\n",
        "df_true"
      ],
      "execution_count": null,
      "outputs": [
        {
          "output_type": "execute_result",
          "data": {
            "text/html": [
              "<div>\n",
              "<style scoped>\n",
              "    .dataframe tbody tr th:only-of-type {\n",
              "        vertical-align: middle;\n",
              "    }\n",
              "\n",
              "    .dataframe tbody tr th {\n",
              "        vertical-align: top;\n",
              "    }\n",
              "\n",
              "    .dataframe thead th {\n",
              "        text-align: right;\n",
              "    }\n",
              "</style>\n",
              "<table border=\"1\" class=\"dataframe\">\n",
              "  <thead>\n",
              "    <tr style=\"text-align: right;\">\n",
              "      <th></th>\n",
              "      <th>id</th>\n",
              "      <th>location</th>\n",
              "      <th>dining</th>\n",
              "      <th>general</th>\n",
              "      <th>green-nature</th>\n",
              "      <th>live</th>\n",
              "      <th>multicultural</th>\n",
              "      <th>nightlife</th>\n",
              "      <th>price</th>\n",
              "      <th>quiet</th>\n",
              "      <th>safety</th>\n",
              "      <th>shopping</th>\n",
              "      <th>touristy</th>\n",
              "      <th>transit-location</th>\n",
              "    </tr>\n",
              "  </thead>\n",
              "  <tbody>\n",
              "    <tr>\n",
              "      <th>0</th>\n",
              "      <td>153</td>\n",
              "      <td>LOCATION1</td>\n",
              "      <td>0</td>\n",
              "      <td>0</td>\n",
              "      <td>0</td>\n",
              "      <td>0</td>\n",
              "      <td>0</td>\n",
              "      <td>0</td>\n",
              "      <td>0</td>\n",
              "      <td>0</td>\n",
              "      <td>2</td>\n",
              "      <td>0</td>\n",
              "      <td>0</td>\n",
              "      <td>0</td>\n",
              "    </tr>\n",
              "    <tr>\n",
              "      <th>1</th>\n",
              "      <td>1130</td>\n",
              "      <td>LOCATION1</td>\n",
              "      <td>0</td>\n",
              "      <td>2</td>\n",
              "      <td>0</td>\n",
              "      <td>0</td>\n",
              "      <td>0</td>\n",
              "      <td>0</td>\n",
              "      <td>0</td>\n",
              "      <td>0</td>\n",
              "      <td>2</td>\n",
              "      <td>0</td>\n",
              "      <td>0</td>\n",
              "      <td>0</td>\n",
              "    </tr>\n",
              "    <tr>\n",
              "      <th>2</th>\n",
              "      <td>1271</td>\n",
              "      <td>LOCATION1</td>\n",
              "      <td>0</td>\n",
              "      <td>1</td>\n",
              "      <td>0</td>\n",
              "      <td>0</td>\n",
              "      <td>0</td>\n",
              "      <td>0</td>\n",
              "      <td>2</td>\n",
              "      <td>0</td>\n",
              "      <td>0</td>\n",
              "      <td>0</td>\n",
              "      <td>0</td>\n",
              "      <td>0</td>\n",
              "    </tr>\n",
              "    <tr>\n",
              "      <th>3</th>\n",
              "      <td>1089</td>\n",
              "      <td>LOCATION1</td>\n",
              "      <td>0</td>\n",
              "      <td>1</td>\n",
              "      <td>0</td>\n",
              "      <td>0</td>\n",
              "      <td>0</td>\n",
              "      <td>0</td>\n",
              "      <td>0</td>\n",
              "      <td>0</td>\n",
              "      <td>0</td>\n",
              "      <td>0</td>\n",
              "      <td>0</td>\n",
              "      <td>0</td>\n",
              "    </tr>\n",
              "    <tr>\n",
              "      <th>4</th>\n",
              "      <td>731</td>\n",
              "      <td>LOCATION1</td>\n",
              "      <td>0</td>\n",
              "      <td>0</td>\n",
              "      <td>0</td>\n",
              "      <td>0</td>\n",
              "      <td>0</td>\n",
              "      <td>0</td>\n",
              "      <td>0</td>\n",
              "      <td>0</td>\n",
              "      <td>0</td>\n",
              "      <td>0</td>\n",
              "      <td>0</td>\n",
              "      <td>0</td>\n",
              "    </tr>\n",
              "    <tr>\n",
              "      <th>...</th>\n",
              "      <td>...</td>\n",
              "      <td>...</td>\n",
              "      <td>...</td>\n",
              "      <td>...</td>\n",
              "      <td>...</td>\n",
              "      <td>...</td>\n",
              "      <td>...</td>\n",
              "      <td>...</td>\n",
              "      <td>...</td>\n",
              "      <td>...</td>\n",
              "      <td>...</td>\n",
              "      <td>...</td>\n",
              "      <td>...</td>\n",
              "      <td>...</td>\n",
              "    </tr>\n",
              "    <tr>\n",
              "      <th>383</th>\n",
              "      <td>1431</td>\n",
              "      <td>LOCATION2</td>\n",
              "      <td>0</td>\n",
              "      <td>2</td>\n",
              "      <td>0</td>\n",
              "      <td>0</td>\n",
              "      <td>0</td>\n",
              "      <td>0</td>\n",
              "      <td>0</td>\n",
              "      <td>0</td>\n",
              "      <td>0</td>\n",
              "      <td>0</td>\n",
              "      <td>0</td>\n",
              "      <td>0</td>\n",
              "    </tr>\n",
              "    <tr>\n",
              "      <th>384</th>\n",
              "      <td>1290</td>\n",
              "      <td>LOCATION2</td>\n",
              "      <td>0</td>\n",
              "      <td>2</td>\n",
              "      <td>0</td>\n",
              "      <td>0</td>\n",
              "      <td>0</td>\n",
              "      <td>0</td>\n",
              "      <td>0</td>\n",
              "      <td>0</td>\n",
              "      <td>0</td>\n",
              "      <td>0</td>\n",
              "      <td>0</td>\n",
              "      <td>0</td>\n",
              "    </tr>\n",
              "    <tr>\n",
              "      <th>385</th>\n",
              "      <td>363</td>\n",
              "      <td>LOCATION2</td>\n",
              "      <td>0</td>\n",
              "      <td>0</td>\n",
              "      <td>0</td>\n",
              "      <td>0</td>\n",
              "      <td>0</td>\n",
              "      <td>0</td>\n",
              "      <td>0</td>\n",
              "      <td>0</td>\n",
              "      <td>0</td>\n",
              "      <td>0</td>\n",
              "      <td>0</td>\n",
              "      <td>0</td>\n",
              "    </tr>\n",
              "    <tr>\n",
              "      <th>386</th>\n",
              "      <td>1304</td>\n",
              "      <td>LOCATION2</td>\n",
              "      <td>0</td>\n",
              "      <td>2</td>\n",
              "      <td>0</td>\n",
              "      <td>0</td>\n",
              "      <td>0</td>\n",
              "      <td>0</td>\n",
              "      <td>0</td>\n",
              "      <td>0</td>\n",
              "      <td>0</td>\n",
              "      <td>0</td>\n",
              "      <td>0</td>\n",
              "      <td>0</td>\n",
              "    </tr>\n",
              "    <tr>\n",
              "      <th>387</th>\n",
              "      <td>1379</td>\n",
              "      <td>LOCATION2</td>\n",
              "      <td>0</td>\n",
              "      <td>2</td>\n",
              "      <td>0</td>\n",
              "      <td>0</td>\n",
              "      <td>0</td>\n",
              "      <td>0</td>\n",
              "      <td>0</td>\n",
              "      <td>0</td>\n",
              "      <td>0</td>\n",
              "      <td>0</td>\n",
              "      <td>0</td>\n",
              "      <td>0</td>\n",
              "    </tr>\n",
              "  </tbody>\n",
              "</table>\n",
              "<p>1879 rows × 14 columns</p>\n",
              "</div>"
            ],
            "text/plain": [
              "       id   location  dining  ...  shopping  touristy  transit-location\n",
              "0     153  LOCATION1       0  ...         0         0                 0\n",
              "1    1130  LOCATION1       0  ...         0         0                 0\n",
              "2    1271  LOCATION1       0  ...         0         0                 0\n",
              "3    1089  LOCATION1       0  ...         0         0                 0\n",
              "4     731  LOCATION1       0  ...         0         0                 0\n",
              "..    ...        ...     ...  ...       ...       ...               ...\n",
              "383  1431  LOCATION2       0  ...         0         0                 0\n",
              "384  1290  LOCATION2       0  ...         0         0                 0\n",
              "385   363  LOCATION2       0  ...         0         0                 0\n",
              "386  1304  LOCATION2       0  ...         0         0                 0\n",
              "387  1379  LOCATION2       0  ...         0         0                 0\n",
              "\n",
              "[1879 rows x 14 columns]"
            ]
          },
          "metadata": {
            "tags": []
          },
          "execution_count": 8
        }
      ]
    },
    {
      "cell_type": "code",
      "metadata": {
        "id": "jKEcCPzAdfX3"
      },
      "source": [
        "\n",
        "df_predicted_location1 = pd.DataFrame({'id': [], 'location': [] , 'dining': [], 'general': [], 'green-nature': [], 'live': [], 'multicultural': [], 'nightlife': [], 'price': [], 'quiet': [], 'safety': [],'shopping': [], 'touristy': [], 'transit-location': []})\n",
        "aspects = ['dining', 'general', 'green-nature', 'live', 'multicultural', 'nightlife', 'price', 'quiet', 'safety','shopping', 'touristy', 'transit-location']\n",
        "\n",
        "for aspect in aspects:\n",
        "  testing_set_path = '/content/drive/My Drive/SentiHood/Bert-single/SVM_PredictedResults/LOCATION1' + str(aspect) + '.csv'\n",
        "\n",
        "  df_test = pd.read_csv(testing_set_path)\n",
        "  df_test = df_test.reset_index(drop=True)\n",
        "\n",
        "  df_predicted_location1[aspect] = df_test['predicted_values']\n",
        "\n",
        "df_predicted_location1['location'] = 'LOCATION1'\n",
        "df_predicted_location1['id'] = df_test['id']"
      ],
      "execution_count": null,
      "outputs": []
    },
    {
      "cell_type": "code",
      "metadata": {
        "id": "ZHGxVCOmdpce"
      },
      "source": [
        "df_predicted_location2 = pd.DataFrame({'id': [], 'location': [] , 'dining': [], 'general': [], 'green-nature': [], 'live': [], 'multicultural': [], 'nightlife': [], 'price': [], 'quiet': [], 'safety': [],'shopping': [], 'touristy': [], 'transit-location': []})\n",
        "aspects = ['dining', 'general', 'green-nature', 'live', 'multicultural', 'nightlife', 'price', 'quiet', 'safety','shopping', 'touristy', 'transit-location']\n",
        "\n",
        "for aspect in aspects:\n",
        "  testing_set_path = '/content/drive/My Drive/SentiHood/Bert-single/SVM_PredictedResults/LOCATION2' + str(aspect) + '.csv'\n",
        "\n",
        "  df_test = pd.read_csv(testing_set_path)\n",
        "  df_test = df_test.reset_index(drop=True)\n",
        "\n",
        "  df_predicted_location2[aspect] = df_test['predicted_values']\n",
        "\n",
        "df_predicted_location2['location'] = 'LOCATION2'\n",
        "df_predicted_location2['id'] = df_test['id']"
      ],
      "execution_count": null,
      "outputs": []
    },
    {
      "cell_type": "code",
      "metadata": {
        "colab": {
          "base_uri": "https://localhost:8080/",
          "height": 423
        },
        "id": "vNlh5jUSdsLh",
        "outputId": "dd93e38b-843b-407d-ac67-cf038aa19c18"
      },
      "source": [
        "df_predicted = pd.concat([df_predicted_location1, df_predicted_location2])\n",
        "df_predicted"
      ],
      "execution_count": null,
      "outputs": [
        {
          "output_type": "execute_result",
          "data": {
            "text/html": [
              "<div>\n",
              "<style scoped>\n",
              "    .dataframe tbody tr th:only-of-type {\n",
              "        vertical-align: middle;\n",
              "    }\n",
              "\n",
              "    .dataframe tbody tr th {\n",
              "        vertical-align: top;\n",
              "    }\n",
              "\n",
              "    .dataframe thead th {\n",
              "        text-align: right;\n",
              "    }\n",
              "</style>\n",
              "<table border=\"1\" class=\"dataframe\">\n",
              "  <thead>\n",
              "    <tr style=\"text-align: right;\">\n",
              "      <th></th>\n",
              "      <th>id</th>\n",
              "      <th>location</th>\n",
              "      <th>dining</th>\n",
              "      <th>general</th>\n",
              "      <th>green-nature</th>\n",
              "      <th>live</th>\n",
              "      <th>multicultural</th>\n",
              "      <th>nightlife</th>\n",
              "      <th>price</th>\n",
              "      <th>quiet</th>\n",
              "      <th>safety</th>\n",
              "      <th>shopping</th>\n",
              "      <th>touristy</th>\n",
              "      <th>transit-location</th>\n",
              "    </tr>\n",
              "  </thead>\n",
              "  <tbody>\n",
              "    <tr>\n",
              "      <th>0</th>\n",
              "      <td>153</td>\n",
              "      <td>LOCATION1</td>\n",
              "      <td>0</td>\n",
              "      <td>0</td>\n",
              "      <td>0</td>\n",
              "      <td>0</td>\n",
              "      <td>0</td>\n",
              "      <td>0</td>\n",
              "      <td>0</td>\n",
              "      <td>0</td>\n",
              "      <td>2</td>\n",
              "      <td>0</td>\n",
              "      <td>0</td>\n",
              "      <td>0</td>\n",
              "    </tr>\n",
              "    <tr>\n",
              "      <th>1</th>\n",
              "      <td>1130</td>\n",
              "      <td>LOCATION1</td>\n",
              "      <td>0</td>\n",
              "      <td>2</td>\n",
              "      <td>0</td>\n",
              "      <td>0</td>\n",
              "      <td>0</td>\n",
              "      <td>0</td>\n",
              "      <td>0</td>\n",
              "      <td>0</td>\n",
              "      <td>2</td>\n",
              "      <td>0</td>\n",
              "      <td>0</td>\n",
              "      <td>0</td>\n",
              "    </tr>\n",
              "    <tr>\n",
              "      <th>2</th>\n",
              "      <td>1271</td>\n",
              "      <td>LOCATION1</td>\n",
              "      <td>0</td>\n",
              "      <td>2</td>\n",
              "      <td>0</td>\n",
              "      <td>0</td>\n",
              "      <td>0</td>\n",
              "      <td>0</td>\n",
              "      <td>2</td>\n",
              "      <td>0</td>\n",
              "      <td>0</td>\n",
              "      <td>0</td>\n",
              "      <td>0</td>\n",
              "      <td>0</td>\n",
              "    </tr>\n",
              "    <tr>\n",
              "      <th>3</th>\n",
              "      <td>1089</td>\n",
              "      <td>LOCATION1</td>\n",
              "      <td>0</td>\n",
              "      <td>0</td>\n",
              "      <td>0</td>\n",
              "      <td>0</td>\n",
              "      <td>0</td>\n",
              "      <td>0</td>\n",
              "      <td>0</td>\n",
              "      <td>0</td>\n",
              "      <td>0</td>\n",
              "      <td>0</td>\n",
              "      <td>0</td>\n",
              "      <td>0</td>\n",
              "    </tr>\n",
              "    <tr>\n",
              "      <th>4</th>\n",
              "      <td>731</td>\n",
              "      <td>LOCATION1</td>\n",
              "      <td>0</td>\n",
              "      <td>0</td>\n",
              "      <td>0</td>\n",
              "      <td>0</td>\n",
              "      <td>0</td>\n",
              "      <td>0</td>\n",
              "      <td>0</td>\n",
              "      <td>0</td>\n",
              "      <td>0</td>\n",
              "      <td>0</td>\n",
              "      <td>0</td>\n",
              "      <td>0</td>\n",
              "    </tr>\n",
              "    <tr>\n",
              "      <th>...</th>\n",
              "      <td>...</td>\n",
              "      <td>...</td>\n",
              "      <td>...</td>\n",
              "      <td>...</td>\n",
              "      <td>...</td>\n",
              "      <td>...</td>\n",
              "      <td>...</td>\n",
              "      <td>...</td>\n",
              "      <td>...</td>\n",
              "      <td>...</td>\n",
              "      <td>...</td>\n",
              "      <td>...</td>\n",
              "      <td>...</td>\n",
              "      <td>...</td>\n",
              "    </tr>\n",
              "    <tr>\n",
              "      <th>383</th>\n",
              "      <td>1431</td>\n",
              "      <td>LOCATION2</td>\n",
              "      <td>0</td>\n",
              "      <td>2</td>\n",
              "      <td>0</td>\n",
              "      <td>0</td>\n",
              "      <td>0</td>\n",
              "      <td>0</td>\n",
              "      <td>0</td>\n",
              "      <td>0</td>\n",
              "      <td>0</td>\n",
              "      <td>0</td>\n",
              "      <td>0</td>\n",
              "      <td>0</td>\n",
              "    </tr>\n",
              "    <tr>\n",
              "      <th>384</th>\n",
              "      <td>1290</td>\n",
              "      <td>LOCATION2</td>\n",
              "      <td>0</td>\n",
              "      <td>0</td>\n",
              "      <td>0</td>\n",
              "      <td>0</td>\n",
              "      <td>0</td>\n",
              "      <td>0</td>\n",
              "      <td>0</td>\n",
              "      <td>0</td>\n",
              "      <td>0</td>\n",
              "      <td>0</td>\n",
              "      <td>0</td>\n",
              "      <td>0</td>\n",
              "    </tr>\n",
              "    <tr>\n",
              "      <th>385</th>\n",
              "      <td>363</td>\n",
              "      <td>LOCATION2</td>\n",
              "      <td>0</td>\n",
              "      <td>0</td>\n",
              "      <td>0</td>\n",
              "      <td>0</td>\n",
              "      <td>0</td>\n",
              "      <td>0</td>\n",
              "      <td>0</td>\n",
              "      <td>0</td>\n",
              "      <td>0</td>\n",
              "      <td>0</td>\n",
              "      <td>0</td>\n",
              "      <td>0</td>\n",
              "    </tr>\n",
              "    <tr>\n",
              "      <th>386</th>\n",
              "      <td>1304</td>\n",
              "      <td>LOCATION2</td>\n",
              "      <td>0</td>\n",
              "      <td>0</td>\n",
              "      <td>0</td>\n",
              "      <td>0</td>\n",
              "      <td>0</td>\n",
              "      <td>0</td>\n",
              "      <td>0</td>\n",
              "      <td>0</td>\n",
              "      <td>0</td>\n",
              "      <td>0</td>\n",
              "      <td>0</td>\n",
              "      <td>0</td>\n",
              "    </tr>\n",
              "    <tr>\n",
              "      <th>387</th>\n",
              "      <td>1379</td>\n",
              "      <td>LOCATION2</td>\n",
              "      <td>0</td>\n",
              "      <td>2</td>\n",
              "      <td>0</td>\n",
              "      <td>0</td>\n",
              "      <td>0</td>\n",
              "      <td>0</td>\n",
              "      <td>0</td>\n",
              "      <td>0</td>\n",
              "      <td>0</td>\n",
              "      <td>0</td>\n",
              "      <td>0</td>\n",
              "      <td>0</td>\n",
              "    </tr>\n",
              "  </tbody>\n",
              "</table>\n",
              "<p>1879 rows × 14 columns</p>\n",
              "</div>"
            ],
            "text/plain": [
              "       id   location  dining  ...  shopping  touristy  transit-location\n",
              "0     153  LOCATION1       0  ...         0         0                 0\n",
              "1    1130  LOCATION1       0  ...         0         0                 0\n",
              "2    1271  LOCATION1       0  ...         0         0                 0\n",
              "3    1089  LOCATION1       0  ...         0         0                 0\n",
              "4     731  LOCATION1       0  ...         0         0                 0\n",
              "..    ...        ...     ...  ...       ...       ...               ...\n",
              "383  1431  LOCATION2       0  ...         0         0                 0\n",
              "384  1290  LOCATION2       0  ...         0         0                 0\n",
              "385   363  LOCATION2       0  ...         0         0                 0\n",
              "386  1304  LOCATION2       0  ...         0         0                 0\n",
              "387  1379  LOCATION2       0  ...         0         0                 0\n",
              "\n",
              "[1879 rows x 14 columns]"
            ]
          },
          "metadata": {
            "tags": []
          },
          "execution_count": 11
        }
      ]
    },
    {
      "cell_type": "code",
      "metadata": {
        "id": "wXvsx9wodu9D"
      },
      "source": [
        "# accuracy\n",
        "def compute_sentiment_accuracy(df_true, df_predicted):\n",
        "  \"\"\"This function computes the sentiment classfication accuracy\"\"\"\n",
        "\n",
        "  count = 0\n",
        "  total = 0\n",
        "\n",
        "  for aspect in ['dining', 'general', 'green-nature', 'live', 'multicultural', 'nightlife', 'price', 'quiet', 'safety','shopping', 'touristy', 'transit-location']:\n",
        "    count += np.sum(df_true[aspect].values == df_predicted[aspect].values)\n",
        "    total += df_true.shape[0]\n",
        "\n",
        "  accuracy = float(count)/float(total) * 100\n",
        "  \n",
        "  return round(accuracy, 2)"
      ],
      "execution_count": null,
      "outputs": []
    },
    {
      "cell_type": "code",
      "metadata": {
        "colab": {
          "base_uri": "https://localhost:8080/"
        },
        "id": "KjSlPylfdxVs",
        "outputId": "b2970e95-949e-4296-fb0a-e09fa756bda8"
      },
      "source": [
        "print(f\"Sentiment Accuracy: {compute_sentiment_accuracy(df_true, df_predicted)}\")"
      ],
      "execution_count": null,
      "outputs": [
        {
          "output_type": "stream",
          "text": [
            "Sentiment Accuracy: 95.24\n"
          ],
          "name": "stdout"
        }
      ]
    },
    {
      "cell_type": "code",
      "metadata": {
        "id": "HF1oY02TgQNl"
      },
      "source": [
        "from collections import Counter"
      ],
      "execution_count": null,
      "outputs": []
    },
    {
      "cell_type": "code",
      "metadata": {
        "id": "NJkBMaMudz6o",
        "colab": {
          "base_uri": "https://localhost:8080/"
        },
        "outputId": "e954f2b9-ba9b-48cc-c8d2-1b04af5166c5"
      },
      "source": [
        "Counter(df_predicted['dining'])"
      ],
      "execution_count": null,
      "outputs": [
        {
          "output_type": "execute_result",
          "data": {
            "text/plain": [
              "Counter({0: 1845, 2: 34})"
            ]
          },
          "metadata": {
            "tags": []
          },
          "execution_count": 20
        }
      ]
    },
    {
      "cell_type": "code",
      "metadata": {
        "colab": {
          "base_uri": "https://localhost:8080/"
        },
        "id": "GiFPId1ggLtt",
        "outputId": "053b2d94-dbd8-458b-ab2f-e9c87c31f347"
      },
      "source": [
        "Counter(df_true['dining'])"
      ],
      "execution_count": null,
      "outputs": [
        {
          "output_type": "execute_result",
          "data": {
            "text/plain": [
              "Counter({0: 1842, 1: 2, 2: 35})"
            ]
          },
          "metadata": {
            "tags": []
          },
          "execution_count": 21
        }
      ]
    },
    {
      "cell_type": "code",
      "metadata": {
        "colab": {
          "base_uri": "https://localhost:8080/"
        },
        "id": "wYmCgmcmgrel",
        "outputId": "4ca96f6a-6a9c-43c8-bdae-9740008dce45"
      },
      "source": [
        "Counter(df_predicted['general'])"
      ],
      "execution_count": null,
      "outputs": [
        {
          "output_type": "execute_result",
          "data": {
            "text/plain": [
              "Counter({0: 1512, 1: 30, 2: 337})"
            ]
          },
          "metadata": {
            "tags": []
          },
          "execution_count": 22
        }
      ]
    },
    {
      "cell_type": "code",
      "metadata": {
        "colab": {
          "base_uri": "https://localhost:8080/"
        },
        "id": "nIL6ZOEygwkh",
        "outputId": "2f27dad6-6018-43ab-a0a6-8d32e6f47e93"
      },
      "source": [
        "Counter(df_true['general'])"
      ],
      "execution_count": null,
      "outputs": [
        {
          "output_type": "execute_result",
          "data": {
            "text/plain": [
              "Counter({0: 1293, 1: 139, 2: 447})"
            ]
          },
          "metadata": {
            "tags": []
          },
          "execution_count": 23
        }
      ]
    },
    {
      "cell_type": "code",
      "metadata": {
        "id": "yl2ibhOWg3sK"
      },
      "source": [
        "1842/1879"
      ],
      "execution_count": null,
      "outputs": []
    },
    {
      "cell_type": "code",
      "metadata": {
        "colab": {
          "base_uri": "https://localhost:8080/"
        },
        "id": "W89GCUZVzNkO",
        "outputId": "57e89804-badc-4885-98d4-3d737e9d3536"
      },
      "source": [
        "from sklearn.metrics import  confusion_matrix\n",
        "\n",
        "confusion_matrix(df_true['general'],df_predicted['general'])"
      ],
      "execution_count": null,
      "outputs": [
        {
          "output_type": "execute_result",
          "data": {
            "text/plain": [
              "array([[1212,    6,   75],\n",
              "       [  93,   22,   24],\n",
              "       [ 207,    2,  238]])"
            ]
          },
          "metadata": {
            "tags": []
          },
          "execution_count": 13
        }
      ]
    },
    {
      "cell_type": "code",
      "metadata": {
        "id": "4ZsqQAQD4Tgj"
      },
      "source": [
        "array([[1205,   12,   76],\n",
        "       [  58,   57,   24],\n",
        "       [ 153,   11,  283]])"
      ],
      "execution_count": null,
      "outputs": []
    }
  ]
}