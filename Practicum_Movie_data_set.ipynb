{
  "nbformat": 4,
  "nbformat_minor": 0,
  "metadata": {
    "colab": {
      "name": "Practicum Movie data set",
      "provenance": [],
      "toc_visible": true
    },
    "kernelspec": {
      "display_name": "Python 3",
      "name": "python3"
    }
  },
  "cells": [
    {
      "cell_type": "markdown",
      "metadata": {
        "id": "SLwQaJY1-y6y"
      },
      "source": [
        "# Machine Learning Algorithm using Movie Reviews\n",
        "\n",
        " 1. Naive bayes\n",
        "\n",
        " 2. Logistic Regression\n",
        "\n",
        " 3. Support Vector machines"
      ]
    },
    {
      "cell_type": "markdown",
      "metadata": {
        "id": "ClrOCA464bRS"
      },
      "source": [
        "## Importing required libraries"
      ]
    },
    {
      "cell_type": "code",
      "metadata": {
        "id": "Qg5uD8q4ENH6"
      },
      "source": [
        "import pandas as pd\n",
        "import numpy as np\n",
        "from sklearn.metrics import accuracy_score\n",
        "from sklearn.metrics import roc_auc_score\n",
        "from sklearn.metrics import  confusion_matrix"
      ],
      "execution_count": null,
      "outputs": []
    },
    {
      "cell_type": "code",
      "metadata": {
        "id": "ArpKUT3szRsd"
      },
      "source": [
        "from sklearn.naive_bayes import MultinomialNB\n",
        "from sklearn.model_selection import train_test_split\n",
        "from sklearn.feature_extraction.text import TfidfVectorizer\n",
        "import nltk\n",
        "from nltk.tokenize import word_tokenize  \n",
        "from sklearn.linear_model import LogisticRegression\n",
        "from sklearn import svm"
      ],
      "execution_count": null,
      "outputs": []
    },
    {
      "cell_type": "code",
      "metadata": {
        "colab": {
          "base_uri": "https://localhost:8080/"
        },
        "id": "R9jS6K2tsJg7",
        "outputId": "107920de-b988-4556-9859-646ea84ff21b"
      },
      "source": [
        "from google.colab import drive\n",
        "drive.mount('/content/drive',force_remount=True)"
      ],
      "execution_count": null,
      "outputs": [
        {
          "output_type": "stream",
          "text": [
            "Mounted at /content/drive\n"
          ],
          "name": "stdout"
        }
      ]
    },
    {
      "cell_type": "markdown",
      "metadata": {
        "id": "oOe-hdCvnC-t"
      },
      "source": [
        "## Data Cleaning"
      ]
    },
    {
      "cell_type": "code",
      "metadata": {
        "id": "8a5gKdUcnK6V"
      },
      "source": [
        "df_Negative=pd.read_csv(\"/content/drive/My Drive/Bert-single/MovieReviews/-ve.csv\")"
      ],
      "execution_count": 31,
      "outputs": []
    },
    {
      "cell_type": "code",
      "metadata": {
        "colab": {
          "base_uri": "https://localhost:8080/",
          "height": 409
        },
        "id": "H0NpbmGUqi7O",
        "outputId": "f04cc413-3441-4d59-b867-2d2021e0b939"
      },
      "source": [
        "df_Negative"
      ],
      "execution_count": 32,
      "outputs": [
        {
          "output_type": "execute_result",
          "data": {
            "text/html": [
              "<div>\n",
              "<style scoped>\n",
              "    .dataframe tbody tr th:only-of-type {\n",
              "        vertical-align: middle;\n",
              "    }\n",
              "\n",
              "    .dataframe tbody tr th {\n",
              "        vertical-align: top;\n",
              "    }\n",
              "\n",
              "    .dataframe thead th {\n",
              "        text-align: right;\n",
              "    }\n",
              "</style>\n",
              "<table border=\"1\" class=\"dataframe\">\n",
              "  <thead>\n",
              "    <tr style=\"text-align: right;\">\n",
              "      <th></th>\n",
              "      <th>Text</th>\n",
              "    </tr>\n",
              "  </thead>\n",
              "  <tbody>\n",
              "    <tr>\n",
              "      <th>0</th>\n",
              "      <td>plot : two teen couples go to a church party ,...</td>\n",
              "    </tr>\n",
              "    <tr>\n",
              "      <th>1</th>\n",
              "      <td>they get into an accident .</td>\n",
              "    </tr>\n",
              "    <tr>\n",
              "      <th>2</th>\n",
              "      <td>one of the guys dies , but his girlfriend cont...</td>\n",
              "    </tr>\n",
              "    <tr>\n",
              "      <th>3</th>\n",
              "      <td>what's the deal ?</td>\n",
              "    </tr>\n",
              "    <tr>\n",
              "      <th>4</th>\n",
              "      <td>watch the movie and \" sorta \" find out . . .</td>\n",
              "    </tr>\n",
              "    <tr>\n",
              "      <th>...</th>\n",
              "      <td>...</td>\n",
              "    </tr>\n",
              "    <tr>\n",
              "      <th>31377</th>\n",
              "      <td>i can't blame the actors , though .</td>\n",
              "    </tr>\n",
              "    <tr>\n",
              "      <th>31378</th>\n",
              "      <td>it's not their fault they had a cruddy script ...</td>\n",
              "    </tr>\n",
              "    <tr>\n",
              "      <th>31379</th>\n",
              "      <td>this concludes rydain's diatribe on a shameles...</td>\n",
              "    </tr>\n",
              "    <tr>\n",
              "      <th>31380</th>\n",
              "      <td>comments , flames , anyone ?</td>\n",
              "    </tr>\n",
              "    <tr>\n",
              "      <th>31381</th>\n",
              "      <td>-rydain the atomic cheese , fresh from chernob...</td>\n",
              "    </tr>\n",
              "  </tbody>\n",
              "</table>\n",
              "<p>31382 rows × 1 columns</p>\n",
              "</div>"
            ],
            "text/plain": [
              "                                                    Text\n",
              "0      plot : two teen couples go to a church party ,...\n",
              "1                           they get into an accident . \n",
              "2      one of the guys dies , but his girlfriend cont...\n",
              "3                                     what's the deal ? \n",
              "4          watch the movie and \" sorta \" find out . . . \n",
              "...                                                  ...\n",
              "31377               i can't blame the actors , though . \n",
              "31378  it's not their fault they had a cruddy script ...\n",
              "31379  this concludes rydain's diatribe on a shameles...\n",
              "31380                      comments , flames , anyone ? \n",
              "31381  -rydain the atomic cheese , fresh from chernob...\n",
              "\n",
              "[31382 rows x 1 columns]"
            ]
          },
          "metadata": {
            "tags": []
          },
          "execution_count": 32
        }
      ]
    },
    {
      "cell_type": "code",
      "metadata": {
        "id": "nj7CUR2frEEC"
      },
      "source": [
        "df_Negative['Sentiment']=0"
      ],
      "execution_count": 33,
      "outputs": []
    },
    {
      "cell_type": "code",
      "metadata": {
        "colab": {
          "base_uri": "https://localhost:8080/",
          "height": 409
        },
        "id": "LkODAQU5rLlp",
        "outputId": "03053c5f-9836-4612-aec1-5ed76df414bc"
      },
      "source": [
        "df_Negative"
      ],
      "execution_count": 34,
      "outputs": [
        {
          "output_type": "execute_result",
          "data": {
            "text/html": [
              "<div>\n",
              "<style scoped>\n",
              "    .dataframe tbody tr th:only-of-type {\n",
              "        vertical-align: middle;\n",
              "    }\n",
              "\n",
              "    .dataframe tbody tr th {\n",
              "        vertical-align: top;\n",
              "    }\n",
              "\n",
              "    .dataframe thead th {\n",
              "        text-align: right;\n",
              "    }\n",
              "</style>\n",
              "<table border=\"1\" class=\"dataframe\">\n",
              "  <thead>\n",
              "    <tr style=\"text-align: right;\">\n",
              "      <th></th>\n",
              "      <th>Text</th>\n",
              "      <th>Sentiment</th>\n",
              "    </tr>\n",
              "  </thead>\n",
              "  <tbody>\n",
              "    <tr>\n",
              "      <th>0</th>\n",
              "      <td>plot : two teen couples go to a church party ,...</td>\n",
              "      <td>0</td>\n",
              "    </tr>\n",
              "    <tr>\n",
              "      <th>1</th>\n",
              "      <td>they get into an accident .</td>\n",
              "      <td>0</td>\n",
              "    </tr>\n",
              "    <tr>\n",
              "      <th>2</th>\n",
              "      <td>one of the guys dies , but his girlfriend cont...</td>\n",
              "      <td>0</td>\n",
              "    </tr>\n",
              "    <tr>\n",
              "      <th>3</th>\n",
              "      <td>what's the deal ?</td>\n",
              "      <td>0</td>\n",
              "    </tr>\n",
              "    <tr>\n",
              "      <th>4</th>\n",
              "      <td>watch the movie and \" sorta \" find out . . .</td>\n",
              "      <td>0</td>\n",
              "    </tr>\n",
              "    <tr>\n",
              "      <th>...</th>\n",
              "      <td>...</td>\n",
              "      <td>...</td>\n",
              "    </tr>\n",
              "    <tr>\n",
              "      <th>31377</th>\n",
              "      <td>i can't blame the actors , though .</td>\n",
              "      <td>0</td>\n",
              "    </tr>\n",
              "    <tr>\n",
              "      <th>31378</th>\n",
              "      <td>it's not their fault they had a cruddy script ...</td>\n",
              "      <td>0</td>\n",
              "    </tr>\n",
              "    <tr>\n",
              "      <th>31379</th>\n",
              "      <td>this concludes rydain's diatribe on a shameles...</td>\n",
              "      <td>0</td>\n",
              "    </tr>\n",
              "    <tr>\n",
              "      <th>31380</th>\n",
              "      <td>comments , flames , anyone ?</td>\n",
              "      <td>0</td>\n",
              "    </tr>\n",
              "    <tr>\n",
              "      <th>31381</th>\n",
              "      <td>-rydain the atomic cheese , fresh from chernob...</td>\n",
              "      <td>0</td>\n",
              "    </tr>\n",
              "  </tbody>\n",
              "</table>\n",
              "<p>31382 rows × 2 columns</p>\n",
              "</div>"
            ],
            "text/plain": [
              "                                                    Text  Sentiment\n",
              "0      plot : two teen couples go to a church party ,...          0\n",
              "1                           they get into an accident .           0\n",
              "2      one of the guys dies , but his girlfriend cont...          0\n",
              "3                                     what's the deal ?           0\n",
              "4          watch the movie and \" sorta \" find out . . .           0\n",
              "...                                                  ...        ...\n",
              "31377               i can't blame the actors , though .           0\n",
              "31378  it's not their fault they had a cruddy script ...          0\n",
              "31379  this concludes rydain's diatribe on a shameles...          0\n",
              "31380                      comments , flames , anyone ?           0\n",
              "31381  -rydain the atomic cheese , fresh from chernob...          0\n",
              "\n",
              "[31382 rows x 2 columns]"
            ]
          },
          "metadata": {
            "tags": []
          },
          "execution_count": 34
        }
      ]
    },
    {
      "cell_type": "code",
      "metadata": {
        "id": "HZJ6RpklqkUq"
      },
      "source": [
        "df_positive=pd.read_csv(\"/content/drive/My Drive/Bert-single/MovieReviews/+ve.csv\")"
      ],
      "execution_count": 35,
      "outputs": []
    },
    {
      "cell_type": "code",
      "metadata": {
        "id": "xFdVQL9hq6O-"
      },
      "source": [
        "df_positive['Sentiment']=1"
      ],
      "execution_count": 36,
      "outputs": []
    },
    {
      "cell_type": "code",
      "metadata": {
        "colab": {
          "base_uri": "https://localhost:8080/",
          "height": 409
        },
        "id": "eY8tSrhvq8rB",
        "outputId": "ac7cf6cc-c388-4969-86ac-d13bee0a8c3c"
      },
      "source": [
        "df_positive"
      ],
      "execution_count": 37,
      "outputs": [
        {
          "output_type": "execute_result",
          "data": {
            "text/html": [
              "<div>\n",
              "<style scoped>\n",
              "    .dataframe tbody tr th:only-of-type {\n",
              "        vertical-align: middle;\n",
              "    }\n",
              "\n",
              "    .dataframe tbody tr th {\n",
              "        vertical-align: top;\n",
              "    }\n",
              "\n",
              "    .dataframe thead th {\n",
              "        text-align: right;\n",
              "    }\n",
              "</style>\n",
              "<table border=\"1\" class=\"dataframe\">\n",
              "  <thead>\n",
              "    <tr style=\"text-align: right;\">\n",
              "      <th></th>\n",
              "      <th>Text</th>\n",
              "      <th>Unnamed: 1</th>\n",
              "      <th>Sentiment</th>\n",
              "    </tr>\n",
              "  </thead>\n",
              "  <tbody>\n",
              "    <tr>\n",
              "      <th>0</th>\n",
              "      <td>films adapted from comic books have had plenty...</td>\n",
              "      <td>NaN</td>\n",
              "      <td>1</td>\n",
              "    </tr>\n",
              "    <tr>\n",
              "      <th>1</th>\n",
              "      <td>for starters , it was created by alan moore ( ...</td>\n",
              "      <td>NaN</td>\n",
              "      <td>1</td>\n",
              "    </tr>\n",
              "    <tr>\n",
              "      <th>2</th>\n",
              "      <td>to say moore and campbell thoroughly researche...</td>\n",
              "      <td>NaN</td>\n",
              "      <td>1</td>\n",
              "    </tr>\n",
              "    <tr>\n",
              "      <th>3</th>\n",
              "      <td>the book ( or \" graphic novel , \" if you will ...</td>\n",
              "      <td>NaN</td>\n",
              "      <td>1</td>\n",
              "    </tr>\n",
              "    <tr>\n",
              "      <th>4</th>\n",
              "      <td>in other words , don't dismiss this film becau...</td>\n",
              "      <td>NaN</td>\n",
              "      <td>1</td>\n",
              "    </tr>\n",
              "    <tr>\n",
              "      <th>...</th>\n",
              "      <td>...</td>\n",
              "      <td>...</td>\n",
              "      <td>...</td>\n",
              "    </tr>\n",
              "    <tr>\n",
              "      <th>32486</th>\n",
              "      <td>although many of the characters are stuck in a...</td>\n",
              "      <td>NaN</td>\n",
              "      <td>1</td>\n",
              "    </tr>\n",
              "    <tr>\n",
              "      <th>32487</th>\n",
              "      <td>the character of dominique ( anh duong ) , the...</td>\n",
              "      <td>NaN</td>\n",
              "      <td>1</td>\n",
              "    </tr>\n",
              "    <tr>\n",
              "      <th>32488</th>\n",
              "      <td>and the one sex scene in the film was beautifu...</td>\n",
              "      <td>NaN</td>\n",
              "      <td>1</td>\n",
              "    </tr>\n",
              "    <tr>\n",
              "      <th>32489</th>\n",
              "      <td>for once , it did not invlove steaminess , or ...</td>\n",
              "      <td>NaN</td>\n",
              "      <td>1</td>\n",
              "    </tr>\n",
              "    <tr>\n",
              "      <th>32490</th>\n",
              "      <td>\" high art , \" which won the screenwriting aw...</td>\n",
              "      <td>NaN</td>\n",
              "      <td>1</td>\n",
              "    </tr>\n",
              "  </tbody>\n",
              "</table>\n",
              "<p>32491 rows × 3 columns</p>\n",
              "</div>"
            ],
            "text/plain": [
              "                                                    Text  Unnamed: 1  Sentiment\n",
              "0      films adapted from comic books have had plenty...         NaN          1\n",
              "1      for starters , it was created by alan moore ( ...         NaN          1\n",
              "2      to say moore and campbell thoroughly researche...         NaN          1\n",
              "3      the book ( or \" graphic novel , \" if you will ...         NaN          1\n",
              "4      in other words , don't dismiss this film becau...         NaN          1\n",
              "...                                                  ...         ...        ...\n",
              "32486  although many of the characters are stuck in a...         NaN          1\n",
              "32487  the character of dominique ( anh duong ) , the...         NaN          1\n",
              "32488  and the one sex scene in the film was beautifu...         NaN          1\n",
              "32489  for once , it did not invlove steaminess , or ...         NaN          1\n",
              "32490   \" high art , \" which won the screenwriting aw...         NaN          1\n",
              "\n",
              "[32491 rows x 3 columns]"
            ]
          },
          "metadata": {
            "tags": []
          },
          "execution_count": 37
        }
      ]
    },
    {
      "cell_type": "code",
      "metadata": {
        "colab": {
          "base_uri": "https://localhost:8080/",
          "height": 409
        },
        "id": "n2GVZXJP-yP2",
        "outputId": "b55e560c-a59a-470d-b13d-553272f7dee9"
      },
      "source": [
        "del df_positive['Unnamed: 1']\n",
        "df_positive"
      ],
      "execution_count": 38,
      "outputs": [
        {
          "output_type": "execute_result",
          "data": {
            "text/html": [
              "<div>\n",
              "<style scoped>\n",
              "    .dataframe tbody tr th:only-of-type {\n",
              "        vertical-align: middle;\n",
              "    }\n",
              "\n",
              "    .dataframe tbody tr th {\n",
              "        vertical-align: top;\n",
              "    }\n",
              "\n",
              "    .dataframe thead th {\n",
              "        text-align: right;\n",
              "    }\n",
              "</style>\n",
              "<table border=\"1\" class=\"dataframe\">\n",
              "  <thead>\n",
              "    <tr style=\"text-align: right;\">\n",
              "      <th></th>\n",
              "      <th>Text</th>\n",
              "      <th>Sentiment</th>\n",
              "    </tr>\n",
              "  </thead>\n",
              "  <tbody>\n",
              "    <tr>\n",
              "      <th>0</th>\n",
              "      <td>films adapted from comic books have had plenty...</td>\n",
              "      <td>1</td>\n",
              "    </tr>\n",
              "    <tr>\n",
              "      <th>1</th>\n",
              "      <td>for starters , it was created by alan moore ( ...</td>\n",
              "      <td>1</td>\n",
              "    </tr>\n",
              "    <tr>\n",
              "      <th>2</th>\n",
              "      <td>to say moore and campbell thoroughly researche...</td>\n",
              "      <td>1</td>\n",
              "    </tr>\n",
              "    <tr>\n",
              "      <th>3</th>\n",
              "      <td>the book ( or \" graphic novel , \" if you will ...</td>\n",
              "      <td>1</td>\n",
              "    </tr>\n",
              "    <tr>\n",
              "      <th>4</th>\n",
              "      <td>in other words , don't dismiss this film becau...</td>\n",
              "      <td>1</td>\n",
              "    </tr>\n",
              "    <tr>\n",
              "      <th>...</th>\n",
              "      <td>...</td>\n",
              "      <td>...</td>\n",
              "    </tr>\n",
              "    <tr>\n",
              "      <th>32486</th>\n",
              "      <td>although many of the characters are stuck in a...</td>\n",
              "      <td>1</td>\n",
              "    </tr>\n",
              "    <tr>\n",
              "      <th>32487</th>\n",
              "      <td>the character of dominique ( anh duong ) , the...</td>\n",
              "      <td>1</td>\n",
              "    </tr>\n",
              "    <tr>\n",
              "      <th>32488</th>\n",
              "      <td>and the one sex scene in the film was beautifu...</td>\n",
              "      <td>1</td>\n",
              "    </tr>\n",
              "    <tr>\n",
              "      <th>32489</th>\n",
              "      <td>for once , it did not invlove steaminess , or ...</td>\n",
              "      <td>1</td>\n",
              "    </tr>\n",
              "    <tr>\n",
              "      <th>32490</th>\n",
              "      <td>\" high art , \" which won the screenwriting aw...</td>\n",
              "      <td>1</td>\n",
              "    </tr>\n",
              "  </tbody>\n",
              "</table>\n",
              "<p>32491 rows × 2 columns</p>\n",
              "</div>"
            ],
            "text/plain": [
              "                                                    Text  Sentiment\n",
              "0      films adapted from comic books have had plenty...          1\n",
              "1      for starters , it was created by alan moore ( ...          1\n",
              "2      to say moore and campbell thoroughly researche...          1\n",
              "3      the book ( or \" graphic novel , \" if you will ...          1\n",
              "4      in other words , don't dismiss this film becau...          1\n",
              "...                                                  ...        ...\n",
              "32486  although many of the characters are stuck in a...          1\n",
              "32487  the character of dominique ( anh duong ) , the...          1\n",
              "32488  and the one sex scene in the film was beautifu...          1\n",
              "32489  for once , it did not invlove steaminess , or ...          1\n",
              "32490   \" high art , \" which won the screenwriting aw...          1\n",
              "\n",
              "[32491 rows x 2 columns]"
            ]
          },
          "metadata": {
            "tags": []
          },
          "execution_count": 38
        }
      ]
    },
    {
      "cell_type": "code",
      "metadata": {
        "id": "zPtifehGrexX"
      },
      "source": [
        "Sentiment=[df_Negative,df_positive]\n",
        "Final_data=pd.concat(Sentiment)"
      ],
      "execution_count": 39,
      "outputs": []
    },
    {
      "cell_type": "code",
      "metadata": {
        "id": "0Ie8f_GasQzT"
      },
      "source": [
        "Final_data.columns=['Sentence','Sentiment']"
      ],
      "execution_count": 40,
      "outputs": []
    },
    {
      "cell_type": "code",
      "metadata": {
        "colab": {
          "base_uri": "https://localhost:8080/",
          "height": 409
        },
        "id": "TQNnEjgnsSNo",
        "outputId": "fc34aeec-eb3b-4338-bd69-4277e830148d"
      },
      "source": [
        "Final_data"
      ],
      "execution_count": 41,
      "outputs": [
        {
          "output_type": "execute_result",
          "data": {
            "text/html": [
              "<div>\n",
              "<style scoped>\n",
              "    .dataframe tbody tr th:only-of-type {\n",
              "        vertical-align: middle;\n",
              "    }\n",
              "\n",
              "    .dataframe tbody tr th {\n",
              "        vertical-align: top;\n",
              "    }\n",
              "\n",
              "    .dataframe thead th {\n",
              "        text-align: right;\n",
              "    }\n",
              "</style>\n",
              "<table border=\"1\" class=\"dataframe\">\n",
              "  <thead>\n",
              "    <tr style=\"text-align: right;\">\n",
              "      <th></th>\n",
              "      <th>Sentence</th>\n",
              "      <th>Sentiment</th>\n",
              "    </tr>\n",
              "  </thead>\n",
              "  <tbody>\n",
              "    <tr>\n",
              "      <th>0</th>\n",
              "      <td>plot : two teen couples go to a church party ,...</td>\n",
              "      <td>0</td>\n",
              "    </tr>\n",
              "    <tr>\n",
              "      <th>1</th>\n",
              "      <td>they get into an accident .</td>\n",
              "      <td>0</td>\n",
              "    </tr>\n",
              "    <tr>\n",
              "      <th>2</th>\n",
              "      <td>one of the guys dies , but his girlfriend cont...</td>\n",
              "      <td>0</td>\n",
              "    </tr>\n",
              "    <tr>\n",
              "      <th>3</th>\n",
              "      <td>what's the deal ?</td>\n",
              "      <td>0</td>\n",
              "    </tr>\n",
              "    <tr>\n",
              "      <th>4</th>\n",
              "      <td>watch the movie and \" sorta \" find out . . .</td>\n",
              "      <td>0</td>\n",
              "    </tr>\n",
              "    <tr>\n",
              "      <th>...</th>\n",
              "      <td>...</td>\n",
              "      <td>...</td>\n",
              "    </tr>\n",
              "    <tr>\n",
              "      <th>32486</th>\n",
              "      <td>although many of the characters are stuck in a...</td>\n",
              "      <td>1</td>\n",
              "    </tr>\n",
              "    <tr>\n",
              "      <th>32487</th>\n",
              "      <td>the character of dominique ( anh duong ) , the...</td>\n",
              "      <td>1</td>\n",
              "    </tr>\n",
              "    <tr>\n",
              "      <th>32488</th>\n",
              "      <td>and the one sex scene in the film was beautifu...</td>\n",
              "      <td>1</td>\n",
              "    </tr>\n",
              "    <tr>\n",
              "      <th>32489</th>\n",
              "      <td>for once , it did not invlove steaminess , or ...</td>\n",
              "      <td>1</td>\n",
              "    </tr>\n",
              "    <tr>\n",
              "      <th>32490</th>\n",
              "      <td>\" high art , \" which won the screenwriting aw...</td>\n",
              "      <td>1</td>\n",
              "    </tr>\n",
              "  </tbody>\n",
              "</table>\n",
              "<p>63873 rows × 2 columns</p>\n",
              "</div>"
            ],
            "text/plain": [
              "                                                Sentence  Sentiment\n",
              "0      plot : two teen couples go to a church party ,...          0\n",
              "1                           they get into an accident .           0\n",
              "2      one of the guys dies , but his girlfriend cont...          0\n",
              "3                                     what's the deal ?           0\n",
              "4          watch the movie and \" sorta \" find out . . .           0\n",
              "...                                                  ...        ...\n",
              "32486  although many of the characters are stuck in a...          1\n",
              "32487  the character of dominique ( anh duong ) , the...          1\n",
              "32488  and the one sex scene in the film was beautifu...          1\n",
              "32489  for once , it did not invlove steaminess , or ...          1\n",
              "32490   \" high art , \" which won the screenwriting aw...          1\n",
              "\n",
              "[63873 rows x 2 columns]"
            ]
          },
          "metadata": {
            "tags": []
          },
          "execution_count": 41
        }
      ]
    },
    {
      "cell_type": "code",
      "metadata": {
        "colab": {
          "base_uri": "https://localhost:8080/"
        },
        "id": "TN4wR28qsdrH",
        "outputId": "d2976ba2-423a-4972-82c3-235028517a42"
      },
      "source": [
        "import string \n",
        "result = string.punctuation \n",
        "print(result)"
      ],
      "execution_count": 42,
      "outputs": [
        {
          "output_type": "stream",
          "text": [
            "!\"#$%&'()*+,-./:;<=>?@[\\]^_`{|}~\n"
          ],
          "name": "stdout"
        }
      ]
    },
    {
      "cell_type": "code",
      "metadata": {
        "id": "5phgLfEWuaVM"
      },
      "source": [
        "Final_data['Cleaned sentence']=Final_data['Sentence'].str.replace('[{}]'.format(result), '')"
      ],
      "execution_count": 43,
      "outputs": []
    },
    {
      "cell_type": "code",
      "metadata": {
        "colab": {
          "base_uri": "https://localhost:8080/",
          "height": 409
        },
        "id": "54koB9ZhxmMx",
        "outputId": "0e8f48ed-254d-4d60-8fee-d5b84032f9f5"
      },
      "source": [
        "Final_data"
      ],
      "execution_count": 44,
      "outputs": [
        {
          "output_type": "execute_result",
          "data": {
            "text/html": [
              "<div>\n",
              "<style scoped>\n",
              "    .dataframe tbody tr th:only-of-type {\n",
              "        vertical-align: middle;\n",
              "    }\n",
              "\n",
              "    .dataframe tbody tr th {\n",
              "        vertical-align: top;\n",
              "    }\n",
              "\n",
              "    .dataframe thead th {\n",
              "        text-align: right;\n",
              "    }\n",
              "</style>\n",
              "<table border=\"1\" class=\"dataframe\">\n",
              "  <thead>\n",
              "    <tr style=\"text-align: right;\">\n",
              "      <th></th>\n",
              "      <th>Sentence</th>\n",
              "      <th>Sentiment</th>\n",
              "      <th>Cleaned sentence</th>\n",
              "    </tr>\n",
              "  </thead>\n",
              "  <tbody>\n",
              "    <tr>\n",
              "      <th>0</th>\n",
              "      <td>plot : two teen couples go to a church party ,...</td>\n",
              "      <td>0</td>\n",
              "      <td>plot  two teen couples go to a church party  d...</td>\n",
              "    </tr>\n",
              "    <tr>\n",
              "      <th>1</th>\n",
              "      <td>they get into an accident .</td>\n",
              "      <td>0</td>\n",
              "      <td>they get into an accident</td>\n",
              "    </tr>\n",
              "    <tr>\n",
              "      <th>2</th>\n",
              "      <td>one of the guys dies , but his girlfriend cont...</td>\n",
              "      <td>0</td>\n",
              "      <td>one of the guys dies  but his girlfriend conti...</td>\n",
              "    </tr>\n",
              "    <tr>\n",
              "      <th>3</th>\n",
              "      <td>what's the deal ?</td>\n",
              "      <td>0</td>\n",
              "      <td>whats the deal</td>\n",
              "    </tr>\n",
              "    <tr>\n",
              "      <th>4</th>\n",
              "      <td>watch the movie and \" sorta \" find out . . .</td>\n",
              "      <td>0</td>\n",
              "      <td>watch the movie and  sorta  find out</td>\n",
              "    </tr>\n",
              "    <tr>\n",
              "      <th>...</th>\n",
              "      <td>...</td>\n",
              "      <td>...</td>\n",
              "      <td>...</td>\n",
              "    </tr>\n",
              "    <tr>\n",
              "      <th>32486</th>\n",
              "      <td>although many of the characters are stuck in a...</td>\n",
              "      <td>1</td>\n",
              "      <td>although many of the characters are stuck in a...</td>\n",
              "    </tr>\n",
              "    <tr>\n",
              "      <th>32487</th>\n",
              "      <td>the character of dominique ( anh duong ) , the...</td>\n",
              "      <td>1</td>\n",
              "      <td>the character of dominique  anh duong   the  f...</td>\n",
              "    </tr>\n",
              "    <tr>\n",
              "      <th>32488</th>\n",
              "      <td>and the one sex scene in the film was beautifu...</td>\n",
              "      <td>1</td>\n",
              "      <td>and the one sex scene in the film was beautifu...</td>\n",
              "    </tr>\n",
              "    <tr>\n",
              "      <th>32489</th>\n",
              "      <td>for once , it did not invlove steaminess , or ...</td>\n",
              "      <td>1</td>\n",
              "      <td>for once  it did not invlove steaminess  or vi...</td>\n",
              "    </tr>\n",
              "    <tr>\n",
              "      <th>32490</th>\n",
              "      <td>\" high art , \" which won the screenwriting aw...</td>\n",
              "      <td>1</td>\n",
              "      <td>high art   which won the screenwriting award...</td>\n",
              "    </tr>\n",
              "  </tbody>\n",
              "</table>\n",
              "<p>63873 rows × 3 columns</p>\n",
              "</div>"
            ],
            "text/plain": [
              "                                                Sentence  ...                                   Cleaned sentence\n",
              "0      plot : two teen couples go to a church party ,...  ...  plot  two teen couples go to a church party  d...\n",
              "1                           they get into an accident .   ...                        they get into an accident  \n",
              "2      one of the guys dies , but his girlfriend cont...  ...  one of the guys dies  but his girlfriend conti...\n",
              "3                                     what's the deal ?   ...                                   whats the deal  \n",
              "4          watch the movie and \" sorta \" find out . . .   ...           watch the movie and  sorta  find out    \n",
              "...                                                  ...  ...                                                ...\n",
              "32486  although many of the characters are stuck in a...  ...  although many of the characters are stuck in a...\n",
              "32487  the character of dominique ( anh duong ) , the...  ...  the character of dominique  anh duong   the  f...\n",
              "32488  and the one sex scene in the film was beautifu...  ...  and the one sex scene in the film was beautifu...\n",
              "32489  for once , it did not invlove steaminess , or ...  ...  for once  it did not invlove steaminess  or vi...\n",
              "32490   \" high art , \" which won the screenwriting aw...  ...    high art   which won the screenwriting award...\n",
              "\n",
              "[63873 rows x 3 columns]"
            ]
          },
          "metadata": {
            "tags": []
          },
          "execution_count": 44
        }
      ]
    },
    {
      "cell_type": "code",
      "metadata": {
        "colab": {
          "base_uri": "https://localhost:8080/",
          "height": 649
        },
        "id": "MotuyszSxqUW",
        "outputId": "875faa14-f093-480a-e8fe-df60dea36f8d"
      },
      "source": [
        "Final_data.head(20)"
      ],
      "execution_count": 45,
      "outputs": [
        {
          "output_type": "execute_result",
          "data": {
            "text/html": [
              "<div>\n",
              "<style scoped>\n",
              "    .dataframe tbody tr th:only-of-type {\n",
              "        vertical-align: middle;\n",
              "    }\n",
              "\n",
              "    .dataframe tbody tr th {\n",
              "        vertical-align: top;\n",
              "    }\n",
              "\n",
              "    .dataframe thead th {\n",
              "        text-align: right;\n",
              "    }\n",
              "</style>\n",
              "<table border=\"1\" class=\"dataframe\">\n",
              "  <thead>\n",
              "    <tr style=\"text-align: right;\">\n",
              "      <th></th>\n",
              "      <th>Sentence</th>\n",
              "      <th>Sentiment</th>\n",
              "      <th>Cleaned sentence</th>\n",
              "    </tr>\n",
              "  </thead>\n",
              "  <tbody>\n",
              "    <tr>\n",
              "      <th>0</th>\n",
              "      <td>plot : two teen couples go to a church party ,...</td>\n",
              "      <td>0</td>\n",
              "      <td>plot  two teen couples go to a church party  d...</td>\n",
              "    </tr>\n",
              "    <tr>\n",
              "      <th>1</th>\n",
              "      <td>they get into an accident .</td>\n",
              "      <td>0</td>\n",
              "      <td>they get into an accident</td>\n",
              "    </tr>\n",
              "    <tr>\n",
              "      <th>2</th>\n",
              "      <td>one of the guys dies , but his girlfriend cont...</td>\n",
              "      <td>0</td>\n",
              "      <td>one of the guys dies  but his girlfriend conti...</td>\n",
              "    </tr>\n",
              "    <tr>\n",
              "      <th>3</th>\n",
              "      <td>what's the deal ?</td>\n",
              "      <td>0</td>\n",
              "      <td>whats the deal</td>\n",
              "    </tr>\n",
              "    <tr>\n",
              "      <th>4</th>\n",
              "      <td>watch the movie and \" sorta \" find out . . .</td>\n",
              "      <td>0</td>\n",
              "      <td>watch the movie and  sorta  find out</td>\n",
              "    </tr>\n",
              "    <tr>\n",
              "      <th>5</th>\n",
              "      <td>critique : a mind-fuck movie for the teen gene...</td>\n",
              "      <td>0</td>\n",
              "      <td>critique  a mindfuck movie for the teen genera...</td>\n",
              "    </tr>\n",
              "    <tr>\n",
              "      <th>6</th>\n",
              "      <td>which is what makes this review an even harder...</td>\n",
              "      <td>0</td>\n",
              "      <td>which is what makes this review an even harder...</td>\n",
              "    </tr>\n",
              "    <tr>\n",
              "      <th>7</th>\n",
              "      <td>they seem to have taken this pretty neat conce...</td>\n",
              "      <td>0</td>\n",
              "      <td>they seem to have taken this pretty neat conce...</td>\n",
              "    </tr>\n",
              "    <tr>\n",
              "      <th>8</th>\n",
              "      <td>so what are the problems with the movie ?</td>\n",
              "      <td>0</td>\n",
              "      <td>so what are the problems with the movie</td>\n",
              "    </tr>\n",
              "    <tr>\n",
              "      <th>9</th>\n",
              "      <td>well , its main problem is that it's simply to...</td>\n",
              "      <td>0</td>\n",
              "      <td>well  its main problem is that its simply too ...</td>\n",
              "    </tr>\n",
              "    <tr>\n",
              "      <th>10</th>\n",
              "      <td>it starts off \" normal \" but then downshifts i...</td>\n",
              "      <td>0</td>\n",
              "      <td>it starts off  normal  but then downshifts int...</td>\n",
              "    </tr>\n",
              "    <tr>\n",
              "      <th>11</th>\n",
              "      <td>there are dreams , there are characters coming...</td>\n",
              "      <td>0</td>\n",
              "      <td>there are dreams  there are characters coming ...</td>\n",
              "    </tr>\n",
              "    <tr>\n",
              "      <th>12</th>\n",
              "      <td>now i personally don't mind trying to unravel ...</td>\n",
              "      <td>0</td>\n",
              "      <td>now i personally dont mind trying to unravel a...</td>\n",
              "    </tr>\n",
              "    <tr>\n",
              "      <th>13</th>\n",
              "      <td>it's obviously got this big secret to hide , b...</td>\n",
              "      <td>0</td>\n",
              "      <td>its obviously got this big secret to hide  but...</td>\n",
              "    </tr>\n",
              "    <tr>\n",
              "      <th>14</th>\n",
              "      <td>and do they make things entertaining , thrilli...</td>\n",
              "      <td>0</td>\n",
              "      <td>and do they make things entertaining  thrillin...</td>\n",
              "    </tr>\n",
              "    <tr>\n",
              "      <th>15</th>\n",
              "      <td>not really .</td>\n",
              "      <td>0</td>\n",
              "      <td>not really</td>\n",
              "    </tr>\n",
              "    <tr>\n",
              "      <th>16</th>\n",
              "      <td>the sad part is that the arrow and i both dig ...</td>\n",
              "      <td>0</td>\n",
              "      <td>the sad part is that the arrow and i both dig ...</td>\n",
              "    </tr>\n",
              "    <tr>\n",
              "      <th>17</th>\n",
              "      <td>i guess the bottom line with movies like this ...</td>\n",
              "      <td>0</td>\n",
              "      <td>i guess the bottom line with movies like this ...</td>\n",
              "    </tr>\n",
              "    <tr>\n",
              "      <th>18</th>\n",
              "      <td>i mean , showing melissa sagemiller running aw...</td>\n",
              "      <td>0</td>\n",
              "      <td>i mean  showing melissa sagemiller running awa...</td>\n",
              "    </tr>\n",
              "    <tr>\n",
              "      <th>19</th>\n",
              "      <td>okay , we get it . . . there</td>\n",
              "      <td>0</td>\n",
              "      <td>okay  we get it    there</td>\n",
              "    </tr>\n",
              "  </tbody>\n",
              "</table>\n",
              "</div>"
            ],
            "text/plain": [
              "                                             Sentence  ...                                   Cleaned sentence\n",
              "0   plot : two teen couples go to a church party ,...  ...  plot  two teen couples go to a church party  d...\n",
              "1                        they get into an accident .   ...                        they get into an accident  \n",
              "2   one of the guys dies , but his girlfriend cont...  ...  one of the guys dies  but his girlfriend conti...\n",
              "3                                  what's the deal ?   ...                                   whats the deal  \n",
              "4       watch the movie and \" sorta \" find out . . .   ...           watch the movie and  sorta  find out    \n",
              "5   critique : a mind-fuck movie for the teen gene...  ...  critique  a mindfuck movie for the teen genera...\n",
              "6   which is what makes this review an even harder...  ...  which is what makes this review an even harder...\n",
              "7   they seem to have taken this pretty neat conce...  ...  they seem to have taken this pretty neat conce...\n",
              "8          so what are the problems with the movie ?   ...          so what are the problems with the movie  \n",
              "9   well , its main problem is that it's simply to...  ...  well  its main problem is that its simply too ...\n",
              "10  it starts off \" normal \" but then downshifts i...  ...  it starts off  normal  but then downshifts int...\n",
              "11  there are dreams , there are characters coming...  ...  there are dreams  there are characters coming ...\n",
              "12  now i personally don't mind trying to unravel ...  ...  now i personally dont mind trying to unravel a...\n",
              "13  it's obviously got this big secret to hide , b...  ...  its obviously got this big secret to hide  but...\n",
              "14  and do they make things entertaining , thrilli...  ...  and do they make things entertaining  thrillin...\n",
              "15                                      not really .   ...                                       not really  \n",
              "16  the sad part is that the arrow and i both dig ...  ...  the sad part is that the arrow and i both dig ...\n",
              "17  i guess the bottom line with movies like this ...  ...  i guess the bottom line with movies like this ...\n",
              "18  i mean , showing melissa sagemiller running aw...  ...  i mean  showing melissa sagemiller running awa...\n",
              "19                      okay , we get it . . . there   ...                          okay  we get it    there \n",
              "\n",
              "[20 rows x 3 columns]"
            ]
          },
          "metadata": {
            "tags": []
          },
          "execution_count": 45
        }
      ]
    },
    {
      "cell_type": "code",
      "metadata": {
        "id": "gjqsFsowxvQd"
      },
      "source": [
        "Final_data=Final_data.drop('Sentence',axis=1)"
      ],
      "execution_count": 46,
      "outputs": []
    },
    {
      "cell_type": "code",
      "metadata": {
        "colab": {
          "base_uri": "https://localhost:8080/",
          "height": 409
        },
        "id": "HZ9wHsi_yBAA",
        "outputId": "0395c67b-0db6-41f4-a96a-2bf1e9a8d8af"
      },
      "source": [
        "Final_data"
      ],
      "execution_count": 47,
      "outputs": [
        {
          "output_type": "execute_result",
          "data": {
            "text/html": [
              "<div>\n",
              "<style scoped>\n",
              "    .dataframe tbody tr th:only-of-type {\n",
              "        vertical-align: middle;\n",
              "    }\n",
              "\n",
              "    .dataframe tbody tr th {\n",
              "        vertical-align: top;\n",
              "    }\n",
              "\n",
              "    .dataframe thead th {\n",
              "        text-align: right;\n",
              "    }\n",
              "</style>\n",
              "<table border=\"1\" class=\"dataframe\">\n",
              "  <thead>\n",
              "    <tr style=\"text-align: right;\">\n",
              "      <th></th>\n",
              "      <th>Sentiment</th>\n",
              "      <th>Cleaned sentence</th>\n",
              "    </tr>\n",
              "  </thead>\n",
              "  <tbody>\n",
              "    <tr>\n",
              "      <th>0</th>\n",
              "      <td>0</td>\n",
              "      <td>plot  two teen couples go to a church party  d...</td>\n",
              "    </tr>\n",
              "    <tr>\n",
              "      <th>1</th>\n",
              "      <td>0</td>\n",
              "      <td>they get into an accident</td>\n",
              "    </tr>\n",
              "    <tr>\n",
              "      <th>2</th>\n",
              "      <td>0</td>\n",
              "      <td>one of the guys dies  but his girlfriend conti...</td>\n",
              "    </tr>\n",
              "    <tr>\n",
              "      <th>3</th>\n",
              "      <td>0</td>\n",
              "      <td>whats the deal</td>\n",
              "    </tr>\n",
              "    <tr>\n",
              "      <th>4</th>\n",
              "      <td>0</td>\n",
              "      <td>watch the movie and  sorta  find out</td>\n",
              "    </tr>\n",
              "    <tr>\n",
              "      <th>...</th>\n",
              "      <td>...</td>\n",
              "      <td>...</td>\n",
              "    </tr>\n",
              "    <tr>\n",
              "      <th>32486</th>\n",
              "      <td>1</td>\n",
              "      <td>although many of the characters are stuck in a...</td>\n",
              "    </tr>\n",
              "    <tr>\n",
              "      <th>32487</th>\n",
              "      <td>1</td>\n",
              "      <td>the character of dominique  anh duong   the  f...</td>\n",
              "    </tr>\n",
              "    <tr>\n",
              "      <th>32488</th>\n",
              "      <td>1</td>\n",
              "      <td>and the one sex scene in the film was beautifu...</td>\n",
              "    </tr>\n",
              "    <tr>\n",
              "      <th>32489</th>\n",
              "      <td>1</td>\n",
              "      <td>for once  it did not invlove steaminess  or vi...</td>\n",
              "    </tr>\n",
              "    <tr>\n",
              "      <th>32490</th>\n",
              "      <td>1</td>\n",
              "      <td>high art   which won the screenwriting award...</td>\n",
              "    </tr>\n",
              "  </tbody>\n",
              "</table>\n",
              "<p>63873 rows × 2 columns</p>\n",
              "</div>"
            ],
            "text/plain": [
              "       Sentiment                                   Cleaned sentence\n",
              "0              0  plot  two teen couples go to a church party  d...\n",
              "1              0                        they get into an accident  \n",
              "2              0  one of the guys dies  but his girlfriend conti...\n",
              "3              0                                   whats the deal  \n",
              "4              0           watch the movie and  sorta  find out    \n",
              "...          ...                                                ...\n",
              "32486          1  although many of the characters are stuck in a...\n",
              "32487          1  the character of dominique  anh duong   the  f...\n",
              "32488          1  and the one sex scene in the film was beautifu...\n",
              "32489          1  for once  it did not invlove steaminess  or vi...\n",
              "32490          1    high art   which won the screenwriting award...\n",
              "\n",
              "[63873 rows x 2 columns]"
            ]
          },
          "metadata": {
            "tags": []
          },
          "execution_count": 47
        }
      ]
    },
    {
      "cell_type": "markdown",
      "metadata": {
        "id": "jhdTvyda4s64"
      },
      "source": [
        "## Building the model"
      ]
    },
    {
      "cell_type": "code",
      "metadata": {
        "colab": {
          "base_uri": "https://localhost:8080/"
        },
        "id": "iesym1esg9cR",
        "outputId": "8aa69a94-e324-459a-a573-ddea4b634bae"
      },
      "source": [
        "nltk.download('stopwords')\n",
        "nltk.download('punkt')"
      ],
      "execution_count": null,
      "outputs": [
        {
          "output_type": "stream",
          "text": [
            "[nltk_data] Downloading package stopwords to /root/nltk_data...\n",
            "[nltk_data]   Unzipping corpora/stopwords.zip.\n",
            "[nltk_data] Downloading package punkt to /root/nltk_data...\n",
            "[nltk_data]   Unzipping tokenizers/punkt.zip.\n"
          ],
          "name": "stdout"
        },
        {
          "output_type": "execute_result",
          "data": {
            "text/plain": [
              "True"
            ]
          },
          "metadata": {
            "tags": []
          },
          "execution_count": 20
        }
      ]
    },
    {
      "cell_type": "code",
      "metadata": {
        "id": "nz_hJdlfftxW"
      },
      "source": [
        "# stopword=nltk.corpus.stopwords.words('english')\n",
        "# stopword[:5]"
      ],
      "execution_count": null,
      "outputs": []
    },
    {
      "cell_type": "code",
      "metadata": {
        "id": "FbZVm5ZPyeiL"
      },
      "source": [
        "tfidf = TfidfVectorizer()"
      ],
      "execution_count": null,
      "outputs": []
    },
    {
      "cell_type": "code",
      "metadata": {
        "id": "lWD25fC8zAac"
      },
      "source": [
        "tfidf = TfidfVectorizer()\n",
        "Model_1 = tfidf.fit_transform(Final_data['Cleaned sentence'])"
      ],
      "execution_count": null,
      "outputs": []
    },
    {
      "cell_type": "code",
      "metadata": {
        "colab": {
          "base_uri": "https://localhost:8080/"
        },
        "id": "5Cn1jGFMhSx4",
        "outputId": "5da7cb67-a0b7-4cd1-cbc2-2978fb32cd18"
      },
      "source": [
        "Model_1"
      ],
      "execution_count": null,
      "outputs": [
        {
          "output_type": "execute_result",
          "data": {
            "text/plain": [
              "<63873x47260 sparse matrix of type '<class 'numpy.float64'>'\n",
              "\twith 1123508 stored elements in Compressed Sparse Row format>"
            ]
          },
          "metadata": {
            "tags": []
          },
          "execution_count": 24
        }
      ]
    },
    {
      "cell_type": "code",
      "metadata": {
        "id": "QIpZPFcryIpm"
      },
      "source": [
        "# train test split for final_reviews\n",
        "X_train, X_test, y_train, y_test = train_test_split(Model_1, Final_data['Sentiment'], test_size=0.25, random_state=70)"
      ],
      "execution_count": null,
      "outputs": []
    },
    {
      "cell_type": "markdown",
      "metadata": {
        "id": "PGy11EX7lIgv"
      },
      "source": [
        "### 1. Naive bayes"
      ]
    },
    {
      "cell_type": "code",
      "metadata": {
        "colab": {
          "base_uri": "https://localhost:8080/"
        },
        "id": "5K5fT6v60CHp",
        "outputId": "aa5e9660-93ed-4365-d084-48c51f1f2440"
      },
      "source": [
        "MNB = MultinomialNB()\n",
        "MNB.fit(X_train, y_train)"
      ],
      "execution_count": 48,
      "outputs": [
        {
          "output_type": "execute_result",
          "data": {
            "text/plain": [
              "MultinomialNB(alpha=1.0, class_prior=None, fit_prior=True)"
            ]
          },
          "metadata": {
            "tags": []
          },
          "execution_count": 48
        }
      ]
    },
    {
      "cell_type": "code",
      "metadata": {
        "id": "gqZutovL3IOk",
        "colab": {
          "base_uri": "https://localhost:8080/"
        },
        "outputId": "e2e7ab6f-2305-451b-c6f0-2be230fe2a4c"
      },
      "source": [
        "predicted_train = MNB.predict(X_train)\n",
        "predicted_train"
      ],
      "execution_count": 49,
      "outputs": [
        {
          "output_type": "execute_result",
          "data": {
            "text/plain": [
              "array([0, 0, 0, ..., 0, 1, 0])"
            ]
          },
          "metadata": {
            "tags": []
          },
          "execution_count": 49
        }
      ]
    },
    {
      "cell_type": "code",
      "metadata": {
        "id": "QPuw5Zfv3Yw2",
        "colab": {
          "base_uri": "https://localhost:8080/"
        },
        "outputId": "67a19220-3aeb-4888-b628-fa53942de5a7"
      },
      "source": [
        "print(\"The accuracy score of train data {0}\".format(accuracy_score(predicted_train, y_train)))\n",
        "predicted_test= MNB.predict(X_test)\n",
        "print(\"The accuracy score of test data {0}\".format(accuracy_score(predicted_test, y_test)))\n",
        "print(\"The ROC AUC score on test data {0}\".format(roc_auc_score(predicted_test, y_test)))\n",
        "print(\"---------------confusion matrix------------\")\n",
        "print(confusion_matrix(predicted_test, y_test))\n"
      ],
      "execution_count": 50,
      "outputs": [
        {
          "output_type": "stream",
          "text": [
            "The accuracy score of train data 0.8249832999331997\n",
            "The accuracy score of test data 0.7044273279478991\n",
            "The ROC AUC score on test data 0.7046445539239068\n",
            "---------------confusion matrix------------\n",
            "[[5258 2171]\n",
            " [2549 5991]]\n"
          ],
          "name": "stdout"
        }
      ]
    },
    {
      "cell_type": "markdown",
      "metadata": {
        "id": "NtQr9SmFlMYI"
      },
      "source": [
        "### 2. Logistic regression"
      ]
    },
    {
      "cell_type": "code",
      "metadata": {
        "colab": {
          "base_uri": "https://localhost:8080/"
        },
        "id": "qNdaXXeM06DW",
        "outputId": "9d4c2081-4ab4-42c6-8384-61bf1285be2c"
      },
      "source": [
        "logreg = LogisticRegression()\n",
        "logreg.fit(X_train, y_train)"
      ],
      "execution_count": null,
      "outputs": [
        {
          "output_type": "stream",
          "text": [
            "/usr/local/lib/python3.7/dist-packages/sklearn/linear_model/_logistic.py:940: ConvergenceWarning: lbfgs failed to converge (status=1):\n",
            "STOP: TOTAL NO. of ITERATIONS REACHED LIMIT.\n",
            "\n",
            "Increase the number of iterations (max_iter) or scale the data as shown in:\n",
            "    https://scikit-learn.org/stable/modules/preprocessing.html\n",
            "Please also refer to the documentation for alternative solver options:\n",
            "    https://scikit-learn.org/stable/modules/linear_model.html#logistic-regression\n",
            "  extra_warning_msg=_LOGISTIC_SOLVER_CONVERGENCE_MSG)\n"
          ],
          "name": "stderr"
        },
        {
          "output_type": "execute_result",
          "data": {
            "text/plain": [
              "LogisticRegression(C=1.0, class_weight=None, dual=False, fit_intercept=True,\n",
              "                   intercept_scaling=1, l1_ratio=None, max_iter=100,\n",
              "                   multi_class='auto', n_jobs=None, penalty='l2',\n",
              "                   random_state=None, solver='lbfgs', tol=0.0001, verbose=0,\n",
              "                   warm_start=False)"
            ]
          },
          "metadata": {
            "tags": []
          },
          "execution_count": 31
        }
      ]
    },
    {
      "cell_type": "code",
      "metadata": {
        "id": "7x8GpPaGlsfH"
      },
      "source": [
        "log_predicted_train = logreg.predict(X_train)\n",
        "log_predicted_test= logreg.predict(X_test)"
      ],
      "execution_count": null,
      "outputs": []
    },
    {
      "cell_type": "code",
      "metadata": {
        "colab": {
          "base_uri": "https://localhost:8080/"
        },
        "id": "4MunsYbmmBQz",
        "outputId": "5f01d892-19d6-4757-8041-8bc955f05e63"
      },
      "source": [
        "print(\"The accuracy score of train data {0}\".format(accuracy_score(log_predicted_train, y_train)))\n",
        "print(\"The accuracy score of test data {0}\".format(accuracy_score(log_predicted_test, y_test)))\n",
        "print(\"The ROC AUC score on test data {0}\".format(roc_auc_score(log_predicted_test, y_test)))\n",
        "print(\"---------------confusion matrix------------\")\n",
        "print(confusion_matrix(log_predicted_test, y_test))"
      ],
      "execution_count": null,
      "outputs": [
        {
          "output_type": "stream",
          "text": [
            "The accuracy score of train data 0.7995365731462926\n",
            "The accuracy score of test data 0.6859540359446428\n",
            "The ROC AUC score on test data 0.6857889116783373\n",
            "---------------confusion matrix------------\n",
            "[[5259 2467]\n",
            " [2548 5695]]\n"
          ],
          "name": "stdout"
        }
      ]
    },
    {
      "cell_type": "markdown",
      "metadata": {
        "id": "DG57Q3NwmiO4"
      },
      "source": [
        "### 3. Support Vector Machines"
      ]
    },
    {
      "cell_type": "code",
      "metadata": {
        "id": "9RKz406goqvC"
      },
      "source": [
        "log_predicted_train = classifier_linear.predict(X_train)\n",
        "log_predicted_test= classifier_linear.predict(X_test)"
      ],
      "execution_count": null,
      "outputs": []
    },
    {
      "cell_type": "code",
      "metadata": {
        "colab": {
          "base_uri": "https://localhost:8080/"
        },
        "id": "-WzrXiZbtL5N",
        "outputId": "712720af-f0da-4d4a-852f-aef5fb4d5cbc"
      },
      "source": [
        "print(\"The accuracy score of train data {0}\".format(accuracy_score(log_predicted_train, y_train)))\n",
        "print(\"The accuracy score of test data {0}\".format(accuracy_score(log_predicted_test, y_test)))\n",
        "print(\"The ROC AUC score on test data {0}\".format(roc_auc_score(log_predicted_test, y_test)))\n",
        "print(\"---------------confusion matrix------------\")\n",
        "print(confusion_matrix(log_predicted_test, y_test))"
      ],
      "execution_count": null,
      "outputs": [
        {
          "output_type": "stream",
          "text": [
            "The accuracy score of train data 0.8290956913827655\n",
            "The accuracy score of test data 0.6925292754712254\n",
            "The ROC AUC score on test data 0.6924744316689848\n",
            "---------------confusion matrix------------\n",
            "[[5419 2522]\n",
            " [2388 5640]]\n"
          ],
          "name": "stdout"
        }
      ]
    },
    {
      "cell_type": "code",
      "metadata": {
        "id": "n8_5GuI-vKd5"
      },
      "source": [
        ""
      ],
      "execution_count": null,
      "outputs": []
    }
  ]
}