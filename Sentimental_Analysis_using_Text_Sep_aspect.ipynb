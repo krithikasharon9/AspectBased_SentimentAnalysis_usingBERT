{
  "nbformat": 4,
  "nbformat_minor": 0,
  "metadata": {
    "colab": {
      "name": "Sentimental Analysis using Text Sep aspect.ipynb",
      "provenance": [],
      "toc_visible": true
    },
    "kernelspec": {
      "name": "python3",
      "display_name": "Python 3"
    },
    "language_info": {
      "name": "python"
    },
    "accelerator": "GPU",
    "widgets": {
      "application/vnd.jupyter.widget-state+json": {
        "10da34b3a344458984add1cd6e44aecf": {
          "model_module": "@jupyter-widgets/controls",
          "model_name": "HBoxModel",
          "model_module_version": "1.5.0",
          "state": {
            "_view_name": "HBoxView",
            "_dom_classes": [],
            "_model_name": "HBoxModel",
            "_view_module": "@jupyter-widgets/controls",
            "_model_module_version": "1.5.0",
            "_view_count": null,
            "_view_module_version": "1.5.0",
            "box_style": "",
            "layout": "IPY_MODEL_5b3710e7bc6745359167df94a993189c",
            "_model_module": "@jupyter-widgets/controls",
            "children": [
              "IPY_MODEL_81281fced95f4cdfa3a3eb19508b98e6",
              "IPY_MODEL_783a491fa84b4b668f79bef6398d9a20"
            ]
          }
        },
        "5b3710e7bc6745359167df94a993189c": {
          "model_module": "@jupyter-widgets/base",
          "model_name": "LayoutModel",
          "model_module_version": "1.2.0",
          "state": {
            "_view_name": "LayoutView",
            "grid_template_rows": null,
            "right": null,
            "justify_content": null,
            "_view_module": "@jupyter-widgets/base",
            "overflow": null,
            "_model_module_version": "1.2.0",
            "_view_count": null,
            "flex_flow": null,
            "width": null,
            "min_width": null,
            "border": null,
            "align_items": null,
            "bottom": null,
            "_model_module": "@jupyter-widgets/base",
            "top": null,
            "grid_column": null,
            "overflow_y": null,
            "overflow_x": null,
            "grid_auto_flow": null,
            "grid_area": null,
            "grid_template_columns": null,
            "flex": null,
            "_model_name": "LayoutModel",
            "justify_items": null,
            "grid_row": null,
            "max_height": null,
            "align_content": null,
            "visibility": null,
            "align_self": null,
            "height": null,
            "min_height": null,
            "padding": null,
            "grid_auto_rows": null,
            "grid_gap": null,
            "max_width": null,
            "order": null,
            "_view_module_version": "1.2.0",
            "grid_template_areas": null,
            "object_position": null,
            "object_fit": null,
            "grid_auto_columns": null,
            "margin": null,
            "display": null,
            "left": null
          }
        },
        "81281fced95f4cdfa3a3eb19508b98e6": {
          "model_module": "@jupyter-widgets/controls",
          "model_name": "FloatProgressModel",
          "model_module_version": "1.5.0",
          "state": {
            "_view_name": "ProgressView",
            "style": "IPY_MODEL_81bee995bf764fc6a07a9de0d50aac1b",
            "_dom_classes": [],
            "description": "Downloading: 100%",
            "_model_name": "FloatProgressModel",
            "bar_style": "success",
            "max": 231508,
            "_view_module": "@jupyter-widgets/controls",
            "_model_module_version": "1.5.0",
            "value": 231508,
            "_view_count": null,
            "_view_module_version": "1.5.0",
            "orientation": "horizontal",
            "min": 0,
            "description_tooltip": null,
            "_model_module": "@jupyter-widgets/controls",
            "layout": "IPY_MODEL_8192b7f12aca4b7a84a700ea3fc81228"
          }
        },
        "783a491fa84b4b668f79bef6398d9a20": {
          "model_module": "@jupyter-widgets/controls",
          "model_name": "HTMLModel",
          "model_module_version": "1.5.0",
          "state": {
            "_view_name": "HTMLView",
            "style": "IPY_MODEL_0c5fab4ef8594477bc00c954b9e5e3d1",
            "_dom_classes": [],
            "description": "",
            "_model_name": "HTMLModel",
            "placeholder": "​",
            "_view_module": "@jupyter-widgets/controls",
            "_model_module_version": "1.5.0",
            "value": " 232k/232k [00:00&lt;00:00, 1.99MB/s]",
            "_view_count": null,
            "_view_module_version": "1.5.0",
            "description_tooltip": null,
            "_model_module": "@jupyter-widgets/controls",
            "layout": "IPY_MODEL_7642dfe72bee4f1f9cd81f720a88a764"
          }
        },
        "81bee995bf764fc6a07a9de0d50aac1b": {
          "model_module": "@jupyter-widgets/controls",
          "model_name": "ProgressStyleModel",
          "model_module_version": "1.5.0",
          "state": {
            "_view_name": "StyleView",
            "_model_name": "ProgressStyleModel",
            "description_width": "initial",
            "_view_module": "@jupyter-widgets/base",
            "_model_module_version": "1.5.0",
            "_view_count": null,
            "_view_module_version": "1.2.0",
            "bar_color": null,
            "_model_module": "@jupyter-widgets/controls"
          }
        },
        "8192b7f12aca4b7a84a700ea3fc81228": {
          "model_module": "@jupyter-widgets/base",
          "model_name": "LayoutModel",
          "model_module_version": "1.2.0",
          "state": {
            "_view_name": "LayoutView",
            "grid_template_rows": null,
            "right": null,
            "justify_content": null,
            "_view_module": "@jupyter-widgets/base",
            "overflow": null,
            "_model_module_version": "1.2.0",
            "_view_count": null,
            "flex_flow": null,
            "width": null,
            "min_width": null,
            "border": null,
            "align_items": null,
            "bottom": null,
            "_model_module": "@jupyter-widgets/base",
            "top": null,
            "grid_column": null,
            "overflow_y": null,
            "overflow_x": null,
            "grid_auto_flow": null,
            "grid_area": null,
            "grid_template_columns": null,
            "flex": null,
            "_model_name": "LayoutModel",
            "justify_items": null,
            "grid_row": null,
            "max_height": null,
            "align_content": null,
            "visibility": null,
            "align_self": null,
            "height": null,
            "min_height": null,
            "padding": null,
            "grid_auto_rows": null,
            "grid_gap": null,
            "max_width": null,
            "order": null,
            "_view_module_version": "1.2.0",
            "grid_template_areas": null,
            "object_position": null,
            "object_fit": null,
            "grid_auto_columns": null,
            "margin": null,
            "display": null,
            "left": null
          }
        },
        "0c5fab4ef8594477bc00c954b9e5e3d1": {
          "model_module": "@jupyter-widgets/controls",
          "model_name": "DescriptionStyleModel",
          "model_module_version": "1.5.0",
          "state": {
            "_view_name": "StyleView",
            "_model_name": "DescriptionStyleModel",
            "description_width": "",
            "_view_module": "@jupyter-widgets/base",
            "_model_module_version": "1.5.0",
            "_view_count": null,
            "_view_module_version": "1.2.0",
            "_model_module": "@jupyter-widgets/controls"
          }
        },
        "7642dfe72bee4f1f9cd81f720a88a764": {
          "model_module": "@jupyter-widgets/base",
          "model_name": "LayoutModel",
          "model_module_version": "1.2.0",
          "state": {
            "_view_name": "LayoutView",
            "grid_template_rows": null,
            "right": null,
            "justify_content": null,
            "_view_module": "@jupyter-widgets/base",
            "overflow": null,
            "_model_module_version": "1.2.0",
            "_view_count": null,
            "flex_flow": null,
            "width": null,
            "min_width": null,
            "border": null,
            "align_items": null,
            "bottom": null,
            "_model_module": "@jupyter-widgets/base",
            "top": null,
            "grid_column": null,
            "overflow_y": null,
            "overflow_x": null,
            "grid_auto_flow": null,
            "grid_area": null,
            "grid_template_columns": null,
            "flex": null,
            "_model_name": "LayoutModel",
            "justify_items": null,
            "grid_row": null,
            "max_height": null,
            "align_content": null,
            "visibility": null,
            "align_self": null,
            "height": null,
            "min_height": null,
            "padding": null,
            "grid_auto_rows": null,
            "grid_gap": null,
            "max_width": null,
            "order": null,
            "_view_module_version": "1.2.0",
            "grid_template_areas": null,
            "object_position": null,
            "object_fit": null,
            "grid_auto_columns": null,
            "margin": null,
            "display": null,
            "left": null
          }
        },
        "943b1a6946944c68aa38698fe15b6f65": {
          "model_module": "@jupyter-widgets/controls",
          "model_name": "HBoxModel",
          "model_module_version": "1.5.0",
          "state": {
            "_view_name": "HBoxView",
            "_dom_classes": [],
            "_model_name": "HBoxModel",
            "_view_module": "@jupyter-widgets/controls",
            "_model_module_version": "1.5.0",
            "_view_count": null,
            "_view_module_version": "1.5.0",
            "box_style": "",
            "layout": "IPY_MODEL_9f888b86ceee487aa37f0e41830aaea2",
            "_model_module": "@jupyter-widgets/controls",
            "children": [
              "IPY_MODEL_9158cb6038b141779ac4e75341f5ce32",
              "IPY_MODEL_0b69c4d35179456b9b06486f2dd9f683"
            ]
          }
        },
        "9f888b86ceee487aa37f0e41830aaea2": {
          "model_module": "@jupyter-widgets/base",
          "model_name": "LayoutModel",
          "model_module_version": "1.2.0",
          "state": {
            "_view_name": "LayoutView",
            "grid_template_rows": null,
            "right": null,
            "justify_content": null,
            "_view_module": "@jupyter-widgets/base",
            "overflow": null,
            "_model_module_version": "1.2.0",
            "_view_count": null,
            "flex_flow": null,
            "width": null,
            "min_width": null,
            "border": null,
            "align_items": null,
            "bottom": null,
            "_model_module": "@jupyter-widgets/base",
            "top": null,
            "grid_column": null,
            "overflow_y": null,
            "overflow_x": null,
            "grid_auto_flow": null,
            "grid_area": null,
            "grid_template_columns": null,
            "flex": null,
            "_model_name": "LayoutModel",
            "justify_items": null,
            "grid_row": null,
            "max_height": null,
            "align_content": null,
            "visibility": null,
            "align_self": null,
            "height": null,
            "min_height": null,
            "padding": null,
            "grid_auto_rows": null,
            "grid_gap": null,
            "max_width": null,
            "order": null,
            "_view_module_version": "1.2.0",
            "grid_template_areas": null,
            "object_position": null,
            "object_fit": null,
            "grid_auto_columns": null,
            "margin": null,
            "display": null,
            "left": null
          }
        },
        "9158cb6038b141779ac4e75341f5ce32": {
          "model_module": "@jupyter-widgets/controls",
          "model_name": "FloatProgressModel",
          "model_module_version": "1.5.0",
          "state": {
            "_view_name": "ProgressView",
            "style": "IPY_MODEL_eda00af7cf9144789d0b288ad6b24037",
            "_dom_classes": [],
            "description": "Downloading: 100%",
            "_model_name": "FloatProgressModel",
            "bar_style": "success",
            "max": 466062,
            "_view_module": "@jupyter-widgets/controls",
            "_model_module_version": "1.5.0",
            "value": 466062,
            "_view_count": null,
            "_view_module_version": "1.5.0",
            "orientation": "horizontal",
            "min": 0,
            "description_tooltip": null,
            "_model_module": "@jupyter-widgets/controls",
            "layout": "IPY_MODEL_0605e5ea356e4526bc76e52332584f67"
          }
        },
        "0b69c4d35179456b9b06486f2dd9f683": {
          "model_module": "@jupyter-widgets/controls",
          "model_name": "HTMLModel",
          "model_module_version": "1.5.0",
          "state": {
            "_view_name": "HTMLView",
            "style": "IPY_MODEL_eef44309abe74f9589ff9c56137a39d3",
            "_dom_classes": [],
            "description": "",
            "_model_name": "HTMLModel",
            "placeholder": "​",
            "_view_module": "@jupyter-widgets/controls",
            "_model_module_version": "1.5.0",
            "value": " 466k/466k [00:01&lt;00:00, 422kB/s]",
            "_view_count": null,
            "_view_module_version": "1.5.0",
            "description_tooltip": null,
            "_model_module": "@jupyter-widgets/controls",
            "layout": "IPY_MODEL_c6064cb794284a1d89d5a0b1b6210994"
          }
        },
        "eda00af7cf9144789d0b288ad6b24037": {
          "model_module": "@jupyter-widgets/controls",
          "model_name": "ProgressStyleModel",
          "model_module_version": "1.5.0",
          "state": {
            "_view_name": "StyleView",
            "_model_name": "ProgressStyleModel",
            "description_width": "initial",
            "_view_module": "@jupyter-widgets/base",
            "_model_module_version": "1.5.0",
            "_view_count": null,
            "_view_module_version": "1.2.0",
            "bar_color": null,
            "_model_module": "@jupyter-widgets/controls"
          }
        },
        "0605e5ea356e4526bc76e52332584f67": {
          "model_module": "@jupyter-widgets/base",
          "model_name": "LayoutModel",
          "model_module_version": "1.2.0",
          "state": {
            "_view_name": "LayoutView",
            "grid_template_rows": null,
            "right": null,
            "justify_content": null,
            "_view_module": "@jupyter-widgets/base",
            "overflow": null,
            "_model_module_version": "1.2.0",
            "_view_count": null,
            "flex_flow": null,
            "width": null,
            "min_width": null,
            "border": null,
            "align_items": null,
            "bottom": null,
            "_model_module": "@jupyter-widgets/base",
            "top": null,
            "grid_column": null,
            "overflow_y": null,
            "overflow_x": null,
            "grid_auto_flow": null,
            "grid_area": null,
            "grid_template_columns": null,
            "flex": null,
            "_model_name": "LayoutModel",
            "justify_items": null,
            "grid_row": null,
            "max_height": null,
            "align_content": null,
            "visibility": null,
            "align_self": null,
            "height": null,
            "min_height": null,
            "padding": null,
            "grid_auto_rows": null,
            "grid_gap": null,
            "max_width": null,
            "order": null,
            "_view_module_version": "1.2.0",
            "grid_template_areas": null,
            "object_position": null,
            "object_fit": null,
            "grid_auto_columns": null,
            "margin": null,
            "display": null,
            "left": null
          }
        },
        "eef44309abe74f9589ff9c56137a39d3": {
          "model_module": "@jupyter-widgets/controls",
          "model_name": "DescriptionStyleModel",
          "model_module_version": "1.5.0",
          "state": {
            "_view_name": "StyleView",
            "_model_name": "DescriptionStyleModel",
            "description_width": "",
            "_view_module": "@jupyter-widgets/base",
            "_model_module_version": "1.5.0",
            "_view_count": null,
            "_view_module_version": "1.2.0",
            "_model_module": "@jupyter-widgets/controls"
          }
        },
        "c6064cb794284a1d89d5a0b1b6210994": {
          "model_module": "@jupyter-widgets/base",
          "model_name": "LayoutModel",
          "model_module_version": "1.2.0",
          "state": {
            "_view_name": "LayoutView",
            "grid_template_rows": null,
            "right": null,
            "justify_content": null,
            "_view_module": "@jupyter-widgets/base",
            "overflow": null,
            "_model_module_version": "1.2.0",
            "_view_count": null,
            "flex_flow": null,
            "width": null,
            "min_width": null,
            "border": null,
            "align_items": null,
            "bottom": null,
            "_model_module": "@jupyter-widgets/base",
            "top": null,
            "grid_column": null,
            "overflow_y": null,
            "overflow_x": null,
            "grid_auto_flow": null,
            "grid_area": null,
            "grid_template_columns": null,
            "flex": null,
            "_model_name": "LayoutModel",
            "justify_items": null,
            "grid_row": null,
            "max_height": null,
            "align_content": null,
            "visibility": null,
            "align_self": null,
            "height": null,
            "min_height": null,
            "padding": null,
            "grid_auto_rows": null,
            "grid_gap": null,
            "max_width": null,
            "order": null,
            "_view_module_version": "1.2.0",
            "grid_template_areas": null,
            "object_position": null,
            "object_fit": null,
            "grid_auto_columns": null,
            "margin": null,
            "display": null,
            "left": null
          }
        },
        "6b8e6cfbc3fd40e68b0fd780b56200c2": {
          "model_module": "@jupyter-widgets/controls",
          "model_name": "HBoxModel",
          "model_module_version": "1.5.0",
          "state": {
            "_view_name": "HBoxView",
            "_dom_classes": [],
            "_model_name": "HBoxModel",
            "_view_module": "@jupyter-widgets/controls",
            "_model_module_version": "1.5.0",
            "_view_count": null,
            "_view_module_version": "1.5.0",
            "box_style": "",
            "layout": "IPY_MODEL_9478dc7e21e54945ae2729fb684a3817",
            "_model_module": "@jupyter-widgets/controls",
            "children": [
              "IPY_MODEL_7e2198468be0450797f8b86becfbd2e5",
              "IPY_MODEL_abbf6a4e33ac4dcf944a51ca68e04101"
            ]
          }
        },
        "9478dc7e21e54945ae2729fb684a3817": {
          "model_module": "@jupyter-widgets/base",
          "model_name": "LayoutModel",
          "model_module_version": "1.2.0",
          "state": {
            "_view_name": "LayoutView",
            "grid_template_rows": null,
            "right": null,
            "justify_content": null,
            "_view_module": "@jupyter-widgets/base",
            "overflow": null,
            "_model_module_version": "1.2.0",
            "_view_count": null,
            "flex_flow": null,
            "width": null,
            "min_width": null,
            "border": null,
            "align_items": null,
            "bottom": null,
            "_model_module": "@jupyter-widgets/base",
            "top": null,
            "grid_column": null,
            "overflow_y": null,
            "overflow_x": null,
            "grid_auto_flow": null,
            "grid_area": null,
            "grid_template_columns": null,
            "flex": null,
            "_model_name": "LayoutModel",
            "justify_items": null,
            "grid_row": null,
            "max_height": null,
            "align_content": null,
            "visibility": null,
            "align_self": null,
            "height": null,
            "min_height": null,
            "padding": null,
            "grid_auto_rows": null,
            "grid_gap": null,
            "max_width": null,
            "order": null,
            "_view_module_version": "1.2.0",
            "grid_template_areas": null,
            "object_position": null,
            "object_fit": null,
            "grid_auto_columns": null,
            "margin": null,
            "display": null,
            "left": null
          }
        },
        "7e2198468be0450797f8b86becfbd2e5": {
          "model_module": "@jupyter-widgets/controls",
          "model_name": "FloatProgressModel",
          "model_module_version": "1.5.0",
          "state": {
            "_view_name": "ProgressView",
            "style": "IPY_MODEL_28ec9d3318b341ea986d1cdb44dadde1",
            "_dom_classes": [],
            "description": "Downloading: 100%",
            "_model_name": "FloatProgressModel",
            "bar_style": "success",
            "max": 28,
            "_view_module": "@jupyter-widgets/controls",
            "_model_module_version": "1.5.0",
            "value": 28,
            "_view_count": null,
            "_view_module_version": "1.5.0",
            "orientation": "horizontal",
            "min": 0,
            "description_tooltip": null,
            "_model_module": "@jupyter-widgets/controls",
            "layout": "IPY_MODEL_38fb34faaaaf4cfab0e7fbcfb06c8810"
          }
        },
        "abbf6a4e33ac4dcf944a51ca68e04101": {
          "model_module": "@jupyter-widgets/controls",
          "model_name": "HTMLModel",
          "model_module_version": "1.5.0",
          "state": {
            "_view_name": "HTMLView",
            "style": "IPY_MODEL_a4adaad23e754048b26a4d5f1fb79b4c",
            "_dom_classes": [],
            "description": "",
            "_model_name": "HTMLModel",
            "placeholder": "​",
            "_view_module": "@jupyter-widgets/controls",
            "_model_module_version": "1.5.0",
            "value": " 28.0/28.0 [00:00&lt;00:00, 93.5B/s]",
            "_view_count": null,
            "_view_module_version": "1.5.0",
            "description_tooltip": null,
            "_model_module": "@jupyter-widgets/controls",
            "layout": "IPY_MODEL_50d0687686114c80a3225a671dbe9e96"
          }
        },
        "28ec9d3318b341ea986d1cdb44dadde1": {
          "model_module": "@jupyter-widgets/controls",
          "model_name": "ProgressStyleModel",
          "model_module_version": "1.5.0",
          "state": {
            "_view_name": "StyleView",
            "_model_name": "ProgressStyleModel",
            "description_width": "initial",
            "_view_module": "@jupyter-widgets/base",
            "_model_module_version": "1.5.0",
            "_view_count": null,
            "_view_module_version": "1.2.0",
            "bar_color": null,
            "_model_module": "@jupyter-widgets/controls"
          }
        },
        "38fb34faaaaf4cfab0e7fbcfb06c8810": {
          "model_module": "@jupyter-widgets/base",
          "model_name": "LayoutModel",
          "model_module_version": "1.2.0",
          "state": {
            "_view_name": "LayoutView",
            "grid_template_rows": null,
            "right": null,
            "justify_content": null,
            "_view_module": "@jupyter-widgets/base",
            "overflow": null,
            "_model_module_version": "1.2.0",
            "_view_count": null,
            "flex_flow": null,
            "width": null,
            "min_width": null,
            "border": null,
            "align_items": null,
            "bottom": null,
            "_model_module": "@jupyter-widgets/base",
            "top": null,
            "grid_column": null,
            "overflow_y": null,
            "overflow_x": null,
            "grid_auto_flow": null,
            "grid_area": null,
            "grid_template_columns": null,
            "flex": null,
            "_model_name": "LayoutModel",
            "justify_items": null,
            "grid_row": null,
            "max_height": null,
            "align_content": null,
            "visibility": null,
            "align_self": null,
            "height": null,
            "min_height": null,
            "padding": null,
            "grid_auto_rows": null,
            "grid_gap": null,
            "max_width": null,
            "order": null,
            "_view_module_version": "1.2.0",
            "grid_template_areas": null,
            "object_position": null,
            "object_fit": null,
            "grid_auto_columns": null,
            "margin": null,
            "display": null,
            "left": null
          }
        },
        "a4adaad23e754048b26a4d5f1fb79b4c": {
          "model_module": "@jupyter-widgets/controls",
          "model_name": "DescriptionStyleModel",
          "model_module_version": "1.5.0",
          "state": {
            "_view_name": "StyleView",
            "_model_name": "DescriptionStyleModel",
            "description_width": "",
            "_view_module": "@jupyter-widgets/base",
            "_model_module_version": "1.5.0",
            "_view_count": null,
            "_view_module_version": "1.2.0",
            "_model_module": "@jupyter-widgets/controls"
          }
        },
        "50d0687686114c80a3225a671dbe9e96": {
          "model_module": "@jupyter-widgets/base",
          "model_name": "LayoutModel",
          "model_module_version": "1.2.0",
          "state": {
            "_view_name": "LayoutView",
            "grid_template_rows": null,
            "right": null,
            "justify_content": null,
            "_view_module": "@jupyter-widgets/base",
            "overflow": null,
            "_model_module_version": "1.2.0",
            "_view_count": null,
            "flex_flow": null,
            "width": null,
            "min_width": null,
            "border": null,
            "align_items": null,
            "bottom": null,
            "_model_module": "@jupyter-widgets/base",
            "top": null,
            "grid_column": null,
            "overflow_y": null,
            "overflow_x": null,
            "grid_auto_flow": null,
            "grid_area": null,
            "grid_template_columns": null,
            "flex": null,
            "_model_name": "LayoutModel",
            "justify_items": null,
            "grid_row": null,
            "max_height": null,
            "align_content": null,
            "visibility": null,
            "align_self": null,
            "height": null,
            "min_height": null,
            "padding": null,
            "grid_auto_rows": null,
            "grid_gap": null,
            "max_width": null,
            "order": null,
            "_view_module_version": "1.2.0",
            "grid_template_areas": null,
            "object_position": null,
            "object_fit": null,
            "grid_auto_columns": null,
            "margin": null,
            "display": null,
            "left": null
          }
        },
        "78274735f6d948829a6c274d33811b55": {
          "model_module": "@jupyter-widgets/controls",
          "model_name": "HBoxModel",
          "model_module_version": "1.5.0",
          "state": {
            "_view_name": "HBoxView",
            "_dom_classes": [],
            "_model_name": "HBoxModel",
            "_view_module": "@jupyter-widgets/controls",
            "_model_module_version": "1.5.0",
            "_view_count": null,
            "_view_module_version": "1.5.0",
            "box_style": "",
            "layout": "IPY_MODEL_1813974ddd3f4c3cb7b09a3f644f6a7c",
            "_model_module": "@jupyter-widgets/controls",
            "children": [
              "IPY_MODEL_95649f3ba47d40ccbd16a2607f017cbc",
              "IPY_MODEL_a7f8f725714b49da959f959b4d57bedd"
            ]
          }
        },
        "1813974ddd3f4c3cb7b09a3f644f6a7c": {
          "model_module": "@jupyter-widgets/base",
          "model_name": "LayoutModel",
          "model_module_version": "1.2.0",
          "state": {
            "_view_name": "LayoutView",
            "grid_template_rows": null,
            "right": null,
            "justify_content": null,
            "_view_module": "@jupyter-widgets/base",
            "overflow": null,
            "_model_module_version": "1.2.0",
            "_view_count": null,
            "flex_flow": null,
            "width": null,
            "min_width": null,
            "border": null,
            "align_items": null,
            "bottom": null,
            "_model_module": "@jupyter-widgets/base",
            "top": null,
            "grid_column": null,
            "overflow_y": null,
            "overflow_x": null,
            "grid_auto_flow": null,
            "grid_area": null,
            "grid_template_columns": null,
            "flex": null,
            "_model_name": "LayoutModel",
            "justify_items": null,
            "grid_row": null,
            "max_height": null,
            "align_content": null,
            "visibility": null,
            "align_self": null,
            "height": null,
            "min_height": null,
            "padding": null,
            "grid_auto_rows": null,
            "grid_gap": null,
            "max_width": null,
            "order": null,
            "_view_module_version": "1.2.0",
            "grid_template_areas": null,
            "object_position": null,
            "object_fit": null,
            "grid_auto_columns": null,
            "margin": null,
            "display": null,
            "left": null
          }
        },
        "95649f3ba47d40ccbd16a2607f017cbc": {
          "model_module": "@jupyter-widgets/controls",
          "model_name": "FloatProgressModel",
          "model_module_version": "1.5.0",
          "state": {
            "_view_name": "ProgressView",
            "style": "IPY_MODEL_862e6f64eacc4296b932a68382403193",
            "_dom_classes": [],
            "description": "Downloading: 100%",
            "_model_name": "FloatProgressModel",
            "bar_style": "success",
            "max": 442,
            "_view_module": "@jupyter-widgets/controls",
            "_model_module_version": "1.5.0",
            "value": 442,
            "_view_count": null,
            "_view_module_version": "1.5.0",
            "orientation": "horizontal",
            "min": 0,
            "description_tooltip": null,
            "_model_module": "@jupyter-widgets/controls",
            "layout": "IPY_MODEL_239702e93bc64b0e96e5c4ef7fcdfc9e"
          }
        },
        "a7f8f725714b49da959f959b4d57bedd": {
          "model_module": "@jupyter-widgets/controls",
          "model_name": "HTMLModel",
          "model_module_version": "1.5.0",
          "state": {
            "_view_name": "HTMLView",
            "style": "IPY_MODEL_846579cdbdbe47299a93c5dbd5300f33",
            "_dom_classes": [],
            "description": "",
            "_model_name": "HTMLModel",
            "placeholder": "​",
            "_view_module": "@jupyter-widgets/controls",
            "_model_module_version": "1.5.0",
            "value": " 442/442 [00:07&lt;00:00, 56.5B/s]",
            "_view_count": null,
            "_view_module_version": "1.5.0",
            "description_tooltip": null,
            "_model_module": "@jupyter-widgets/controls",
            "layout": "IPY_MODEL_0470202aeb324794a750a9f30b586a2e"
          }
        },
        "862e6f64eacc4296b932a68382403193": {
          "model_module": "@jupyter-widgets/controls",
          "model_name": "ProgressStyleModel",
          "model_module_version": "1.5.0",
          "state": {
            "_view_name": "StyleView",
            "_model_name": "ProgressStyleModel",
            "description_width": "initial",
            "_view_module": "@jupyter-widgets/base",
            "_model_module_version": "1.5.0",
            "_view_count": null,
            "_view_module_version": "1.2.0",
            "bar_color": null,
            "_model_module": "@jupyter-widgets/controls"
          }
        },
        "239702e93bc64b0e96e5c4ef7fcdfc9e": {
          "model_module": "@jupyter-widgets/base",
          "model_name": "LayoutModel",
          "model_module_version": "1.2.0",
          "state": {
            "_view_name": "LayoutView",
            "grid_template_rows": null,
            "right": null,
            "justify_content": null,
            "_view_module": "@jupyter-widgets/base",
            "overflow": null,
            "_model_module_version": "1.2.0",
            "_view_count": null,
            "flex_flow": null,
            "width": null,
            "min_width": null,
            "border": null,
            "align_items": null,
            "bottom": null,
            "_model_module": "@jupyter-widgets/base",
            "top": null,
            "grid_column": null,
            "overflow_y": null,
            "overflow_x": null,
            "grid_auto_flow": null,
            "grid_area": null,
            "grid_template_columns": null,
            "flex": null,
            "_model_name": "LayoutModel",
            "justify_items": null,
            "grid_row": null,
            "max_height": null,
            "align_content": null,
            "visibility": null,
            "align_self": null,
            "height": null,
            "min_height": null,
            "padding": null,
            "grid_auto_rows": null,
            "grid_gap": null,
            "max_width": null,
            "order": null,
            "_view_module_version": "1.2.0",
            "grid_template_areas": null,
            "object_position": null,
            "object_fit": null,
            "grid_auto_columns": null,
            "margin": null,
            "display": null,
            "left": null
          }
        },
        "846579cdbdbe47299a93c5dbd5300f33": {
          "model_module": "@jupyter-widgets/controls",
          "model_name": "DescriptionStyleModel",
          "model_module_version": "1.5.0",
          "state": {
            "_view_name": "StyleView",
            "_model_name": "DescriptionStyleModel",
            "description_width": "",
            "_view_module": "@jupyter-widgets/base",
            "_model_module_version": "1.5.0",
            "_view_count": null,
            "_view_module_version": "1.2.0",
            "_model_module": "@jupyter-widgets/controls"
          }
        },
        "0470202aeb324794a750a9f30b586a2e": {
          "model_module": "@jupyter-widgets/base",
          "model_name": "LayoutModel",
          "model_module_version": "1.2.0",
          "state": {
            "_view_name": "LayoutView",
            "grid_template_rows": null,
            "right": null,
            "justify_content": null,
            "_view_module": "@jupyter-widgets/base",
            "overflow": null,
            "_model_module_version": "1.2.0",
            "_view_count": null,
            "flex_flow": null,
            "width": null,
            "min_width": null,
            "border": null,
            "align_items": null,
            "bottom": null,
            "_model_module": "@jupyter-widgets/base",
            "top": null,
            "grid_column": null,
            "overflow_y": null,
            "overflow_x": null,
            "grid_auto_flow": null,
            "grid_area": null,
            "grid_template_columns": null,
            "flex": null,
            "_model_name": "LayoutModel",
            "justify_items": null,
            "grid_row": null,
            "max_height": null,
            "align_content": null,
            "visibility": null,
            "align_self": null,
            "height": null,
            "min_height": null,
            "padding": null,
            "grid_auto_rows": null,
            "grid_gap": null,
            "max_width": null,
            "order": null,
            "_view_module_version": "1.2.0",
            "grid_template_areas": null,
            "object_position": null,
            "object_fit": null,
            "grid_auto_columns": null,
            "margin": null,
            "display": null,
            "left": null
          }
        },
        "a8b0692170fc48a4a5f8ea1150457105": {
          "model_module": "@jupyter-widgets/controls",
          "model_name": "HBoxModel",
          "model_module_version": "1.5.0",
          "state": {
            "_view_name": "HBoxView",
            "_dom_classes": [],
            "_model_name": "HBoxModel",
            "_view_module": "@jupyter-widgets/controls",
            "_model_module_version": "1.5.0",
            "_view_count": null,
            "_view_module_version": "1.5.0",
            "box_style": "",
            "layout": "IPY_MODEL_9f1b6d4bd5a041ac995211169594d4af",
            "_model_module": "@jupyter-widgets/controls",
            "children": [
              "IPY_MODEL_c8c7d189030a42bf8c14df99ec31b2c6",
              "IPY_MODEL_af3398e65bcf4a29b0a3e62fdb191f58"
            ]
          }
        },
        "9f1b6d4bd5a041ac995211169594d4af": {
          "model_module": "@jupyter-widgets/base",
          "model_name": "LayoutModel",
          "model_module_version": "1.2.0",
          "state": {
            "_view_name": "LayoutView",
            "grid_template_rows": null,
            "right": null,
            "justify_content": null,
            "_view_module": "@jupyter-widgets/base",
            "overflow": null,
            "_model_module_version": "1.2.0",
            "_view_count": null,
            "flex_flow": null,
            "width": null,
            "min_width": null,
            "border": null,
            "align_items": null,
            "bottom": null,
            "_model_module": "@jupyter-widgets/base",
            "top": null,
            "grid_column": null,
            "overflow_y": null,
            "overflow_x": null,
            "grid_auto_flow": null,
            "grid_area": null,
            "grid_template_columns": null,
            "flex": null,
            "_model_name": "LayoutModel",
            "justify_items": null,
            "grid_row": null,
            "max_height": null,
            "align_content": null,
            "visibility": null,
            "align_self": null,
            "height": null,
            "min_height": null,
            "padding": null,
            "grid_auto_rows": null,
            "grid_gap": null,
            "max_width": null,
            "order": null,
            "_view_module_version": "1.2.0",
            "grid_template_areas": null,
            "object_position": null,
            "object_fit": null,
            "grid_auto_columns": null,
            "margin": null,
            "display": null,
            "left": null
          }
        },
        "c8c7d189030a42bf8c14df99ec31b2c6": {
          "model_module": "@jupyter-widgets/controls",
          "model_name": "FloatProgressModel",
          "model_module_version": "1.5.0",
          "state": {
            "_view_name": "ProgressView",
            "style": "IPY_MODEL_4c64041d4dee495abc1ab743a8930f26",
            "_dom_classes": [],
            "description": "Downloading: 100%",
            "_model_name": "FloatProgressModel",
            "bar_style": "success",
            "max": 363423424,
            "_view_module": "@jupyter-widgets/controls",
            "_model_module_version": "1.5.0",
            "value": 363423424,
            "_view_count": null,
            "_view_module_version": "1.5.0",
            "orientation": "horizontal",
            "min": 0,
            "description_tooltip": null,
            "_model_module": "@jupyter-widgets/controls",
            "layout": "IPY_MODEL_bfc722255b8f4045b0d1f0c7b53461b2"
          }
        },
        "af3398e65bcf4a29b0a3e62fdb191f58": {
          "model_module": "@jupyter-widgets/controls",
          "model_name": "HTMLModel",
          "model_module_version": "1.5.0",
          "state": {
            "_view_name": "HTMLView",
            "style": "IPY_MODEL_d5637234fb5b40ef932c5ec479e88441",
            "_dom_classes": [],
            "description": "",
            "_model_name": "HTMLModel",
            "placeholder": "​",
            "_view_module": "@jupyter-widgets/controls",
            "_model_module_version": "1.5.0",
            "value": " 363M/363M [00:07&lt;00:00, 47.6MB/s]",
            "_view_count": null,
            "_view_module_version": "1.5.0",
            "description_tooltip": null,
            "_model_module": "@jupyter-widgets/controls",
            "layout": "IPY_MODEL_736300e2cc5f430387f4fb79a2015570"
          }
        },
        "4c64041d4dee495abc1ab743a8930f26": {
          "model_module": "@jupyter-widgets/controls",
          "model_name": "ProgressStyleModel",
          "model_module_version": "1.5.0",
          "state": {
            "_view_name": "StyleView",
            "_model_name": "ProgressStyleModel",
            "description_width": "initial",
            "_view_module": "@jupyter-widgets/base",
            "_model_module_version": "1.5.0",
            "_view_count": null,
            "_view_module_version": "1.2.0",
            "bar_color": null,
            "_model_module": "@jupyter-widgets/controls"
          }
        },
        "bfc722255b8f4045b0d1f0c7b53461b2": {
          "model_module": "@jupyter-widgets/base",
          "model_name": "LayoutModel",
          "model_module_version": "1.2.0",
          "state": {
            "_view_name": "LayoutView",
            "grid_template_rows": null,
            "right": null,
            "justify_content": null,
            "_view_module": "@jupyter-widgets/base",
            "overflow": null,
            "_model_module_version": "1.2.0",
            "_view_count": null,
            "flex_flow": null,
            "width": null,
            "min_width": null,
            "border": null,
            "align_items": null,
            "bottom": null,
            "_model_module": "@jupyter-widgets/base",
            "top": null,
            "grid_column": null,
            "overflow_y": null,
            "overflow_x": null,
            "grid_auto_flow": null,
            "grid_area": null,
            "grid_template_columns": null,
            "flex": null,
            "_model_name": "LayoutModel",
            "justify_items": null,
            "grid_row": null,
            "max_height": null,
            "align_content": null,
            "visibility": null,
            "align_self": null,
            "height": null,
            "min_height": null,
            "padding": null,
            "grid_auto_rows": null,
            "grid_gap": null,
            "max_width": null,
            "order": null,
            "_view_module_version": "1.2.0",
            "grid_template_areas": null,
            "object_position": null,
            "object_fit": null,
            "grid_auto_columns": null,
            "margin": null,
            "display": null,
            "left": null
          }
        },
        "d5637234fb5b40ef932c5ec479e88441": {
          "model_module": "@jupyter-widgets/controls",
          "model_name": "DescriptionStyleModel",
          "model_module_version": "1.5.0",
          "state": {
            "_view_name": "StyleView",
            "_model_name": "DescriptionStyleModel",
            "description_width": "",
            "_view_module": "@jupyter-widgets/base",
            "_model_module_version": "1.5.0",
            "_view_count": null,
            "_view_module_version": "1.2.0",
            "_model_module": "@jupyter-widgets/controls"
          }
        },
        "736300e2cc5f430387f4fb79a2015570": {
          "model_module": "@jupyter-widgets/base",
          "model_name": "LayoutModel",
          "model_module_version": "1.2.0",
          "state": {
            "_view_name": "LayoutView",
            "grid_template_rows": null,
            "right": null,
            "justify_content": null,
            "_view_module": "@jupyter-widgets/base",
            "overflow": null,
            "_model_module_version": "1.2.0",
            "_view_count": null,
            "flex_flow": null,
            "width": null,
            "min_width": null,
            "border": null,
            "align_items": null,
            "bottom": null,
            "_model_module": "@jupyter-widgets/base",
            "top": null,
            "grid_column": null,
            "overflow_y": null,
            "overflow_x": null,
            "grid_auto_flow": null,
            "grid_area": null,
            "grid_template_columns": null,
            "flex": null,
            "_model_name": "LayoutModel",
            "justify_items": null,
            "grid_row": null,
            "max_height": null,
            "align_content": null,
            "visibility": null,
            "align_self": null,
            "height": null,
            "min_height": null,
            "padding": null,
            "grid_auto_rows": null,
            "grid_gap": null,
            "max_width": null,
            "order": null,
            "_view_module_version": "1.2.0",
            "grid_template_areas": null,
            "object_position": null,
            "object_fit": null,
            "grid_auto_columns": null,
            "margin": null,
            "display": null,
            "left": null
          }
        }
      }
    }
  },
  "cells": [
    {
      "cell_type": "markdown",
      "metadata": {
        "id": "Ypor80nn7lex"
      },
      "source": [
        "# Sentiment Analysis with aspect and TEXT\n",
        "\n",
        "a. Text [SEP] Aspect \n",
        "\n",
        "b. Text + Aspect"
      ]
    },
    {
      "cell_type": "markdown",
      "metadata": {
        "id": "7FLd0AQu7m6Y"
      },
      "source": [
        "## importing libraries"
      ]
    },
    {
      "cell_type": "code",
      "metadata": {
        "id": "ZpFA0GRvpD6M"
      },
      "source": [
        "import json\n",
        "from tqdm import tqdm\n",
        "import pandas as pd\n",
        "import numpy as np\n",
        "import token"
      ],
      "execution_count": null,
      "outputs": []
    },
    {
      "cell_type": "code",
      "metadata": {
        "id": "cOsNnYlmtXcb"
      },
      "source": [
        "from sklearn.model_selection import train_test_split\n",
        "from sklearn.feature_extraction.text import TfidfVectorizer\n",
        "import nltk\n",
        "from nltk.tokenize import word_tokenize  \n",
        "\n",
        "from collections import Counter\n",
        "from sklearn.preprocessing import LabelEncoder\n",
        "\n",
        "from sklearn.metrics import  confusion_matrix\n",
        "from sklearn.metrics import accuracy_score\n",
        "from sklearn.metrics import roc_auc_score"
      ],
      "execution_count": null,
      "outputs": []
    },
    {
      "cell_type": "code",
      "metadata": {
        "colab": {
          "base_uri": "https://localhost:8080/"
        },
        "id": "8fl11tiLtX3U",
        "outputId": "aff1d9d8-e5c1-4ac5-fad0-0ce61c622970"
      },
      "source": [
        "from google.colab import drive\n",
        "drive.mount('/content/drive',force_remount=True)"
      ],
      "execution_count": null,
      "outputs": [
        {
          "output_type": "stream",
          "text": [
            "Mounted at /content/drive\n"
          ],
          "name": "stdout"
        }
      ]
    },
    {
      "cell_type": "markdown",
      "metadata": {
        "id": "Pj-Ih9QW8h5P"
      },
      "source": [
        "## Processing with training data "
      ]
    },
    {
      "cell_type": "code",
      "metadata": {
        "id": "7-Zp7k0mtaOO"
      },
      "source": [
        "with open('/content/drive/My Drive/SentiHood/SentiHood Dataset/sentihood-train.json', 'r') as fp:\n",
        "    training_set = json.load(fp)"
      ],
      "execution_count": null,
      "outputs": []
    },
    {
      "cell_type": "code",
      "metadata": {
        "id": "xkNWHA3XtiGr"
      },
      "source": [
        "locations = ['LOCATION1']\n",
        "aspects = ['dining', 'general', 'green-nature', 'live', 'multicultural', 'nightlife', 'price', 'quiet', 'safety', 'shopping', 'touristy', 'transit-location']\n",
        "\n",
        "for location in locations:\n",
        "\n",
        "  df = pd.DataFrame({'id': [], 'text': [],'aspect':[], 'sentiment': []})\n",
        "\n",
        "  ii = 0\n",
        "  for each_example in training_set:\n",
        "      id = str(int(each_example['id']))\n",
        "      text = each_example['text'].strip()\n",
        "      \n",
        "      # If `location` is present in the text, only then iterate over the  \n",
        "      # list of opinions to find suitable `location-aspect` datapoints.\n",
        "\n",
        "      if location in text:\n",
        "          aspect_found = False\n",
        "          \n",
        "          for opinion in each_example['opinions']:\n",
        "              # Checking if the current example contains a sentiment\n",
        "              # related to `location-aspect`\n",
        "              \n",
        "              if opinion['target_entity'] == location:\n",
        "                  df.loc[ii] = [id, text,opinion['aspect'], opinion['sentiment']]\n",
        "                  aspect_found = True\n",
        "                  ii += 1\n",
        "                  break\n",
        "          \n",
        "          # If no sentiment is found for `location-asppect` in current \n",
        "          # example, then add a datapoint with None.\n",
        "          \n",
        "          if not aspect_found:\n",
        "              df.loc[ii] = [id, text,opinion['aspect'], 'None']\n",
        "              ii += 1\n",
        "        "
      ],
      "execution_count": null,
      "outputs": []
    },
    {
      "cell_type": "markdown",
      "metadata": {
        "id": "UTdVdF0B8NUH"
      },
      "source": [
        "## Processing with validation data"
      ]
    },
    {
      "cell_type": "code",
      "metadata": {
        "id": "bCv6lWO5tljZ"
      },
      "source": [
        "with open('/content/drive/My Drive/SentiHood/SentiHood Dataset/sentihood-dev.json', 'r') as fp:\n",
        "    validation_set = json.load(fp)"
      ],
      "execution_count": null,
      "outputs": []
    },
    {
      "cell_type": "code",
      "metadata": {
        "id": "a9hFwNiLtoQn"
      },
      "source": [
        "locations = ['LOCATION1']\n",
        "aspects = ['dining', 'general', 'green-nature', 'live', 'multicultural', 'nightlife', 'price', 'quiet', 'safety', 'shopping', 'touristy', 'transit-location']\n",
        "\n",
        "for location in locations:\n",
        "\n",
        "  df_valid = pd.DataFrame({'id': [], 'text': [],'aspect':[], 'sentiment': []})\n",
        "\n",
        "  ii = 0\n",
        "  for each_example in validation_set:\n",
        "      id = str(int(each_example['id']))\n",
        "      text = each_example['text'].strip()\n",
        "      \n",
        "      # If `location` is present in the text, only then iterate over the  \n",
        "      # list of opinions to find suitable `location-aspect` datapoints.\n",
        "\n",
        "      if location in text:\n",
        "          aspect_found = False\n",
        "          \n",
        "          for opinion in each_example['opinions']:\n",
        "              # Checking if the current example contains a sentiment\n",
        "              # related to `location-aspect`\n",
        "              \n",
        "              if opinion['target_entity'] == location:\n",
        "                  df_valid.loc[ii] = [id, text,opinion['aspect'], opinion['sentiment']]\n",
        "                  aspect_found = True\n",
        "                  ii += 1\n",
        "                  break\n",
        "          \n",
        "          # If no sentiment is found for `location-asppect` in current \n",
        "          # example, then add a datapoint with None.\n",
        "          \n",
        "          if not aspect_found:\n",
        "              df_valid.loc[ii] = [id, text,opinion['aspect'], 'None']\n",
        "              ii += 1\n",
        "        \n",
        "\n",
        "        # df.to_csv('/content/drive/My Drive/SentiHood/Bert-single/TrainingData/' + str(location) + str(aspect) + '.csv', index=False)\n",
        "        # print(f\"{location}{aspect} DONE!\\tLength = {ii}\")"
      ],
      "execution_count": null,
      "outputs": []
    },
    {
      "cell_type": "markdown",
      "metadata": {
        "id": "AC4oX5aI84nI"
      },
      "source": [
        "## Processing with Testing data"
      ]
    },
    {
      "cell_type": "code",
      "metadata": {
        "id": "cDivNq7StqPY"
      },
      "source": [
        "with open('/content/drive/My Drive/SentiHood/SentiHood Dataset/sentihood-test.json', 'r') as fp:\n",
        "    testing_set = json.load(fp)  "
      ],
      "execution_count": null,
      "outputs": []
    },
    {
      "cell_type": "code",
      "metadata": {
        "id": "PqyJs5RHttCj"
      },
      "source": [
        "locations = ['LOCATION1']\n",
        "aspects = ['dining', 'general', 'green-nature', 'live', 'multicultural', 'nightlife', 'price', 'quiet', 'safety', 'shopping', 'touristy', 'transit-location']\n",
        "\n",
        "for location in locations:\n",
        "\n",
        "  df_test = pd.DataFrame({'id': [], 'text': [],'aspect':[], 'sentiment': []})\n",
        "\n",
        "  ii = 0\n",
        "  for each_example in testing_set:\n",
        "      id = str(int(each_example['id']))\n",
        "      text = each_example['text'].strip()\n",
        "      \n",
        "      # If `location` is present in the text, only then iterate over the  \n",
        "      # list of opinions to find suitable `location-aspect` datapoints.\n",
        "\n",
        "      if location in text:\n",
        "          aspect_found = False\n",
        "          \n",
        "          for opinion in each_example['opinions']:\n",
        "              # Checking if the current example contains a sentiment\n",
        "              # related to `location-aspect`\n",
        "              \n",
        "              if opinion['target_entity'] == location:\n",
        "                  df_test.loc[ii] = [id, text,opinion['aspect'], opinion['sentiment']]\n",
        "                  aspect_found = True\n",
        "                  ii += 1\n",
        "                  break\n",
        "          \n",
        "          # If no sentiment is found for `location-asppect` in current \n",
        "          # example, then add a datapoint with None.\n",
        "          \n",
        "          if not aspect_found:\n",
        "              df_test.loc[ii] = [id, text,opinion['aspect'], 'None']\n",
        "              ii += 1"
      ],
      "execution_count": null,
      "outputs": []
    },
    {
      "cell_type": "markdown",
      "metadata": {
        "id": "xxlsifMA9BDW"
      },
      "source": [
        "## Mapping labels to apects and sentiments"
      ]
    },
    {
      "cell_type": "code",
      "metadata": {
        "id": "Z5K6bbUVtvNR"
      },
      "source": [
        "# Changing aspect to labels\n",
        "label_encoder=LabelEncoder()\n",
        "integer_category = label_encoder.fit_transform(df.aspect)\n",
        "df['label_aspect']=pd.DataFrame(integer_category)\n",
        "\n",
        "# Changing sentiment to numerical label\n",
        "df['sentiment']=df['sentiment'].map({'None':0,'Negative':1,'Positive':2})"
      ],
      "execution_count": null,
      "outputs": []
    },
    {
      "cell_type": "code",
      "metadata": {
        "id": "CH1j5tHnt0Bh"
      },
      "source": [
        "# Changing aspect to labels\n",
        "label_encoder=LabelEncoder()\n",
        "integer_category = label_encoder.fit_transform(df_valid.aspect)\n",
        "df_valid['label_aspect']=pd.DataFrame(integer_category)\n",
        "\n",
        "# Changing sentiment to numerical label\n",
        "df_valid['sentiment']=df_valid['sentiment'].map({'None':0,'Negative':1,'Positive':2})"
      ],
      "execution_count": null,
      "outputs": []
    },
    {
      "cell_type": "code",
      "metadata": {
        "id": "TGzOe2bxt2c3"
      },
      "source": [
        "# Changing aspect to labels\n",
        "label_encoder=LabelEncoder()\n",
        "integer_category = label_encoder.fit_transform(df_test.aspect)\n",
        "df_test['label_aspect']=pd.DataFrame(integer_category)\n",
        "\n",
        "# Changing sentiment to numerical label\n",
        "df_test['sentiment']=df_test['sentiment'].map({'None':0,'Negative':1,'Positive':2})"
      ],
      "execution_count": null,
      "outputs": []
    },
    {
      "cell_type": "code",
      "metadata": {
        "colab": {
          "base_uri": "https://localhost:8080/",
          "height": 206
        },
        "id": "g9oTbyUht5Wo",
        "outputId": "cb585bae-1b5d-4633-abb3-91f0540c94ce"
      },
      "source": [
        "df_test.head()"
      ],
      "execution_count": null,
      "outputs": [
        {
          "output_type": "execute_result",
          "data": {
            "text/html": [
              "<div>\n",
              "<style scoped>\n",
              "    .dataframe tbody tr th:only-of-type {\n",
              "        vertical-align: middle;\n",
              "    }\n",
              "\n",
              "    .dataframe tbody tr th {\n",
              "        vertical-align: top;\n",
              "    }\n",
              "\n",
              "    .dataframe thead th {\n",
              "        text-align: right;\n",
              "    }\n",
              "</style>\n",
              "<table border=\"1\" class=\"dataframe\">\n",
              "  <thead>\n",
              "    <tr style=\"text-align: right;\">\n",
              "      <th></th>\n",
              "      <th>id</th>\n",
              "      <th>text</th>\n",
              "      <th>aspect</th>\n",
              "      <th>sentiment</th>\n",
              "      <th>label_aspect</th>\n",
              "    </tr>\n",
              "  </thead>\n",
              "  <tbody>\n",
              "    <tr>\n",
              "      <th>0</th>\n",
              "      <td>153</td>\n",
              "      <td>LOCATION1 is in Greater London  and is a very ...</td>\n",
              "      <td>safety</td>\n",
              "      <td>2</td>\n",
              "      <td>8</td>\n",
              "    </tr>\n",
              "    <tr>\n",
              "      <th>1</th>\n",
              "      <td>1130</td>\n",
              "      <td>All the neighborhoods around LOCATION1 are ver...</td>\n",
              "      <td>general</td>\n",
              "      <td>2</td>\n",
              "      <td>1</td>\n",
              "    </tr>\n",
              "    <tr>\n",
              "      <th>2</th>\n",
              "      <td>1271</td>\n",
              "      <td>Cheap is LOCATION2, LOCATION1, but not really ...</td>\n",
              "      <td>general</td>\n",
              "      <td>1</td>\n",
              "      <td>1</td>\n",
              "    </tr>\n",
              "    <tr>\n",
              "      <th>3</th>\n",
              "      <td>1089</td>\n",
              "      <td>Dont Try LOCATION1</td>\n",
              "      <td>general</td>\n",
              "      <td>1</td>\n",
              "      <td>1</td>\n",
              "    </tr>\n",
              "    <tr>\n",
              "      <th>4</th>\n",
              "      <td>731</td>\n",
              "      <td>Find the website for 'Museum in LOCATION1' (pa...</td>\n",
              "      <td>general</td>\n",
              "      <td>0</td>\n",
              "      <td>1</td>\n",
              "    </tr>\n",
              "  </tbody>\n",
              "</table>\n",
              "</div>"
            ],
            "text/plain": [
              "     id  ... label_aspect\n",
              "0   153  ...            8\n",
              "1  1130  ...            1\n",
              "2  1271  ...            1\n",
              "3  1089  ...            1\n",
              "4   731  ...            1\n",
              "\n",
              "[5 rows x 5 columns]"
            ]
          },
          "metadata": {
            "tags": []
          },
          "execution_count": 13
        }
      ]
    },
    {
      "cell_type": "code",
      "metadata": {
        "colab": {
          "base_uri": "https://localhost:8080/"
        },
        "id": "_a9QjuwZxLtV",
        "outputId": "2127f4ec-e70f-4d5b-d7af-510b992d6a1a"
      },
      "source": [
        "pd.set_option('display.max_rows', None)\n",
        "pd.set_option('display.max_columns', None)\n",
        "pd.set_option('display.width', None)\n",
        "pd.set_option('display.max_colwidth', -1)"
      ],
      "execution_count": null,
      "outputs": [
        {
          "output_type": "stream",
          "text": [
            "/usr/local/lib/python3.7/dist-packages/ipykernel_launcher.py:4: FutureWarning: Passing a negative integer is deprecated in version 1.0 and will not be supported in future version. Instead, use None to not limit the column width.\n",
            "  after removing the cwd from sys.path.\n"
          ],
          "name": "stderr"
        }
      ]
    },
    {
      "cell_type": "code",
      "metadata": {
        "id": "Gha5MvkwvhR5"
      },
      "source": [
        "df['combined']=df['text']+\" [SEP] \"+df['aspect']"
      ],
      "execution_count": null,
      "outputs": []
    },
    {
      "cell_type": "code",
      "metadata": {
        "id": "kPwYfoZxxTdu"
      },
      "source": [
        "df_valid['combined']=df_valid['text']+\" [SEP] \"+df_valid['aspect']"
      ],
      "execution_count": null,
      "outputs": []
    },
    {
      "cell_type": "code",
      "metadata": {
        "id": "7ClBexi2xaKn"
      },
      "source": [
        "df_test['combined']=df_test['text']+\" [SEP] \"+df_test['aspect']"
      ],
      "execution_count": null,
      "outputs": []
    },
    {
      "cell_type": "code",
      "metadata": {
        "id": "5U8CXFD0xitY"
      },
      "source": [
        " "
      ],
      "execution_count": null,
      "outputs": []
    },
    {
      "cell_type": "code",
      "metadata": {
        "colab": {
          "base_uri": "https://localhost:8080/"
        },
        "id": "9w0GokVQwAv6",
        "outputId": "4bee16f8-69f1-4580-f3b1-814792649485"
      },
      "source": [
        "print(df['combined'].head(5))"
      ],
      "execution_count": null,
      "outputs": [
        {
          "output_type": "stream",
          "text": [
            "0    LOCATION1 is transforming and the prices will go up and up [SEP] price                                                            \n",
            "1    Along LOCATION1 there are lots of Electronics shops (independent ones) [SEP] shopping                                             \n",
            "2    And LOCATION1 is ten mins direct on the tube to LOCATION2: [SEP] transit-location                                                 \n",
            "3    Another option is LOCATION1 which is very central and has tons of clubs/bars within walking distance of each other [SEP] nightlife\n",
            "4    Best bet is around LOCATION2 and LOCATION1 area in the northwest corner really nice [SEP] general                                 \n",
            "Name: combined, dtype: object\n"
          ],
          "name": "stdout"
        }
      ]
    },
    {
      "cell_type": "markdown",
      "metadata": {
        "id": "ig7egwW-9NYF"
      },
      "source": [
        "## Model Buidling"
      ]
    },
    {
      "cell_type": "markdown",
      "metadata": {
        "id": "JQsvz6eA9WA5"
      },
      "source": [
        "### i. Aspect [SEP] Text"
      ]
    },
    {
      "cell_type": "code",
      "metadata": {
        "id": "m-Q-kTS8vVGx",
        "colab": {
          "base_uri": "https://localhost:8080/"
        },
        "outputId": "8cc12adc-c8c9-4204-b57c-5843104aff38"
      },
      "source": [
        " # importing transformers\n",
        " !pip install transformers"
      ],
      "execution_count": null,
      "outputs": [
        {
          "output_type": "stream",
          "text": [
            "Collecting transformers\n",
            "\u001b[?25l  Downloading https://files.pythonhosted.org/packages/fd/1a/41c644c963249fd7f3836d926afa1e3f1cc234a1c40d80c5f03ad8f6f1b2/transformers-4.8.2-py3-none-any.whl (2.5MB)\n",
            "\r\u001b[K     |▏                               | 10kB 20.1MB/s eta 0:00:01\r\u001b[K     |▎                               | 20kB 25.3MB/s eta 0:00:01\r\u001b[K     |▍                               | 30kB 27.9MB/s eta 0:00:01\r\u001b[K     |▌                               | 40kB 26.6MB/s eta 0:00:01\r\u001b[K     |▋                               | 51kB 26.9MB/s eta 0:00:01\r\u001b[K     |▉                               | 61kB 28.1MB/s eta 0:00:01\r\u001b[K     |█                               | 71kB 28.3MB/s eta 0:00:01\r\u001b[K     |█                               | 81kB 27.6MB/s eta 0:00:01\r\u001b[K     |█▏                              | 92kB 27.5MB/s eta 0:00:01\r\u001b[K     |█▎                              | 102kB 27.7MB/s eta 0:00:01\r\u001b[K     |█▍                              | 112kB 27.7MB/s eta 0:00:01\r\u001b[K     |█▋                              | 122kB 27.7MB/s eta 0:00:01\r\u001b[K     |█▊                              | 133kB 27.7MB/s eta 0:00:01\r\u001b[K     |█▉                              | 143kB 27.7MB/s eta 0:00:01\r\u001b[K     |██                              | 153kB 27.7MB/s eta 0:00:01\r\u001b[K     |██                              | 163kB 27.7MB/s eta 0:00:01\r\u001b[K     |██▎                             | 174kB 27.7MB/s eta 0:00:01\r\u001b[K     |██▍                             | 184kB 27.7MB/s eta 0:00:01\r\u001b[K     |██▌                             | 194kB 27.7MB/s eta 0:00:01\r\u001b[K     |██▋                             | 204kB 27.7MB/s eta 0:00:01\r\u001b[K     |██▊                             | 215kB 27.7MB/s eta 0:00:01\r\u001b[K     |██▉                             | 225kB 27.7MB/s eta 0:00:01\r\u001b[K     |███                             | 235kB 27.7MB/s eta 0:00:01\r\u001b[K     |███▏                            | 245kB 27.7MB/s eta 0:00:01\r\u001b[K     |███▎                            | 256kB 27.7MB/s eta 0:00:01\r\u001b[K     |███▍                            | 266kB 27.7MB/s eta 0:00:01\r\u001b[K     |███▌                            | 276kB 27.7MB/s eta 0:00:01\r\u001b[K     |███▊                            | 286kB 27.7MB/s eta 0:00:01\r\u001b[K     |███▉                            | 296kB 27.7MB/s eta 0:00:01\r\u001b[K     |████                            | 307kB 27.7MB/s eta 0:00:01\r\u001b[K     |████                            | 317kB 27.7MB/s eta 0:00:01\r\u001b[K     |████▏                           | 327kB 27.7MB/s eta 0:00:01\r\u001b[K     |████▎                           | 337kB 27.7MB/s eta 0:00:01\r\u001b[K     |████▌                           | 348kB 27.7MB/s eta 0:00:01\r\u001b[K     |████▋                           | 358kB 27.7MB/s eta 0:00:01\r\u001b[K     |████▊                           | 368kB 27.7MB/s eta 0:00:01\r\u001b[K     |████▉                           | 378kB 27.7MB/s eta 0:00:01\r\u001b[K     |█████                           | 389kB 27.7MB/s eta 0:00:01\r\u001b[K     |█████▏                          | 399kB 27.7MB/s eta 0:00:01\r\u001b[K     |█████▎                          | 409kB 27.7MB/s eta 0:00:01\r\u001b[K     |█████▍                          | 419kB 27.7MB/s eta 0:00:01\r\u001b[K     |█████▌                          | 430kB 27.7MB/s eta 0:00:01\r\u001b[K     |█████▋                          | 440kB 27.7MB/s eta 0:00:01\r\u001b[K     |█████▊                          | 450kB 27.7MB/s eta 0:00:01\r\u001b[K     |██████                          | 460kB 27.7MB/s eta 0:00:01\r\u001b[K     |██████                          | 471kB 27.7MB/s eta 0:00:01\r\u001b[K     |██████▏                         | 481kB 27.7MB/s eta 0:00:01\r\u001b[K     |██████▎                         | 491kB 27.7MB/s eta 0:00:01\r\u001b[K     |██████▍                         | 501kB 27.7MB/s eta 0:00:01\r\u001b[K     |██████▌                         | 512kB 27.7MB/s eta 0:00:01\r\u001b[K     |██████▊                         | 522kB 27.7MB/s eta 0:00:01\r\u001b[K     |██████▉                         | 532kB 27.7MB/s eta 0:00:01\r\u001b[K     |███████                         | 542kB 27.7MB/s eta 0:00:01\r\u001b[K     |███████                         | 552kB 27.7MB/s eta 0:00:01\r\u001b[K     |███████▏                        | 563kB 27.7MB/s eta 0:00:01\r\u001b[K     |███████▍                        | 573kB 27.7MB/s eta 0:00:01\r\u001b[K     |███████▌                        | 583kB 27.7MB/s eta 0:00:01\r\u001b[K     |███████▋                        | 593kB 27.7MB/s eta 0:00:01\r\u001b[K     |███████▊                        | 604kB 27.7MB/s eta 0:00:01\r\u001b[K     |███████▉                        | 614kB 27.7MB/s eta 0:00:01\r\u001b[K     |████████                        | 624kB 27.7MB/s eta 0:00:01\r\u001b[K     |████████▏                       | 634kB 27.7MB/s eta 0:00:01\r\u001b[K     |████████▎                       | 645kB 27.7MB/s eta 0:00:01\r\u001b[K     |████████▍                       | 655kB 27.7MB/s eta 0:00:01\r\u001b[K     |████████▌                       | 665kB 27.7MB/s eta 0:00:01\r\u001b[K     |████████▋                       | 675kB 27.7MB/s eta 0:00:01\r\u001b[K     |████████▉                       | 686kB 27.7MB/s eta 0:00:01\r\u001b[K     |█████████                       | 696kB 27.7MB/s eta 0:00:01\r\u001b[K     |█████████                       | 706kB 27.7MB/s eta 0:00:01\r\u001b[K     |█████████▏                      | 716kB 27.7MB/s eta 0:00:01\r\u001b[K     |█████████▎                      | 727kB 27.7MB/s eta 0:00:01\r\u001b[K     |█████████▍                      | 737kB 27.7MB/s eta 0:00:01\r\u001b[K     |█████████▋                      | 747kB 27.7MB/s eta 0:00:01\r\u001b[K     |█████████▊                      | 757kB 27.7MB/s eta 0:00:01\r\u001b[K     |█████████▉                      | 768kB 27.7MB/s eta 0:00:01\r\u001b[K     |██████████                      | 778kB 27.7MB/s eta 0:00:01\r\u001b[K     |██████████                      | 788kB 27.7MB/s eta 0:00:01\r\u001b[K     |██████████▎                     | 798kB 27.7MB/s eta 0:00:01\r\u001b[K     |██████████▍                     | 808kB 27.7MB/s eta 0:00:01\r\u001b[K     |██████████▌                     | 819kB 27.7MB/s eta 0:00:01\r\u001b[K     |██████████▋                     | 829kB 27.7MB/s eta 0:00:01\r\u001b[K     |██████████▊                     | 839kB 27.7MB/s eta 0:00:01\r\u001b[K     |██████████▉                     | 849kB 27.7MB/s eta 0:00:01\r\u001b[K     |███████████                     | 860kB 27.7MB/s eta 0:00:01\r\u001b[K     |███████████▏                    | 870kB 27.7MB/s eta 0:00:01\r\u001b[K     |███████████▎                    | 880kB 27.7MB/s eta 0:00:01\r\u001b[K     |███████████▍                    | 890kB 27.7MB/s eta 0:00:01\r\u001b[K     |███████████▌                    | 901kB 27.7MB/s eta 0:00:01\r\u001b[K     |███████████▊                    | 911kB 27.7MB/s eta 0:00:01\r\u001b[K     |███████████▉                    | 921kB 27.7MB/s eta 0:00:01\r\u001b[K     |████████████                    | 931kB 27.7MB/s eta 0:00:01\r\u001b[K     |████████████                    | 942kB 27.7MB/s eta 0:00:01\r\u001b[K     |████████████▏                   | 952kB 27.7MB/s eta 0:00:01\r\u001b[K     |████████████▎                   | 962kB 27.7MB/s eta 0:00:01\r\u001b[K     |████████████▌                   | 972kB 27.7MB/s eta 0:00:01\r\u001b[K     |████████████▋                   | 983kB 27.7MB/s eta 0:00:01\r\u001b[K     |████████████▊                   | 993kB 27.7MB/s eta 0:00:01\r\u001b[K     |████████████▉                   | 1.0MB 27.7MB/s eta 0:00:01\r\u001b[K     |█████████████                   | 1.0MB 27.7MB/s eta 0:00:01\r\u001b[K     |█████████████                   | 1.0MB 27.7MB/s eta 0:00:01\r\u001b[K     |█████████████▎                  | 1.0MB 27.7MB/s eta 0:00:01\r\u001b[K     |█████████████▍                  | 1.0MB 27.7MB/s eta 0:00:01\r\u001b[K     |█████████████▌                  | 1.1MB 27.7MB/s eta 0:00:01\r\u001b[K     |█████████████▋                  | 1.1MB 27.7MB/s eta 0:00:01\r\u001b[K     |█████████████▊                  | 1.1MB 27.7MB/s eta 0:00:01\r\u001b[K     |██████████████                  | 1.1MB 27.7MB/s eta 0:00:01\r\u001b[K     |██████████████                  | 1.1MB 27.7MB/s eta 0:00:01\r\u001b[K     |██████████████▏                 | 1.1MB 27.7MB/s eta 0:00:01\r\u001b[K     |██████████████▎                 | 1.1MB 27.7MB/s eta 0:00:01\r\u001b[K     |██████████████▍                 | 1.1MB 27.7MB/s eta 0:00:01\r\u001b[K     |██████████████▌                 | 1.1MB 27.7MB/s eta 0:00:01\r\u001b[K     |██████████████▊                 | 1.1MB 27.7MB/s eta 0:00:01\r\u001b[K     |██████████████▉                 | 1.2MB 27.7MB/s eta 0:00:01\r\u001b[K     |███████████████                 | 1.2MB 27.7MB/s eta 0:00:01\r\u001b[K     |███████████████                 | 1.2MB 27.7MB/s eta 0:00:01\r\u001b[K     |███████████████▏                | 1.2MB 27.7MB/s eta 0:00:01\r\u001b[K     |███████████████▍                | 1.2MB 27.7MB/s eta 0:00:01\r\u001b[K     |███████████████▌                | 1.2MB 27.7MB/s eta 0:00:01\r\u001b[K     |███████████████▋                | 1.2MB 27.7MB/s eta 0:00:01\r\u001b[K     |███████████████▊                | 1.2MB 27.7MB/s eta 0:00:01\r\u001b[K     |███████████████▉                | 1.2MB 27.7MB/s eta 0:00:01\r\u001b[K     |████████████████                | 1.2MB 27.7MB/s eta 0:00:01\r\u001b[K     |████████████████▏               | 1.3MB 27.7MB/s eta 0:00:01\r\u001b[K     |████████████████▎               | 1.3MB 27.7MB/s eta 0:00:01\r\u001b[K     |████████████████▍               | 1.3MB 27.7MB/s eta 0:00:01\r\u001b[K     |████████████████▌               | 1.3MB 27.7MB/s eta 0:00:01\r\u001b[K     |████████████████▋               | 1.3MB 27.7MB/s eta 0:00:01\r\u001b[K     |████████████████▉               | 1.3MB 27.7MB/s eta 0:00:01\r\u001b[K     |█████████████████               | 1.3MB 27.7MB/s eta 0:00:01\r\u001b[K     |█████████████████               | 1.3MB 27.7MB/s eta 0:00:01\r\u001b[K     |█████████████████▏              | 1.3MB 27.7MB/s eta 0:00:01\r\u001b[K     |█████████████████▎              | 1.4MB 27.7MB/s eta 0:00:01\r\u001b[K     |█████████████████▍              | 1.4MB 27.7MB/s eta 0:00:01\r\u001b[K     |█████████████████▋              | 1.4MB 27.7MB/s eta 0:00:01\r\u001b[K     |█████████████████▊              | 1.4MB 27.7MB/s eta 0:00:01\r\u001b[K     |█████████████████▉              | 1.4MB 27.7MB/s eta 0:00:01\r\u001b[K     |██████████████████              | 1.4MB 27.7MB/s eta 0:00:01\r\u001b[K     |██████████████████              | 1.4MB 27.7MB/s eta 0:00:01\r\u001b[K     |██████████████████▎             | 1.4MB 27.7MB/s eta 0:00:01\r\u001b[K     |██████████████████▍             | 1.4MB 27.7MB/s eta 0:00:01\r\u001b[K     |██████████████████▌             | 1.4MB 27.7MB/s eta 0:00:01\r\u001b[K     |██████████████████▋             | 1.5MB 27.7MB/s eta 0:00:01\r\u001b[K     |██████████████████▊             | 1.5MB 27.7MB/s eta 0:00:01\r\u001b[K     |██████████████████▉             | 1.5MB 27.7MB/s eta 0:00:01\r\u001b[K     |███████████████████             | 1.5MB 27.7MB/s eta 0:00:01\r\u001b[K     |███████████████████▏            | 1.5MB 27.7MB/s eta 0:00:01\r\u001b[K     |███████████████████▎            | 1.5MB 27.7MB/s eta 0:00:01\r\u001b[K     |███████████████████▍            | 1.5MB 27.7MB/s eta 0:00:01\r\u001b[K     |███████████████████▌            | 1.5MB 27.7MB/s eta 0:00:01\r\u001b[K     |███████████████████▋            | 1.5MB 27.7MB/s eta 0:00:01\r\u001b[K     |███████████████████▉            | 1.5MB 27.7MB/s eta 0:00:01\r\u001b[K     |████████████████████            | 1.6MB 27.7MB/s eta 0:00:01\r\u001b[K     |████████████████████            | 1.6MB 27.7MB/s eta 0:00:01\r\u001b[K     |████████████████████▏           | 1.6MB 27.7MB/s eta 0:00:01\r\u001b[K     |████████████████████▎           | 1.6MB 27.7MB/s eta 0:00:01\r\u001b[K     |████████████████████▌           | 1.6MB 27.7MB/s eta 0:00:01\r\u001b[K     |████████████████████▋           | 1.6MB 27.7MB/s eta 0:00:01\r\u001b[K     |████████████████████▊           | 1.6MB 27.7MB/s eta 0:00:01\r\u001b[K     |████████████████████▉           | 1.6MB 27.7MB/s eta 0:00:01\r\u001b[K     |█████████████████████           | 1.6MB 27.7MB/s eta 0:00:01\r\u001b[K     |█████████████████████           | 1.6MB 27.7MB/s eta 0:00:01\r\u001b[K     |█████████████████████▎          | 1.7MB 27.7MB/s eta 0:00:01\r\u001b[K     |█████████████████████▍          | 1.7MB 27.7MB/s eta 0:00:01\r\u001b[K     |█████████████████████▌          | 1.7MB 27.7MB/s eta 0:00:01\r\u001b[K     |█████████████████████▋          | 1.7MB 27.7MB/s eta 0:00:01\r\u001b[K     |█████████████████████▊          | 1.7MB 27.7MB/s eta 0:00:01\r\u001b[K     |██████████████████████          | 1.7MB 27.7MB/s eta 0:00:01\r\u001b[K     |██████████████████████          | 1.7MB 27.7MB/s eta 0:00:01\r\u001b[K     |██████████████████████▏         | 1.7MB 27.7MB/s eta 0:00:01\r\u001b[K     |██████████████████████▎         | 1.7MB 27.7MB/s eta 0:00:01\r\u001b[K     |██████████████████████▍         | 1.8MB 27.7MB/s eta 0:00:01\r\u001b[K     |██████████████████████▌         | 1.8MB 27.7MB/s eta 0:00:01\r\u001b[K     |██████████████████████▊         | 1.8MB 27.7MB/s eta 0:00:01\r\u001b[K     |██████████████████████▉         | 1.8MB 27.7MB/s eta 0:00:01\r\u001b[K     |███████████████████████         | 1.8MB 27.7MB/s eta 0:00:01\r\u001b[K     |███████████████████████         | 1.8MB 27.7MB/s eta 0:00:01\r\u001b[K     |███████████████████████▏        | 1.8MB 27.7MB/s eta 0:00:01\r\u001b[K     |███████████████████████▍        | 1.8MB 27.7MB/s eta 0:00:01\r\u001b[K     |███████████████████████▌        | 1.8MB 27.7MB/s eta 0:00:01\r\u001b[K     |███████████████████████▋        | 1.8MB 27.7MB/s eta 0:00:01\r\u001b[K     |███████████████████████▊        | 1.9MB 27.7MB/s eta 0:00:01\r\u001b[K     |███████████████████████▉        | 1.9MB 27.7MB/s eta 0:00:01\r\u001b[K     |████████████████████████        | 1.9MB 27.7MB/s eta 0:00:01\r\u001b[K     |████████████████████████▏       | 1.9MB 27.7MB/s eta 0:00:01\r\u001b[K     |████████████████████████▎       | 1.9MB 27.7MB/s eta 0:00:01\r\u001b[K     |████████████████████████▍       | 1.9MB 27.7MB/s eta 0:00:01\r\u001b[K     |████████████████████████▌       | 1.9MB 27.7MB/s eta 0:00:01\r\u001b[K     |████████████████████████▋       | 1.9MB 27.7MB/s eta 0:00:01\r\u001b[K     |████████████████████████▉       | 1.9MB 27.7MB/s eta 0:00:01\r\u001b[K     |█████████████████████████       | 1.9MB 27.7MB/s eta 0:00:01\r\u001b[K     |█████████████████████████       | 2.0MB 27.7MB/s eta 0:00:01\r\u001b[K     |█████████████████████████▏      | 2.0MB 27.7MB/s eta 0:00:01\r\u001b[K     |█████████████████████████▎      | 2.0MB 27.7MB/s eta 0:00:01\r\u001b[K     |█████████████████████████▍      | 2.0MB 27.7MB/s eta 0:00:01\r\u001b[K     |█████████████████████████▋      | 2.0MB 27.7MB/s eta 0:00:01\r\u001b[K     |█████████████████████████▊      | 2.0MB 27.7MB/s eta 0:00:01\r\u001b[K     |█████████████████████████▉      | 2.0MB 27.7MB/s eta 0:00:01\r\u001b[K     |██████████████████████████      | 2.0MB 27.7MB/s eta 0:00:01\r\u001b[K     |██████████████████████████      | 2.0MB 27.7MB/s eta 0:00:01\r\u001b[K     |██████████████████████████▏     | 2.0MB 27.7MB/s eta 0:00:01\r\u001b[K     |██████████████████████████▍     | 2.1MB 27.7MB/s eta 0:00:01\r\u001b[K     |██████████████████████████▌     | 2.1MB 27.7MB/s eta 0:00:01\r\u001b[K     |██████████████████████████▋     | 2.1MB 27.7MB/s eta 0:00:01\r\u001b[K     |██████████████████████████▊     | 2.1MB 27.7MB/s eta 0:00:01\r\u001b[K     |██████████████████████████▉     | 2.1MB 27.7MB/s eta 0:00:01\r\u001b[K     |███████████████████████████     | 2.1MB 27.7MB/s eta 0:00:01\r\u001b[K     |███████████████████████████▏    | 2.1MB 27.7MB/s eta 0:00:01\r\u001b[K     |███████████████████████████▎    | 2.1MB 27.7MB/s eta 0:00:01\r\u001b[K     |███████████████████████████▍    | 2.1MB 27.7MB/s eta 0:00:01\r\u001b[K     |███████████████████████████▌    | 2.2MB 27.7MB/s eta 0:00:01\r\u001b[K     |███████████████████████████▋    | 2.2MB 27.7MB/s eta 0:00:01\r\u001b[K     |███████████████████████████▉    | 2.2MB 27.7MB/s eta 0:00:01\r\u001b[K     |████████████████████████████    | 2.2MB 27.7MB/s eta 0:00:01\r\u001b[K     |████████████████████████████    | 2.2MB 27.7MB/s eta 0:00:01\r\u001b[K     |████████████████████████████▏   | 2.2MB 27.7MB/s eta 0:00:01\r\u001b[K     |████████████████████████████▎   | 2.2MB 27.7MB/s eta 0:00:01\r\u001b[K     |████████████████████████████▌   | 2.2MB 27.7MB/s eta 0:00:01\r\u001b[K     |████████████████████████████▋   | 2.2MB 27.7MB/s eta 0:00:01\r\u001b[K     |████████████████████████████▊   | 2.2MB 27.7MB/s eta 0:00:01\r\u001b[K     |████████████████████████████▉   | 2.3MB 27.7MB/s eta 0:00:01\r\u001b[K     |█████████████████████████████   | 2.3MB 27.7MB/s eta 0:00:01\r\u001b[K     |█████████████████████████████   | 2.3MB 27.7MB/s eta 0:00:01\r\u001b[K     |█████████████████████████████▎  | 2.3MB 27.7MB/s eta 0:00:01\r\u001b[K     |█████████████████████████████▍  | 2.3MB 27.7MB/s eta 0:00:01\r\u001b[K     |█████████████████████████████▌  | 2.3MB 27.7MB/s eta 0:00:01\r\u001b[K     |█████████████████████████████▋  | 2.3MB 27.7MB/s eta 0:00:01\r\u001b[K     |█████████████████████████████▊  | 2.3MB 27.7MB/s eta 0:00:01\r\u001b[K     |██████████████████████████████  | 2.3MB 27.7MB/s eta 0:00:01\r\u001b[K     |██████████████████████████████  | 2.3MB 27.7MB/s eta 0:00:01\r\u001b[K     |██████████████████████████████▏ | 2.4MB 27.7MB/s eta 0:00:01\r\u001b[K     |██████████████████████████████▎ | 2.4MB 27.7MB/s eta 0:00:01\r\u001b[K     |██████████████████████████████▍ | 2.4MB 27.7MB/s eta 0:00:01\r\u001b[K     |██████████████████████████████▌ | 2.4MB 27.7MB/s eta 0:00:01\r\u001b[K     |██████████████████████████████▊ | 2.4MB 27.7MB/s eta 0:00:01\r\u001b[K     |██████████████████████████████▉ | 2.4MB 27.7MB/s eta 0:00:01\r\u001b[K     |███████████████████████████████ | 2.4MB 27.7MB/s eta 0:00:01\r\u001b[K     |███████████████████████████████ | 2.4MB 27.7MB/s eta 0:00:01\r\u001b[K     |███████████████████████████████▏| 2.4MB 27.7MB/s eta 0:00:01\r\u001b[K     |███████████████████████████████▍| 2.4MB 27.7MB/s eta 0:00:01\r\u001b[K     |███████████████████████████████▌| 2.5MB 27.7MB/s eta 0:00:01\r\u001b[K     |███████████████████████████████▋| 2.5MB 27.7MB/s eta 0:00:01\r\u001b[K     |███████████████████████████████▊| 2.5MB 27.7MB/s eta 0:00:01\r\u001b[K     |███████████████████████████████▉| 2.5MB 27.7MB/s eta 0:00:01\r\u001b[K     |████████████████████████████████| 2.5MB 27.7MB/s eta 0:00:01\r\u001b[K     |████████████████████████████████| 2.5MB 27.7MB/s \n",
            "\u001b[?25hRequirement already satisfied: filelock in /usr/local/lib/python3.7/dist-packages (from transformers) (3.0.12)\n",
            "Collecting tokenizers<0.11,>=0.10.1\n",
            "\u001b[?25l  Downloading https://files.pythonhosted.org/packages/d4/e2/df3543e8ffdab68f5acc73f613de9c2b155ac47f162e725dcac87c521c11/tokenizers-0.10.3-cp37-cp37m-manylinux_2_5_x86_64.manylinux1_x86_64.manylinux_2_12_x86_64.manylinux2010_x86_64.whl (3.3MB)\n",
            "\u001b[K     |████████████████████████████████| 3.3MB 29.1MB/s \n",
            "\u001b[?25hRequirement already satisfied: pyyaml in /usr/local/lib/python3.7/dist-packages (from transformers) (3.13)\n",
            "Requirement already satisfied: requests in /usr/local/lib/python3.7/dist-packages (from transformers) (2.23.0)\n",
            "Collecting sacremoses\n",
            "\u001b[?25l  Downloading https://files.pythonhosted.org/packages/75/ee/67241dc87f266093c533a2d4d3d69438e57d7a90abb216fa076e7d475d4a/sacremoses-0.0.45-py3-none-any.whl (895kB)\n",
            "\u001b[K     |████████████████████████████████| 901kB 45.1MB/s \n",
            "\u001b[?25hRequirement already satisfied: numpy>=1.17 in /usr/local/lib/python3.7/dist-packages (from transformers) (1.19.5)\n",
            "Requirement already satisfied: importlib-metadata; python_version < \"3.8\" in /usr/local/lib/python3.7/dist-packages (from transformers) (4.6.1)\n",
            "Collecting huggingface-hub==0.0.12\n",
            "  Downloading https://files.pythonhosted.org/packages/2f/ee/97e253668fda9b17e968b3f97b2f8e53aa0127e8807d24a547687423fe0b/huggingface_hub-0.0.12-py3-none-any.whl\n",
            "Requirement already satisfied: packaging in /usr/local/lib/python3.7/dist-packages (from transformers) (21.0)\n",
            "Requirement already satisfied: regex!=2019.12.17 in /usr/local/lib/python3.7/dist-packages (from transformers) (2019.12.20)\n",
            "Requirement already satisfied: tqdm>=4.27 in /usr/local/lib/python3.7/dist-packages (from transformers) (4.41.1)\n",
            "Requirement already satisfied: urllib3!=1.25.0,!=1.25.1,<1.26,>=1.21.1 in /usr/local/lib/python3.7/dist-packages (from requests->transformers) (1.24.3)\n",
            "Requirement already satisfied: certifi>=2017.4.17 in /usr/local/lib/python3.7/dist-packages (from requests->transformers) (2021.5.30)\n",
            "Requirement already satisfied: chardet<4,>=3.0.2 in /usr/local/lib/python3.7/dist-packages (from requests->transformers) (3.0.4)\n",
            "Requirement already satisfied: idna<3,>=2.5 in /usr/local/lib/python3.7/dist-packages (from requests->transformers) (2.10)\n",
            "Requirement already satisfied: six in /usr/local/lib/python3.7/dist-packages (from sacremoses->transformers) (1.15.0)\n",
            "Requirement already satisfied: click in /usr/local/lib/python3.7/dist-packages (from sacremoses->transformers) (7.1.2)\n",
            "Requirement already satisfied: joblib in /usr/local/lib/python3.7/dist-packages (from sacremoses->transformers) (1.0.1)\n",
            "Requirement already satisfied: zipp>=0.5 in /usr/local/lib/python3.7/dist-packages (from importlib-metadata; python_version < \"3.8\"->transformers) (3.5.0)\n",
            "Requirement already satisfied: typing-extensions>=3.6.4; python_version < \"3.8\" in /usr/local/lib/python3.7/dist-packages (from importlib-metadata; python_version < \"3.8\"->transformers) (3.7.4.3)\n",
            "Requirement already satisfied: pyparsing>=2.0.2 in /usr/local/lib/python3.7/dist-packages (from packaging->transformers) (2.4.7)\n",
            "Installing collected packages: tokenizers, sacremoses, huggingface-hub, transformers\n",
            "Successfully installed huggingface-hub-0.0.12 sacremoses-0.0.45 tokenizers-0.10.3 transformers-4.8.2\n"
          ],
          "name": "stdout"
        }
      ]
    },
    {
      "cell_type": "code",
      "metadata": {
        "id": "Y5TtXXTZvbhI",
        "colab": {
          "base_uri": "https://localhost:8080/",
          "height": 165,
          "referenced_widgets": [
            "10da34b3a344458984add1cd6e44aecf",
            "5b3710e7bc6745359167df94a993189c",
            "81281fced95f4cdfa3a3eb19508b98e6",
            "783a491fa84b4b668f79bef6398d9a20",
            "81bee995bf764fc6a07a9de0d50aac1b",
            "8192b7f12aca4b7a84a700ea3fc81228",
            "0c5fab4ef8594477bc00c954b9e5e3d1",
            "7642dfe72bee4f1f9cd81f720a88a764",
            "943b1a6946944c68aa38698fe15b6f65",
            "9f888b86ceee487aa37f0e41830aaea2",
            "9158cb6038b141779ac4e75341f5ce32",
            "0b69c4d35179456b9b06486f2dd9f683",
            "eda00af7cf9144789d0b288ad6b24037",
            "0605e5ea356e4526bc76e52332584f67",
            "eef44309abe74f9589ff9c56137a39d3",
            "c6064cb794284a1d89d5a0b1b6210994",
            "6b8e6cfbc3fd40e68b0fd780b56200c2",
            "9478dc7e21e54945ae2729fb684a3817",
            "7e2198468be0450797f8b86becfbd2e5",
            "abbf6a4e33ac4dcf944a51ca68e04101",
            "28ec9d3318b341ea986d1cdb44dadde1",
            "38fb34faaaaf4cfab0e7fbcfb06c8810",
            "a4adaad23e754048b26a4d5f1fb79b4c",
            "50d0687686114c80a3225a671dbe9e96"
          ]
        },
        "outputId": "c6285af1-0d20-467a-d0a7-5a8c20b4b3f9"
      },
      "source": [
        "## pretrained model \n",
        "from transformers import DistilBertTokenizerFast\n",
        "tokenizer = DistilBertTokenizerFast.from_pretrained('distilbert-base-uncased')"
      ],
      "execution_count": null,
      "outputs": [
        {
          "output_type": "display_data",
          "data": {
            "application/vnd.jupyter.widget-view+json": {
              "model_id": "10da34b3a344458984add1cd6e44aecf",
              "version_minor": 0,
              "version_major": 2
            },
            "text/plain": [
              "HBox(children=(FloatProgress(value=0.0, description='Downloading', max=231508.0, style=ProgressStyle(descripti…"
            ]
          },
          "metadata": {
            "tags": []
          }
        },
        {
          "output_type": "stream",
          "text": [
            "\n"
          ],
          "name": "stdout"
        },
        {
          "output_type": "display_data",
          "data": {
            "application/vnd.jupyter.widget-view+json": {
              "model_id": "943b1a6946944c68aa38698fe15b6f65",
              "version_minor": 0,
              "version_major": 2
            },
            "text/plain": [
              "HBox(children=(FloatProgress(value=0.0, description='Downloading', max=466062.0, style=ProgressStyle(descripti…"
            ]
          },
          "metadata": {
            "tags": []
          }
        },
        {
          "output_type": "stream",
          "text": [
            "\n"
          ],
          "name": "stdout"
        },
        {
          "output_type": "display_data",
          "data": {
            "application/vnd.jupyter.widget-view+json": {
              "model_id": "6b8e6cfbc3fd40e68b0fd780b56200c2",
              "version_minor": 0,
              "version_major": 2
            },
            "text/plain": [
              "HBox(children=(FloatProgress(value=0.0, description='Downloading', max=28.0, style=ProgressStyle(description_w…"
            ]
          },
          "metadata": {
            "tags": []
          }
        },
        {
          "output_type": "stream",
          "text": [
            "\n"
          ],
          "name": "stdout"
        }
      ]
    },
    {
      "cell_type": "code",
      "metadata": {
        "id": "2KSa03lBveko"
      },
      "source": [
        "# Tokenize train, validation and test data\n",
        "train_encoding= tokenizer(df['combined'].tolist(), padding=\"max_length\",max_length=128, truncation=True)\n",
        "valid_encoding= tokenizer(df_valid['combined'].tolist(), padding=\"max_length\",max_length=128, truncation=True)\n",
        "test_encoding= tokenizer(df_test['combined'].tolist(), padding=\"max_length\",max_length=128, truncation=True)"
      ],
      "execution_count": null,
      "outputs": []
    },
    {
      "cell_type": "code",
      "metadata": {
        "colab": {
          "base_uri": "https://localhost:8080/",
          "height": 35
        },
        "id": "wW2DvKlv0kAy",
        "outputId": "306c1bb4-1039-4c78-8083-c81dc2c7c7a9"
      },
      "source": [
        "df['combined'][0]"
      ],
      "execution_count": null,
      "outputs": [
        {
          "output_type": "execute_result",
          "data": {
            "application/vnd.google.colaboratory.intrinsic+json": {
              "type": "string"
            },
            "text/plain": [
              "'LOCATION1 is transforming and the prices will go up and up [SEP] price'"
            ]
          },
          "metadata": {
            "tags": []
          },
          "execution_count": 22
        }
      ]
    },
    {
      "cell_type": "code",
      "metadata": {
        "id": "9W54syh30ukz"
      },
      "source": [
        "## TensorFlow\n",
        "import tensorflow as tf\n",
        "\n",
        "# Tokens to tensor slices\n",
        "train_dataset = tf.data.Dataset.from_tensor_slices((\n",
        "    dict(train_encoding),\n",
        "    df['sentiment']\n",
        "))\n",
        "val_dataset = tf.data.Dataset.from_tensor_slices((\n",
        "    dict(valid_encoding),\n",
        "    df_valid['sentiment']\n",
        "))\n",
        "test_dataset = tf.data.Dataset.from_tensor_slices((\n",
        "    dict(test_encoding),\n",
        "    df_test['sentiment']\n",
        "))"
      ],
      "execution_count": null,
      "outputs": []
    },
    {
      "cell_type": "code",
      "metadata": {
        "colab": {
          "base_uri": "https://localhost:8080/",
          "height": 223,
          "referenced_widgets": [
            "78274735f6d948829a6c274d33811b55",
            "1813974ddd3f4c3cb7b09a3f644f6a7c",
            "95649f3ba47d40ccbd16a2607f017cbc",
            "a7f8f725714b49da959f959b4d57bedd",
            "862e6f64eacc4296b932a68382403193",
            "239702e93bc64b0e96e5c4ef7fcdfc9e",
            "846579cdbdbe47299a93c5dbd5300f33",
            "0470202aeb324794a750a9f30b586a2e",
            "a8b0692170fc48a4a5f8ea1150457105",
            "9f1b6d4bd5a041ac995211169594d4af",
            "c8c7d189030a42bf8c14df99ec31b2c6",
            "af3398e65bcf4a29b0a3e62fdb191f58",
            "4c64041d4dee495abc1ab743a8930f26",
            "bfc722255b8f4045b0d1f0c7b53461b2",
            "d5637234fb5b40ef932c5ec479e88441",
            "736300e2cc5f430387f4fb79a2015570"
          ]
        },
        "id": "y3AgO1mEcQLG",
        "outputId": "827697d1-cf0c-4f51-8685-7380c3096ede"
      },
      "source": [
        "# Pre-training the Model\n",
        "from transformers import TFDistilBertForSequenceClassification, TFTrainer, TFTrainingArguments\n",
        "model = TFDistilBertForSequenceClassification.from_pretrained(\"distilbert-base-uncased\",num_labels=3)"
      ],
      "execution_count": null,
      "outputs": [
        {
          "output_type": "display_data",
          "data": {
            "application/vnd.jupyter.widget-view+json": {
              "model_id": "78274735f6d948829a6c274d33811b55",
              "version_minor": 0,
              "version_major": 2
            },
            "text/plain": [
              "HBox(children=(FloatProgress(value=0.0, description='Downloading', max=442.0, style=ProgressStyle(description_…"
            ]
          },
          "metadata": {
            "tags": []
          }
        },
        {
          "output_type": "stream",
          "text": [
            "\n"
          ],
          "name": "stdout"
        },
        {
          "output_type": "display_data",
          "data": {
            "application/vnd.jupyter.widget-view+json": {
              "model_id": "a8b0692170fc48a4a5f8ea1150457105",
              "version_minor": 0,
              "version_major": 2
            },
            "text/plain": [
              "HBox(children=(FloatProgress(value=0.0, description='Downloading', max=363423424.0, style=ProgressStyle(descri…"
            ]
          },
          "metadata": {
            "tags": []
          }
        },
        {
          "output_type": "stream",
          "text": [
            "\n"
          ],
          "name": "stdout"
        },
        {
          "output_type": "stream",
          "text": [
            "Some layers from the model checkpoint at distilbert-base-uncased were not used when initializing TFDistilBertForSequenceClassification: ['vocab_projector', 'vocab_layer_norm', 'vocab_transform', 'activation_13']\n",
            "- This IS expected if you are initializing TFDistilBertForSequenceClassification from the checkpoint of a model trained on another task or with another architecture (e.g. initializing a BertForSequenceClassification model from a BertForPreTraining model).\n",
            "- This IS NOT expected if you are initializing TFDistilBertForSequenceClassification from the checkpoint of a model that you expect to be exactly identical (initializing a BertForSequenceClassification model from a BertForSequenceClassification model).\n",
            "Some layers of TFDistilBertForSequenceClassification were not initialized from the model checkpoint at distilbert-base-uncased and are newly initialized: ['pre_classifier', 'dropout_19', 'classifier']\n",
            "You should probably TRAIN this model on a down-stream task to be able to use it for predictions and inference.\n"
          ],
          "name": "stderr"
        }
      ]
    },
    {
      "cell_type": "code",
      "metadata": {
        "colab": {
          "base_uri": "https://localhost:8080/"
        },
        "id": "rX5A0MNscTXK",
        "outputId": "32145afa-0ba9-4160-f6f0-873e3343193a"
      },
      "source": [
        "# Fine-tuning the model\n",
        "optimizer = tf.keras.optimizers.Adam(learning_rate=5e-5)\n",
        "model.compile(optimizer=optimizer, loss=model.compute_loss, metrics=['accuracy'])\n",
        "model.fit(train_dataset.shuffle(100).batch(16),\n",
        "          epochs=3,\n",
        "          batch_size=16,\n",
        "          validation_data=val_dataset.shuffle(100).batch(16))"
      ],
      "execution_count": null,
      "outputs": [
        {
          "output_type": "stream",
          "text": [
            "Epoch 1/3\n",
            "WARNING:tensorflow:The parameters `output_attentions`, `output_hidden_states` and `use_cache` cannot be updated when calling a model.They have to be set to True/False in the config object (i.e.: `config=XConfig.from_pretrained('name', output_attentions=True)`).\n",
            "WARNING:tensorflow:AutoGraph could not transform <bound method Socket.send of <zmq.sugar.socket.Socket object at 0x7f715f826d70>> and will run it as-is.\n",
            "Please report this to the TensorFlow team. When filing the bug, set the verbosity to 10 (on Linux, `export AUTOGRAPH_VERBOSITY=10`) and attach the full output.\n",
            "Cause: module, class, method, function, traceback, frame, or code object was expected, got cython_function_or_method\n",
            "To silence this warning, decorate the function with @tf.autograph.experimental.do_not_convert\n",
            "WARNING: AutoGraph could not transform <bound method Socket.send of <zmq.sugar.socket.Socket object at 0x7f715f826d70>> and will run it as-is.\n",
            "Please report this to the TensorFlow team. When filing the bug, set the verbosity to 10 (on Linux, `export AUTOGRAPH_VERBOSITY=10`) and attach the full output.\n",
            "Cause: module, class, method, function, traceback, frame, or code object was expected, got cython_function_or_method\n",
            "To silence this warning, decorate the function with @tf.autograph.experimental.do_not_convert\n",
            "WARNING:tensorflow:AutoGraph could not transform <function wrap at 0x7f717b0d1dd0> and will run it as-is.\n",
            "Cause: while/else statement not yet supported\n",
            "To silence this warning, decorate the function with @tf.autograph.experimental.do_not_convert\n",
            "WARNING: AutoGraph could not transform <function wrap at 0x7f717b0d1dd0> and will run it as-is.\n",
            "Cause: while/else statement not yet supported\n",
            "To silence this warning, decorate the function with @tf.autograph.experimental.do_not_convert\n",
            "WARNING:tensorflow:The parameter `return_dict` cannot be set in graph mode and will always be set to `True`.\n",
            "WARNING:tensorflow:From /usr/local/lib/python3.7/dist-packages/tensorflow/python/ops/array_ops.py:5049: calling gather (from tensorflow.python.ops.array_ops) with validate_indices is deprecated and will be removed in a future version.\n",
            "Instructions for updating:\n",
            "The `validate_indices` argument has no effect. Indices are always validated on CPU and never validated on GPU.\n",
            "WARNING:tensorflow:The parameters `output_attentions`, `output_hidden_states` and `use_cache` cannot be updated when calling a model.They have to be set to True/False in the config object (i.e.: `config=XConfig.from_pretrained('name', output_attentions=True)`).\n",
            "WARNING:tensorflow:The parameter `return_dict` cannot be set in graph mode and will always be set to `True`.\n",
            "186/187 [============================>.] - ETA: 0s - loss: 0.9359 - accuracy: 0.5655WARNING:tensorflow:The parameters `output_attentions`, `output_hidden_states` and `use_cache` cannot be updated when calling a model.They have to be set to True/False in the config object (i.e.: `config=XConfig.from_pretrained('name', output_attentions=True)`).\n",
            "WARNING:tensorflow:The parameter `return_dict` cannot be set in graph mode and will always be set to `True`.\n",
            "187/187 [==============================] - 84s 223ms/step - loss: 0.9359 - accuracy: 0.5657 - val_loss: 0.7393 - val_accuracy: 0.6720\n",
            "Epoch 2/3\n",
            "187/187 [==============================] - 42s 225ms/step - loss: 0.5747 - accuracy: 0.7669 - val_loss: 0.4883 - val_accuracy: 0.8126\n",
            "Epoch 3/3\n",
            "187/187 [==============================] - 44s 233ms/step - loss: 0.3387 - accuracy: 0.8801 - val_loss: 0.4439 - val_accuracy: 0.8380\n"
          ],
          "name": "stdout"
        },
        {
          "output_type": "execute_result",
          "data": {
            "text/plain": [
              "<tensorflow.python.keras.callbacks.History at 0x7f704cfa5fd0>"
            ]
          },
          "metadata": {
            "tags": []
          },
          "execution_count": 25
        }
      ]
    },
    {
      "cell_type": "code",
      "metadata": {
        "colab": {
          "base_uri": "https://localhost:8080/"
        },
        "id": "ycoGzjmbD6mT",
        "outputId": "15abe201-54a4-4ee7-bf25-7d269a6f243b"
      },
      "source": [
        "#Fine-tuning Model\n",
        "optimizer = tf.keras.optimizers.Adam(learning_rate=2e-5)\n",
        "model.compile(optimizer=optimizer, loss=model.compute_loss, metrics=['accuracy'])\n",
        "model.fit(train_dataset.shuffle(100).batch(32),\n",
        "          epochs=3,\n",
        "          batch_size=16,\n",
        "          validation_data=val_dataset.shuffle(100).batch(16))"
      ],
      "execution_count": null,
      "outputs": [
        {
          "output_type": "stream",
          "text": [
            "Epoch 1/3\n",
            "WARNING:tensorflow:The parameters `output_attentions`, `output_hidden_states` and `use_cache` cannot be updated when calling a model.They have to be set to True/False in the config object (i.e.: `config=XConfig.from_pretrained('name', output_attentions=True)`).\n",
            "WARNING:tensorflow:The parameter `return_dict` cannot be set in graph mode and will always be set to `True`.\n",
            "WARNING:tensorflow:The parameters `output_attentions`, `output_hidden_states` and `use_cache` cannot be updated when calling a model.They have to be set to True/False in the config object (i.e.: `config=XConfig.from_pretrained('name', output_attentions=True)`).\n",
            "WARNING:tensorflow:The parameter `return_dict` cannot be set in graph mode and will always be set to `True`.\n",
            "93/94 [============================>.] - ETA: 0s - loss: 0.1721 - accuracy: 0.9476WARNING:tensorflow:The parameters `output_attentions`, `output_hidden_states` and `use_cache` cannot be updated when calling a model.They have to be set to True/False in the config object (i.e.: `config=XConfig.from_pretrained('name', output_attentions=True)`).\n",
            "WARNING:tensorflow:The parameter `return_dict` cannot be set in graph mode and will always be set to `True`.\n",
            "94/94 [==============================] - 50s 452ms/step - loss: 0.1721 - accuracy: 0.9476 - val_loss: 0.4781 - val_accuracy: 0.8461\n",
            "Epoch 2/3\n",
            "94/94 [==============================] - 41s 433ms/step - loss: 0.1092 - accuracy: 0.9694 - val_loss: 0.5102 - val_accuracy: 0.8501\n",
            "Epoch 3/3\n",
            "94/94 [==============================] - 41s 432ms/step - loss: 0.0726 - accuracy: 0.9829 - val_loss: 0.5220 - val_accuracy: 0.8554\n"
          ],
          "name": "stdout"
        },
        {
          "output_type": "execute_result",
          "data": {
            "text/plain": [
              "<tensorflow.python.keras.callbacks.History at 0x7f704c4f8a50>"
            ]
          },
          "metadata": {
            "tags": []
          },
          "execution_count": 26
        }
      ]
    },
    {
      "cell_type": "code",
      "metadata": {
        "id": "V6bdzbT-cXc2"
      },
      "source": [
        " "
      ],
      "execution_count": null,
      "outputs": []
    },
    {
      "cell_type": "code",
      "metadata": {
        "colab": {
          "base_uri": "https://localhost:8080/"
        },
        "id": "QdU8Y9e3cgxQ",
        "outputId": "1f9a513f-2449-489b-fb31-a8c33540adce"
      },
      "source": [
        "# final accuracy of the model \n",
        "accuracy_score(label , df_test['sentiment'])"
      ],
      "execution_count": null,
      "outputs": [
        {
          "output_type": "execute_result",
          "data": {
            "text/plain": [
              "0.8262910798122066"
            ]
          },
          "metadata": {
            "tags": []
          },
          "execution_count": 28
        }
      ]
    },
    {
      "cell_type": "markdown",
      "metadata": {
        "id": "lqM2ulBy6vff"
      },
      "source": [
        "### ii. Aspect + Text"
      ]
    },
    {
      "cell_type": "code",
      "metadata": {
        "id": "nvNf-elh8VGl"
      },
      "source": [
        "# Combining Aspect + Text\n",
        "df['combined_text']=df['text']+df['aspect']\n",
        "df_valid['combined_text']=df_valid['text']+df_valid['aspect']\n",
        "df_test['combined_text']=df_test['text']+df_test['aspect']"
      ],
      "execution_count": null,
      "outputs": []
    },
    {
      "cell_type": "code",
      "metadata": {
        "id": "MFw6AA3l8w1M"
      },
      "source": [
        "# Tokenizing train, validation and test data \n",
        "train_encoding= tokenizer(df['combined_text'].tolist(), padding=\"max_length\",max_length=128, truncation=True)\n",
        "valid_encoding= tokenizer(df_valid['combined_text'].tolist(), padding=\"max_length\",max_length=128, truncation=True)\n",
        "test_encoding= tokenizer(df_test['combined_text'].tolist(), padding=\"max_length\",max_length=128, truncation=True)"
      ],
      "execution_count": null,
      "outputs": []
    },
    {
      "cell_type": "code",
      "metadata": {
        "id": "Lcshf7NL840k"
      },
      "source": [
        "## TensorFlow\n",
        "import tensorflow as tf\n",
        "\n",
        "# tokens to tensor slices\n",
        "train_dataset = tf.data.Dataset.from_tensor_slices((\n",
        "    dict(train_encoding),\n",
        "    df['sentiment']\n",
        "))\n",
        "val_dataset = tf.data.Dataset.from_tensor_slices((\n",
        "    dict(valid_encoding),\n",
        "    df_valid['sentiment']\n",
        "))\n",
        "test_dataset = tf.data.Dataset.from_tensor_slices((\n",
        "    dict(test_encoding),\n",
        "    df_test['sentiment']\n",
        "))"
      ],
      "execution_count": null,
      "outputs": []
    },
    {
      "cell_type": "code",
      "metadata": {
        "colab": {
          "base_uri": "https://localhost:8080/"
        },
        "id": "Cfxt5chK8-Ne",
        "outputId": "5f65c40d-044c-45ed-8fc9-830f085738f6"
      },
      "source": [
        "# fine-tuning the model\n",
        "optimizer = tf.keras.optimizers.Adam(learning_rate=5e-5)\n",
        "model.compile(optimizer=optimizer, loss=model.compute_loss, metrics=['accuracy'])\n",
        "model.fit(train_dataset.shuffle(100).batch(16),\n",
        "          epochs=3,\n",
        "          batch_size=16,\n",
        "          validation_data=val_dataset.shuffle(100).batch(16))"
      ],
      "execution_count": null,
      "outputs": [
        {
          "output_type": "stream",
          "text": [
            "Epoch 1/3\n",
            "WARNING:tensorflow:The parameters `output_attentions`, `output_hidden_states` and `use_cache` cannot be updated when calling a model.They have to be set to True/False in the config object (i.e.: `config=XConfig.from_pretrained('name', output_attentions=True)`).\n",
            "WARNING:tensorflow:The parameter `return_dict` cannot be set in graph mode and will always be set to `True`.\n",
            "WARNING:tensorflow:The parameters `output_attentions`, `output_hidden_states` and `use_cache` cannot be updated when calling a model.They have to be set to True/False in the config object (i.e.: `config=XConfig.from_pretrained('name', output_attentions=True)`).\n",
            "WARNING:tensorflow:The parameter `return_dict` cannot be set in graph mode and will always be set to `True`.\n",
            "187/187 [==============================] - ETA: 0s - loss: 0.1806 - accuracy: 0.9416WARNING:tensorflow:The parameters `output_attentions`, `output_hidden_states` and `use_cache` cannot be updated when calling a model.They have to be set to True/False in the config object (i.e.: `config=XConfig.from_pretrained('name', output_attentions=True)`).\n",
            "WARNING:tensorflow:The parameter `return_dict` cannot be set in graph mode and will always be set to `True`.\n",
            "187/187 [==============================] - 52s 236ms/step - loss: 0.1806 - accuracy: 0.9416 - val_loss: 0.6532 - val_accuracy: 0.8059\n",
            "Epoch 2/3\n",
            "187/187 [==============================] - 43s 230ms/step - loss: 0.0946 - accuracy: 0.9725 - val_loss: 0.6820 - val_accuracy: 0.8032\n",
            "Epoch 3/3\n",
            "187/187 [==============================] - 43s 228ms/step - loss: 0.0702 - accuracy: 0.9809 - val_loss: 0.7294 - val_accuracy: 0.8153\n"
          ],
          "name": "stdout"
        },
        {
          "output_type": "execute_result",
          "data": {
            "text/plain": [
              "<tensorflow.python.keras.callbacks.History at 0x7f700003e390>"
            ]
          },
          "metadata": {
            "tags": []
          },
          "execution_count": 34
        }
      ]
    },
    {
      "cell_type": "code",
      "metadata": {
        "id": "EH2fLn5a9FMh"
      },
      "source": [
        "#predicting values\n",
        "tf_batch = tokenizer(df_test['combined_text'].tolist(), max_length=128, padding=True, truncation=True, return_tensors='tf')\n",
        "tf_outputs = model(tf_batch)\n",
        "tf_predictions = tf.nn.softmax(tf_outputs[0], axis=-1)\n",
        "label = tf.argmax(tf_predictions, axis=1)\n",
        "label = label.numpy()"
      ],
      "execution_count": null,
      "outputs": []
    },
    {
      "cell_type": "code",
      "metadata": {
        "colab": {
          "base_uri": "https://localhost:8080/"
        },
        "id": "ok2jCfKP9MXY",
        "outputId": "1912863c-4dd1-42d5-aba8-a1ad9ba64222"
      },
      "source": [
        "# final Accuracy of aspect + text\n",
        "accuracy_score(label , df_test['sentiment'])"
      ],
      "execution_count": null,
      "outputs": [
        {
          "output_type": "execute_result",
          "data": {
            "text/plain": [
              "0.795439302481556"
            ]
          },
          "metadata": {
            "tags": []
          },
          "execution_count": 36
        }
      ]
    },
    {
      "cell_type": "code",
      "metadata": {
        "id": "M8wGNfOadRAZ"
      },
      "source": [
        ""
      ],
      "execution_count": null,
      "outputs": []
    }
  ]
}